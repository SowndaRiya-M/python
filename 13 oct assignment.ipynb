{
 "cells": [
  {
   "cell_type": "markdown",
   "metadata": {},
   "source": [
    "## TOM AND JERRY"
   ]
  },
  {
   "cell_type": "code",
   "execution_count": null,
   "metadata": {},
   "outputs": [],
   "source": [
    "'''\n",
    "tom=input()\n",
    "print(list(tom))\n",
    "tom1=list(tom)\n",
    "cherry=input()\n",
    "print(list(cherry))\n",
    "cherry1=list(cherry)\n",
    "s=\"\"\n",
    "for i in cherry1:\n",
    "    if i in tom1:\n",
    "        s=s+i\n",
    "comp=list(s)\n",
    "if comp==cherry1:\n",
    "    print(\"friends\")\n",
    "'''"
   ]
  },
  {
   "cell_type": "code",
   "execution_count": 6,
   "metadata": {},
   "outputs": [
    {
     "name": "stdout",
     "output_type": "stream",
     "text": [
      "1\n",
      "hjsh8734hjs\n",
      "8734h\n",
      "friends\n"
     ]
    }
   ],
   "source": [
    "no_of_input=int(input())\n",
    "i=0\n",
    "while i<no_of_input:\n",
    "    tom=input()\n",
    "    cherry=input()\n",
    "    tom1=list(tom)\n",
    "    cherry1=list(cherry)\n",
    "    tom_ref=list(tom)\n",
    "    if len(tom)>len(cherry):\n",
    "        for j in cherry:\n",
    "            tom_ref.remove(j)\n",
    "        for k in tom_ref:\n",
    "            tom1.remove(k)\n",
    "        if tom1==cherry1:\n",
    "            print(\"friends\")\n",
    "        else:\n",
    "            print(\"enemies:)))\")\n",
    "    i=i+1\n"
   ]
  },
  {
   "cell_type": "markdown",
   "metadata": {},
   "source": [
    " ### 3 - Closest Stores\n",
    " 1\n",
    " 1\n",
    "(5,5)\n",
    "2\n",
    "(1,6) (7,8)\n",
    "1\n",
    "(2,2)\n"
   ]
  },
  {
   "cell_type": "code",
   "execution_count": 20,
   "metadata": {},
   "outputs": [
    {
     "name": "stdout",
     "output_type": "stream",
     "text": [
      "1\n",
      "1\n",
      "5 5\n",
      "2\n",
      "1 6 7 8\n",
      "2 2\n",
      "distance1 is easy 12.488851938354607\n"
     ]
    }
   ],
   "source": [
    "import math\n",
    "no_of_input=int(input())\n",
    "starting_point=int(input())\n",
    "num_of_startpt=input()\n",
    "start= list(map(int,num_of_startpt.split()))\n",
    "noo=int(input())\n",
    "cloth=(input())\n",
    "cloth= list(map(int,cloth.split()))\n",
    "store=(input())\n",
    "store= list(map(int,store.split()))\n",
    "\n",
    "if noo==2:\n",
    "    dis1=math.sqrt((start[0]-cloth[0])**2+(start[1]-cloth[1])**2)\n",
    "    dis2=math.sqrt((cloth[0]-store[0])**2+(cloth[1]-store[1])**2)\n",
    "    dis3=math.sqrt((store[0]-start[0])**2+(store[1]-start[1])**2)\n",
    "    distance=dis1+dis2+dis3\n",
    "    dis4=math.sqrt((start[0]-cloth[2])**2+(start[1]-cloth[3])**2)\n",
    "    dis5=math.sqrt((cloth[2]-store[0])**2+(cloth[3]-store[1])**2)\n",
    "    dis6=math.sqrt((store[0]-start[0])**2+(store[1]-start[1])**2)\n",
    "    distance2=dis4+dis5+dis6\n",
    "\n",
    "if distance<distance2:\n",
    "    print(\"distance1 is easy\",distance)\n",
    "else:\n",
    "    print(\"follow another one distance 2\",distance2)\n",
    "\n",
    "\n"
   ]
  },
  {
   "cell_type": "code",
   "execution_count": 18,
   "metadata": {},
   "outputs": [
    {
     "ename": "TypeError",
     "evalue": "list expected at most 1 arguments, got 2",
     "output_type": "error",
     "traceback": [
      "\u001b[1;31m---------------------------------------------------------------------------\u001b[0m",
      "\u001b[1;31mTypeError\u001b[0m                                 Traceback (most recent call last)",
      "\u001b[1;32m<ipython-input-18-1b21d02c5435>\u001b[0m in \u001b[0;36m<module>\u001b[1;34m\u001b[0m\n\u001b[0;32m      1\u001b[0m \u001b[1;32mdef\u001b[0m \u001b[0mformula\u001b[0m\u001b[1;33m(\u001b[0m\u001b[0ma\u001b[0m\u001b[1;33m,\u001b[0m\u001b[0mb\u001b[0m\u001b[1;33m)\u001b[0m\u001b[1;33m:\u001b[0m\u001b[1;33m\u001b[0m\u001b[1;33m\u001b[0m\u001b[0m\n\u001b[0;32m      2\u001b[0m         \u001b[0mdis1\u001b[0m\u001b[1;33m=\u001b[0m\u001b[0mmath\u001b[0m\u001b[1;33m.\u001b[0m\u001b[0msqrt\u001b[0m\u001b[1;33m(\u001b[0m\u001b[1;33m(\u001b[0m\u001b[0ma\u001b[0m\u001b[1;33m[\u001b[0m\u001b[1;36m0\u001b[0m\u001b[1;33m]\u001b[0m\u001b[1;33m-\u001b[0m\u001b[0mb\u001b[0m\u001b[1;33m[\u001b[0m\u001b[1;36m0\u001b[0m\u001b[1;33m]\u001b[0m\u001b[1;33m)\u001b[0m\u001b[1;33m**\u001b[0m\u001b[1;36m2\u001b[0m\u001b[1;33m+\u001b[0m\u001b[1;33m(\u001b[0m\u001b[0ma\u001b[0m\u001b[1;33m[\u001b[0m\u001b[1;36m1\u001b[0m\u001b[1;33m]\u001b[0m\u001b[1;33m-\u001b[0m\u001b[0mb\u001b[0m\u001b[1;33m[\u001b[0m\u001b[1;36m1\u001b[0m\u001b[1;33m]\u001b[0m\u001b[1;33m)\u001b[0m\u001b[1;33m**\u001b[0m\u001b[1;36m2\u001b[0m\u001b[1;33m)\u001b[0m\u001b[1;33m\u001b[0m\u001b[1;33m\u001b[0m\u001b[0m\n\u001b[1;32m----> 3\u001b[1;33m \u001b[0mformula\u001b[0m\u001b[1;33m(\u001b[0m\u001b[0mlist\u001b[0m\u001b[1;33m(\u001b[0m\u001b[1;36m1\u001b[0m\u001b[1;33m,\u001b[0m\u001b[1;36m2\u001b[0m\u001b[1;33m)\u001b[0m\u001b[1;33m)\u001b[0m\u001b[1;33m\u001b[0m\u001b[1;33m\u001b[0m\u001b[0m\n\u001b[0m\u001b[0;32m      4\u001b[0m \u001b[1;33m\u001b[0m\u001b[0m\n",
      "\u001b[1;31mTypeError\u001b[0m: list expected at most 1 arguments, got 2"
     ]
    }
   ],
   "source": [
    "'''def formula(a,b,c,d):\n",
    "        dis1=math.sqrt((a[0]-b[0])**2+(a[1]-b[1])**2)\n",
    "formula(list(1,2))\n",
    "   ''' "
   ]
  },
  {
   "cell_type": "code",
   "execution_count": 32,
   "metadata": {},
   "outputs": [],
   "source": [
    "1\n",
    "1\n",
    "5 5\n",
    "2\n",
    "1 6 7 8\n",
    "2 2\n",
    "distance1 is easy\n",
    "Taking the first clothing store, (1,6) and the point (5,5) as starting points and \n",
    "(2,2) as the shoe                                  \n",
    "store, we get a total distance of 12.49.\n",
    "\n",
    "Taking the second clothing store (7,8) and the starting point as (5,5) and (2,2) \n",
    "as the shoe store,                                  \n",
    "we get a total distance of 15.66.\n",
    "Therefore, the minimum distance is 12.49\n",
    "\n",
    "'''\n",
    "import math\n",
    "list1=[5,6]\n",
    "list2=[6,7]\n",
    "def formula(list(list1),list(list2):\n",
    "    dis=math.sqrt((list1[0]-list2[0])**2+(list1[1]-list2[1])**2)\n",
    "    return dis\n",
    "formula()\n",
    "'''"
   ]
  },
  {
   "cell_type": "code",
   "execution_count": 33,
   "metadata": {},
   "outputs": [
    {
     "data": {
      "text/plain": [
       "1.4142135623730951"
      ]
     },
     "execution_count": 33,
     "metadata": {},
     "output_type": "execute_result"
    }
   ],
   "source": [
    "\n",
    "'''import math\n",
    "list1=[5,6]\n",
    "list2=[6,7]\n",
    "dis=math.sqrt((list1[0]-list2[0])**2+(list1[1]-list2[1])**2)\n",
    "dis'''"
   ]
  },
  {
   "cell_type": "code",
   "execution_count": null,
   "metadata": {},
   "outputs": [],
   "source": [
    "'''no_of_input=int(input())\n",
    "i=0\n",
    "while i<no_of_input:\n",
    "    start=[int(i) for i in input().split()]\n",
    "    cloth=int(input())\n",
    "    cloth1=[int(i) for i in input().split() for j in cloth]\n",
    "    store=int(input())\n",
    "    store1=[int(i) for i in input().split() for j in store]'''\n",
    "       "
   ]
  },
  {
   "cell_type": "code",
   "execution_count": 7,
   "metadata": {},
   "outputs": [
    {
     "name": "stdout",
     "output_type": "stream",
     "text": [
      "5 6 7 8\n"
     ]
    },
    {
     "data": {
      "text/plain": [
       "[5, 6, 7, 8]"
      ]
     },
     "execution_count": 7,
     "metadata": {},
     "output_type": "execute_result"
    }
   ],
   "source": [
    "cloth=(input())\n",
    "cloth= list(map(int,cloth.split()))\n",
    "cloth"
   ]
  },
  {
   "cell_type": "markdown",
   "metadata": {},
   "source": [
    "## Mario"
   ]
  },
  {
   "cell_type": "code",
   "execution_count": 22,
   "metadata": {},
   "outputs": [
    {
     "name": "stdout",
     "output_type": "stream",
     "text": [
      "intial_list [ 5  4 89 12 32 45]\n"
     ]
    },
    {
     "ename": "NameError",
     "evalue": "name 'diff' is not defined",
     "output_type": "error",
     "traceback": [
      "\u001b[1;31m---------------------------------------------------------------------------\u001b[0m",
      "\u001b[1;31mNameError\u001b[0m                                 Traceback (most recent call last)",
      "\u001b[1;32m<ipython-input-22-0391b7ff55b2>\u001b[0m in \u001b[0;36m<module>\u001b[1;34m\u001b[0m\n\u001b[0;32m     11\u001b[0m \u001b[1;33m\u001b[0m\u001b[0m\n\u001b[0;32m     12\u001b[0m \u001b[1;31m# Calculating difference list\u001b[0m\u001b[1;33m\u001b[0m\u001b[1;33m\u001b[0m\u001b[1;33m\u001b[0m\u001b[0m\n\u001b[1;32m---> 13\u001b[1;33m \u001b[0mdiff_list\u001b[0m \u001b[1;33m=\u001b[0m \u001b[0mdiff\u001b[0m\u001b[1;33m(\u001b[0m\u001b[0menumerate\u001b[0m\u001b[1;33m(\u001b[0m\u001b[0mini_list\u001b[0m\u001b[1;33m)\u001b[0m \u001b[1;33m)\u001b[0m\u001b[1;33m\u001b[0m\u001b[1;33m\u001b[0m\u001b[0m\n\u001b[0m\u001b[0;32m     14\u001b[0m \u001b[0mdiff_list\u001b[0m\u001b[1;33m\u001b[0m\u001b[1;33m\u001b[0m\u001b[0m\n",
      "\u001b[1;31mNameError\u001b[0m: name 'diff' is not defined"
     ]
    }
   ],
   "source": [
    "# Python code to demonstrate \n",
    "# to calculate difference \n",
    "# between adjacent elements in list \n",
    "\n",
    "import numpy as np \n",
    "# initialising _list \n",
    "ini_list = np.array([5, 4, 89, 12, 32, 45]) \n",
    "\n",
    "# printing iniial_list \n",
    "print(\"intial_list\", str(ini_list)) \n",
    "\n",
    "# Calculating difference list \n",
    "diff_list = diff(enumerate(ini_list) )\n",
    "diff_list"
   ]
  },
  {
   "cell_type": "code",
   "execution_count": 63,
   "metadata": {},
   "outputs": [
    {
     "name": "stdout",
     "output_type": "stream",
     "text": [
      "[0, 1, 2, 3, 4]\n",
      "1\n",
      "2\n",
      "3\n",
      "4\n"
     ]
    },
    {
     "ename": "IndexError",
     "evalue": "list index out of range",
     "output_type": "error",
     "traceback": [
      "\u001b[1;31m---------------------------------------------------------------------------\u001b[0m",
      "\u001b[1;31mIndexError\u001b[0m                                Traceback (most recent call last)",
      "\u001b[1;32m<ipython-input-63-359f151b13c7>\u001b[0m in \u001b[0;36m<module>\u001b[1;34m\u001b[0m\n\u001b[0;32m      6\u001b[0m \u001b[1;32mfor\u001b[0m \u001b[0mi\u001b[0m \u001b[1;32min\u001b[0m \u001b[0mrange\u001b[0m\u001b[1;33m(\u001b[0m\u001b[0mlen\u001b[0m\u001b[1;33m(\u001b[0m\u001b[0ms\u001b[0m\u001b[1;33m)\u001b[0m\u001b[1;33m)\u001b[0m\u001b[1;33m:\u001b[0m\u001b[1;33m\u001b[0m\u001b[1;33m\u001b[0m\u001b[0m\n\u001b[0;32m      7\u001b[0m     \u001b[1;32mfor\u001b[0m \u001b[0mj\u001b[0m \u001b[1;32min\u001b[0m \u001b[0mrange\u001b[0m\u001b[1;33m(\u001b[0m\u001b[0mlen\u001b[0m\u001b[1;33m(\u001b[0m\u001b[0ms\u001b[0m\u001b[1;33m)\u001b[0m\u001b[1;33m)\u001b[0m\u001b[1;33m:\u001b[0m\u001b[1;33m\u001b[0m\u001b[1;33m\u001b[0m\u001b[0m\n\u001b[1;32m----> 8\u001b[1;33m         \u001b[0mprint\u001b[0m\u001b[1;33m(\u001b[0m\u001b[0ms\u001b[0m\u001b[1;33m[\u001b[0m\u001b[0mi\u001b[0m\u001b[1;33m+\u001b[0m\u001b[0mj\u001b[0m\u001b[1;33m+\u001b[0m\u001b[1;36m1\u001b[0m\u001b[1;33m]\u001b[0m\u001b[1;33m-\u001b[0m\u001b[0ms\u001b[0m\u001b[1;33m[\u001b[0m\u001b[0mi\u001b[0m\u001b[1;33m]\u001b[0m\u001b[1;33m)\u001b[0m\u001b[1;33m\u001b[0m\u001b[1;33m\u001b[0m\u001b[0m\n\u001b[0m\u001b[0;32m      9\u001b[0m \u001b[1;33m\u001b[0m\u001b[0m\n",
      "\u001b[1;31mIndexError\u001b[0m: list index out of range"
     ]
    }
   ],
   "source": [
    "a=[6,7,3,3,6]\n",
    "s=[]\n",
    "for k,value in enumerate(a):\n",
    "    s.append(k)\n",
    "print(s)\n",
    "for i in range(len(s)):\n",
    "    for j in range(len(s)):\n",
    "        print(s[i+j+1]-s[i])\n",
    "   "
   ]
  },
  {
   "cell_type": "code",
   "execution_count": null,
   "metadata": {},
   "outputs": [],
   "source": [
    "a=[1,2,6,9]\n",
    "s=[]\n",
    "for i in range(len(a)):\n",
    "    for j in range(len(a)):\n",
    "        print(a[i]-a[i+j+1])\n",
    "   "
   ]
  }
 ],
 "metadata": {
  "kernelspec": {
   "display_name": "Python 3",
   "language": "python",
   "name": "python3"
  },
  "language_info": {
   "codemirror_mode": {
    "name": "ipython",
    "version": 3
   },
   "file_extension": ".py",
   "mimetype": "text/x-python",
   "name": "python",
   "nbconvert_exporter": "python",
   "pygments_lexer": "ipython3",
   "version": "3.7.6"
  }
 },
 "nbformat": 4,
 "nbformat_minor": 4
}
