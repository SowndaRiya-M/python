{
 "cells": [
  {
   "cell_type": "code",
   "execution_count": 18,
   "metadata": {},
   "outputs": [
    {
     "name": "stdout",
     "output_type": "stream",
     "text": [
      "['2', '3']\n"
     ]
    }
   ],
   "source": [
    "import re\n",
    "a=\"select 23 from *&\"\n",
    "pattern='([0-9a-zA-Z]+*)'\n",
    "search=re.findall(\"\\d\",a)\n",
    "print(search)"
   ]
  },
  {
   "cell_type": "code",
   "execution_count": 1,
   "metadata": {},
   "outputs": [
    {
     "data": {
      "text/html": [
       "<div>\n",
       "<style scoped>\n",
       "    .dataframe tbody tr th:only-of-type {\n",
       "        vertical-align: middle;\n",
       "    }\n",
       "\n",
       "    .dataframe tbody tr th {\n",
       "        vertical-align: top;\n",
       "    }\n",
       "\n",
       "    .dataframe thead th {\n",
       "        text-align: right;\n",
       "    }\n",
       "</style>\n",
       "<table border=\"1\" class=\"dataframe\">\n",
       "  <thead>\n",
       "    <tr style=\"text-align: right;\">\n",
       "      <th></th>\n",
       "      <th>name_of_city</th>\n",
       "      <th>state_code</th>\n",
       "      <th>state_name</th>\n",
       "      <th>dist_code</th>\n",
       "      <th>population_total</th>\n",
       "      <th>population_male</th>\n",
       "      <th>population_female</th>\n",
       "      <th>0-6_population_total</th>\n",
       "      <th>0-6_population_male</th>\n",
       "      <th>0-6_population_female</th>\n",
       "      <th>...</th>\n",
       "      <th>literates_female</th>\n",
       "      <th>sex_ratio</th>\n",
       "      <th>child_sex_ratio</th>\n",
       "      <th>effective_literacy_rate_total</th>\n",
       "      <th>effective_literacy_rate_male</th>\n",
       "      <th>effective_literacy_rate_female</th>\n",
       "      <th>location</th>\n",
       "      <th>total_graduates</th>\n",
       "      <th>male_graduates</th>\n",
       "      <th>female_graduates</th>\n",
       "    </tr>\n",
       "  </thead>\n",
       "  <tbody>\n",
       "    <tr>\n",
       "      <th>0</th>\n",
       "      <td>Abohar</td>\n",
       "      <td>3</td>\n",
       "      <td>PUNJAB</td>\n",
       "      <td>9</td>\n",
       "      <td>145238</td>\n",
       "      <td>76840</td>\n",
       "      <td>68398</td>\n",
       "      <td>15870</td>\n",
       "      <td>8587</td>\n",
       "      <td>7283</td>\n",
       "      <td>...</td>\n",
       "      <td>44972</td>\n",
       "      <td>890</td>\n",
       "      <td>848</td>\n",
       "      <td>79.86</td>\n",
       "      <td>85.49</td>\n",
       "      <td>73.59</td>\n",
       "      <td>30.1452928,74.1993043</td>\n",
       "      <td>16287</td>\n",
       "      <td>8612</td>\n",
       "      <td>7675</td>\n",
       "    </tr>\n",
       "    <tr>\n",
       "      <th>1</th>\n",
       "      <td>Achalpur</td>\n",
       "      <td>27</td>\n",
       "      <td>MAHARASHTRA</td>\n",
       "      <td>7</td>\n",
       "      <td>112293</td>\n",
       "      <td>58256</td>\n",
       "      <td>54037</td>\n",
       "      <td>11810</td>\n",
       "      <td>6186</td>\n",
       "      <td>5624</td>\n",
       "      <td>...</td>\n",
       "      <td>43086</td>\n",
       "      <td>928</td>\n",
       "      <td>909</td>\n",
       "      <td>91.99</td>\n",
       "      <td>94.77</td>\n",
       "      <td>89.00</td>\n",
       "      <td>21.257584,77.5086754</td>\n",
       "      <td>8863</td>\n",
       "      <td>5269</td>\n",
       "      <td>3594</td>\n",
       "    </tr>\n",
       "    <tr>\n",
       "      <th>2</th>\n",
       "      <td>Adilabad</td>\n",
       "      <td>28</td>\n",
       "      <td>ANDHRA PRADESH</td>\n",
       "      <td>1</td>\n",
       "      <td>117388</td>\n",
       "      <td>59232</td>\n",
       "      <td>58156</td>\n",
       "      <td>13103</td>\n",
       "      <td>6731</td>\n",
       "      <td>6372</td>\n",
       "      <td>...</td>\n",
       "      <td>37660</td>\n",
       "      <td>982</td>\n",
       "      <td>947</td>\n",
       "      <td>80.51</td>\n",
       "      <td>88.18</td>\n",
       "      <td>72.73</td>\n",
       "      <td>19.0809075,79.560344</td>\n",
       "      <td>10565</td>\n",
       "      <td>6797</td>\n",
       "      <td>3768</td>\n",
       "    </tr>\n",
       "    <tr>\n",
       "      <th>3</th>\n",
       "      <td>Adityapur</td>\n",
       "      <td>20</td>\n",
       "      <td>JHARKHAND</td>\n",
       "      <td>24</td>\n",
       "      <td>173988</td>\n",
       "      <td>91495</td>\n",
       "      <td>82493</td>\n",
       "      <td>23042</td>\n",
       "      <td>12063</td>\n",
       "      <td>10979</td>\n",
       "      <td>...</td>\n",
       "      <td>54515</td>\n",
       "      <td>902</td>\n",
       "      <td>910</td>\n",
       "      <td>83.46</td>\n",
       "      <td>89.98</td>\n",
       "      <td>76.23</td>\n",
       "      <td>22.7834741,86.1576889</td>\n",
       "      <td>19225</td>\n",
       "      <td>12189</td>\n",
       "      <td>7036</td>\n",
       "    </tr>\n",
       "    <tr>\n",
       "      <th>4</th>\n",
       "      <td>Adoni</td>\n",
       "      <td>28</td>\n",
       "      <td>ANDHRA PRADESH</td>\n",
       "      <td>21</td>\n",
       "      <td>166537</td>\n",
       "      <td>82743</td>\n",
       "      <td>83794</td>\n",
       "      <td>18406</td>\n",
       "      <td>9355</td>\n",
       "      <td>9051</td>\n",
       "      <td>...</td>\n",
       "      <td>45089</td>\n",
       "      <td>1013</td>\n",
       "      <td>968</td>\n",
       "      <td>68.38</td>\n",
       "      <td>76.58</td>\n",
       "      <td>60.33</td>\n",
       "      <td>15.6322227,77.2728368</td>\n",
       "      <td>11902</td>\n",
       "      <td>7871</td>\n",
       "      <td>4031</td>\n",
       "    </tr>\n",
       "    <tr>\n",
       "      <th>...</th>\n",
       "      <td>...</td>\n",
       "      <td>...</td>\n",
       "      <td>...</td>\n",
       "      <td>...</td>\n",
       "      <td>...</td>\n",
       "      <td>...</td>\n",
       "      <td>...</td>\n",
       "      <td>...</td>\n",
       "      <td>...</td>\n",
       "      <td>...</td>\n",
       "      <td>...</td>\n",
       "      <td>...</td>\n",
       "      <td>...</td>\n",
       "      <td>...</td>\n",
       "      <td>...</td>\n",
       "      <td>...</td>\n",
       "      <td>...</td>\n",
       "      <td>...</td>\n",
       "      <td>...</td>\n",
       "      <td>...</td>\n",
       "      <td>...</td>\n",
       "    </tr>\n",
       "    <tr>\n",
       "      <th>488</th>\n",
       "      <td>Vizianagaram</td>\n",
       "      <td>28</td>\n",
       "      <td>ANDHRA PRADESH</td>\n",
       "      <td>12</td>\n",
       "      <td>227533</td>\n",
       "      <td>111596</td>\n",
       "      <td>115937</td>\n",
       "      <td>20487</td>\n",
       "      <td>10495</td>\n",
       "      <td>9992</td>\n",
       "      <td>...</td>\n",
       "      <td>80306</td>\n",
       "      <td>1039</td>\n",
       "      <td>952</td>\n",
       "      <td>81.85</td>\n",
       "      <td>88.18</td>\n",
       "      <td>75.80</td>\n",
       "      <td>18.1066576,83.3955506</td>\n",
       "      <td>30656</td>\n",
       "      <td>19173</td>\n",
       "      <td>11483</td>\n",
       "    </tr>\n",
       "    <tr>\n",
       "      <th>489</th>\n",
       "      <td>Warangal</td>\n",
       "      <td>28</td>\n",
       "      <td>ANDHRA PRADESH</td>\n",
       "      <td>9</td>\n",
       "      <td>620116</td>\n",
       "      <td>310400</td>\n",
       "      <td>309716</td>\n",
       "      <td>55392</td>\n",
       "      <td>28434</td>\n",
       "      <td>26958</td>\n",
       "      <td>...</td>\n",
       "      <td>217136</td>\n",
       "      <td>998</td>\n",
       "      <td>948</td>\n",
       "      <td>84.16</td>\n",
       "      <td>91.54</td>\n",
       "      <td>76.79</td>\n",
       "      <td>17.9689008,79.5940544</td>\n",
       "      <td>109613</td>\n",
       "      <td>69507</td>\n",
       "      <td>40106</td>\n",
       "    </tr>\n",
       "    <tr>\n",
       "      <th>490</th>\n",
       "      <td>Wardha</td>\n",
       "      <td>27</td>\n",
       "      <td>MAHARASHTRA</td>\n",
       "      <td>8</td>\n",
       "      <td>105543</td>\n",
       "      <td>53241</td>\n",
       "      <td>52302</td>\n",
       "      <td>9754</td>\n",
       "      <td>5139</td>\n",
       "      <td>4615</td>\n",
       "      <td>...</td>\n",
       "      <td>43339</td>\n",
       "      <td>982</td>\n",
       "      <td>898</td>\n",
       "      <td>94.05</td>\n",
       "      <td>97.19</td>\n",
       "      <td>90.88</td>\n",
       "      <td>20.745319,78.6021946</td>\n",
       "      <td>19363</td>\n",
       "      <td>10645</td>\n",
       "      <td>8718</td>\n",
       "    </tr>\n",
       "    <tr>\n",
       "      <th>491</th>\n",
       "      <td>Yamunanagar</td>\n",
       "      <td>6</td>\n",
       "      <td>HARYANA</td>\n",
       "      <td>3</td>\n",
       "      <td>216628</td>\n",
       "      <td>115404</td>\n",
       "      <td>101224</td>\n",
       "      <td>22905</td>\n",
       "      <td>12556</td>\n",
       "      <td>10349</td>\n",
       "      <td>...</td>\n",
       "      <td>74255</td>\n",
       "      <td>877</td>\n",
       "      <td>824</td>\n",
       "      <td>85.91</td>\n",
       "      <td>89.61</td>\n",
       "      <td>81.71</td>\n",
       "      <td>30.1290485,77.2673901</td>\n",
       "      <td>29803</td>\n",
       "      <td>14349</td>\n",
       "      <td>15454</td>\n",
       "    </tr>\n",
       "    <tr>\n",
       "      <th>492</th>\n",
       "      <td>Yavatmal</td>\n",
       "      <td>27</td>\n",
       "      <td>MAHARASHTRA</td>\n",
       "      <td>14</td>\n",
       "      <td>116714</td>\n",
       "      <td>58717</td>\n",
       "      <td>57997</td>\n",
       "      <td>11081</td>\n",
       "      <td>5894</td>\n",
       "      <td>5187</td>\n",
       "      <td>...</td>\n",
       "      <td>46561</td>\n",
       "      <td>988</td>\n",
       "      <td>880</td>\n",
       "      <td>91.81</td>\n",
       "      <td>95.45</td>\n",
       "      <td>88.17</td>\n",
       "      <td>20.3887937,78.1204073</td>\n",
       "      <td>13511</td>\n",
       "      <td>7397</td>\n",
       "      <td>6114</td>\n",
       "    </tr>\n",
       "  </tbody>\n",
       "</table>\n",
       "<p>493 rows × 22 columns</p>\n",
       "</div>"
      ],
      "text/plain": [
       "      name_of_city  state_code      state_name  dist_code  population_total  \\\n",
       "0          Abohar            3          PUNJAB          9            145238   \n",
       "1        Achalpur           27     MAHARASHTRA          7            112293   \n",
       "2        Adilabad           28  ANDHRA PRADESH          1            117388   \n",
       "3       Adityapur           20       JHARKHAND         24            173988   \n",
       "4           Adoni           28  ANDHRA PRADESH         21            166537   \n",
       "..             ...         ...             ...        ...               ...   \n",
       "488  Vizianagaram           28  ANDHRA PRADESH         12            227533   \n",
       "489      Warangal           28  ANDHRA PRADESH          9            620116   \n",
       "490        Wardha           27     MAHARASHTRA          8            105543   \n",
       "491   Yamunanagar            6         HARYANA          3            216628   \n",
       "492      Yavatmal           27     MAHARASHTRA         14            116714   \n",
       "\n",
       "     population_male  population_female  0-6_population_total  \\\n",
       "0              76840              68398                 15870   \n",
       "1              58256              54037                 11810   \n",
       "2              59232              58156                 13103   \n",
       "3              91495              82493                 23042   \n",
       "4              82743              83794                 18406   \n",
       "..               ...                ...                   ...   \n",
       "488           111596             115937                 20487   \n",
       "489           310400             309716                 55392   \n",
       "490            53241              52302                  9754   \n",
       "491           115404             101224                 22905   \n",
       "492            58717              57997                 11081   \n",
       "\n",
       "     0-6_population_male  0-6_population_female  ...  literates_female  \\\n",
       "0                   8587                   7283  ...             44972   \n",
       "1                   6186                   5624  ...             43086   \n",
       "2                   6731                   6372  ...             37660   \n",
       "3                  12063                  10979  ...             54515   \n",
       "4                   9355                   9051  ...             45089   \n",
       "..                   ...                    ...  ...               ...   \n",
       "488                10495                   9992  ...             80306   \n",
       "489                28434                  26958  ...            217136   \n",
       "490                 5139                   4615  ...             43339   \n",
       "491                12556                  10349  ...             74255   \n",
       "492                 5894                   5187  ...             46561   \n",
       "\n",
       "     sex_ratio  child_sex_ratio  effective_literacy_rate_total  \\\n",
       "0          890              848                          79.86   \n",
       "1          928              909                          91.99   \n",
       "2          982              947                          80.51   \n",
       "3          902              910                          83.46   \n",
       "4         1013              968                          68.38   \n",
       "..         ...              ...                            ...   \n",
       "488       1039              952                          81.85   \n",
       "489        998              948                          84.16   \n",
       "490        982              898                          94.05   \n",
       "491        877              824                          85.91   \n",
       "492        988              880                          91.81   \n",
       "\n",
       "     effective_literacy_rate_male  effective_literacy_rate_female  \\\n",
       "0                           85.49                           73.59   \n",
       "1                           94.77                           89.00   \n",
       "2                           88.18                           72.73   \n",
       "3                           89.98                           76.23   \n",
       "4                           76.58                           60.33   \n",
       "..                            ...                             ...   \n",
       "488                         88.18                           75.80   \n",
       "489                         91.54                           76.79   \n",
       "490                         97.19                           90.88   \n",
       "491                         89.61                           81.71   \n",
       "492                         95.45                           88.17   \n",
       "\n",
       "                  location  total_graduates male_graduates  female_graduates  \n",
       "0    30.1452928,74.1993043            16287           8612              7675  \n",
       "1     21.257584,77.5086754             8863           5269              3594  \n",
       "2     19.0809075,79.560344            10565           6797              3768  \n",
       "3    22.7834741,86.1576889            19225          12189              7036  \n",
       "4    15.6322227,77.2728368            11902           7871              4031  \n",
       "..                     ...              ...            ...               ...  \n",
       "488  18.1066576,83.3955506            30656          19173             11483  \n",
       "489  17.9689008,79.5940544           109613          69507             40106  \n",
       "490   20.745319,78.6021946            19363          10645              8718  \n",
       "491  30.1290485,77.2673901            29803          14349             15454  \n",
       "492  20.3887937,78.1204073            13511           7397              6114  \n",
       "\n",
       "[493 rows x 22 columns]"
      ]
     },
     "execution_count": 1,
     "metadata": {},
     "output_type": "execute_result"
    }
   ],
   "source": [
    "import pandas as pd\n",
    "pd.read_csv('Indian_cities.csv')"
   ]
  },
  {
   "cell_type": "code",
   "execution_count": 10,
   "metadata": {},
   "outputs": [
    {
     "data": {
      "text/plain": [
       "20"
      ]
     },
     "execution_count": 10,
     "metadata": {},
     "output_type": "execute_result"
    }
   ],
   "source": [
    "class rectangle:\n",
    "    def __init__(self,length,breadth):\n",
    "        self.length=length\n",
    "        self.breadth=breadth\n",
    "    def info(self):\n",
    "        return self.length*self.breadth\n",
    "    \n",
    "area1=rectangle(4,5)\n",
    "\n",
    "area2=rectangle(6,7)\n",
    "area1.info()\n",
    "area2.info()"
   ]
  },
  {
   "cell_type": "code",
   "execution_count": 27,
   "metadata": {},
   "outputs": [
    {
     "name": "stdout",
     "output_type": "stream",
     "text": [
      "ram\n",
      "101\n",
      "proname client\n"
     ]
    }
   ],
   "source": [
    "class emp:\n",
    "    def __init__(self,ename,eid):\n",
    "        self.ename=ename\n",
    "        self.eid=eid\n",
    "class pro1(emp):\n",
    "    def details(self):\n",
    "        print(\"proname\",\"client\")\n",
    "emp_1=pro1('ram',101)\n",
    "print(emp_1.ename)\n",
    "print(emp_1.eid)\n",
    "emp_1.details()"
   ]
  },
  {
   "cell_type": "code",
   "execution_count": 20,
   "metadata": {},
   "outputs": [
    {
     "name": "stdout",
     "output_type": "stream",
     "text": [
      "son 24\n",
      "daddy 45\n",
      "grand 70\n"
     ]
    }
   ],
   "source": [
    "class grandpa:\n",
    "    def func_1(self):        \n",
    "        print('grand',70)\n",
    "class dad(grandpa):\n",
    "    def func_2(Self):\n",
    "        print('daddy',45)\n",
    "class son(dad):\n",
    "    def func_3(Self):\n",
    "        print('son',24)\n",
    "obj=son()\n",
    "obj.func_3()\n",
    "obj.func_2()\n",
    "obj.func_1()"
   ]
  },
  {
   "cell_type": "code",
   "execution_count": 21,
   "metadata": {},
   "outputs": [
    {
     "name": "stdout",
     "output_type": "stream",
     "text": [
      "son 24\n",
      "daddy 45\n"
     ]
    },
    {
     "ename": "AttributeError",
     "evalue": "'son' object has no attribute 'name'",
     "output_type": "error",
     "traceback": [
      "\u001b[1;31m---------------------------------------------------------------------------\u001b[0m",
      "\u001b[1;31mAttributeError\u001b[0m                            Traceback (most recent call last)",
      "\u001b[1;32m<ipython-input-21-6e39b9ced632>\u001b[0m in \u001b[0;36m<module>\u001b[1;34m\u001b[0m\n\u001b[0;32m     13\u001b[0m \u001b[0mobj\u001b[0m\u001b[1;33m.\u001b[0m\u001b[0mfunc_3\u001b[0m\u001b[1;33m(\u001b[0m\u001b[1;33m)\u001b[0m\u001b[1;33m\u001b[0m\u001b[1;33m\u001b[0m\u001b[0m\n\u001b[0;32m     14\u001b[0m \u001b[0mobj\u001b[0m\u001b[1;33m.\u001b[0m\u001b[0mfunc_2\u001b[0m\u001b[1;33m(\u001b[0m\u001b[1;33m)\u001b[0m\u001b[1;33m\u001b[0m\u001b[1;33m\u001b[0m\u001b[0m\n\u001b[1;32m---> 15\u001b[1;33m \u001b[0mobj\u001b[0m\u001b[1;33m.\u001b[0m\u001b[0mfunc_1\u001b[0m\u001b[1;33m(\u001b[0m\u001b[1;34m'ram'\u001b[0m\u001b[1;33m,\u001b[0m\u001b[1;36m101\u001b[0m\u001b[1;33m)\u001b[0m\u001b[1;33m\u001b[0m\u001b[1;33m\u001b[0m\u001b[0m\n\u001b[0m",
      "\u001b[1;32m<ipython-input-21-6e39b9ced632>\u001b[0m in \u001b[0;36mfunc_1\u001b[1;34m(self, name, age)\u001b[0m\n\u001b[0;32m      1\u001b[0m \u001b[1;32mclass\u001b[0m \u001b[0mgrandpa\u001b[0m\u001b[1;33m:\u001b[0m\u001b[1;33m\u001b[0m\u001b[1;33m\u001b[0m\u001b[0m\n\u001b[0;32m      2\u001b[0m     \u001b[1;32mdef\u001b[0m \u001b[0mfunc_1\u001b[0m\u001b[1;33m(\u001b[0m\u001b[0mself\u001b[0m\u001b[1;33m,\u001b[0m\u001b[0mname\u001b[0m\u001b[1;33m,\u001b[0m\u001b[0mage\u001b[0m\u001b[1;33m)\u001b[0m\u001b[1;33m:\u001b[0m\u001b[1;33m\u001b[0m\u001b[1;33m\u001b[0m\u001b[0m\n\u001b[1;32m----> 3\u001b[1;33m         \u001b[1;32mreturn\u001b[0m \u001b[0mself\u001b[0m\u001b[1;33m.\u001b[0m\u001b[0mname\u001b[0m\u001b[1;33m,\u001b[0m\u001b[0mself\u001b[0m\u001b[1;33m.\u001b[0m\u001b[0mage\u001b[0m\u001b[1;33m\u001b[0m\u001b[1;33m\u001b[0m\u001b[0m\n\u001b[0m\u001b[0;32m      4\u001b[0m \u001b[1;33m\u001b[0m\u001b[0m\n\u001b[0;32m      5\u001b[0m         \u001b[0mprint\u001b[0m\u001b[1;33m(\u001b[0m\u001b[1;34m'grand'\u001b[0m\u001b[1;33m,\u001b[0m\u001b[1;36m70\u001b[0m\u001b[1;33m)\u001b[0m\u001b[1;33m\u001b[0m\u001b[1;33m\u001b[0m\u001b[0m\n",
      "\u001b[1;31mAttributeError\u001b[0m: 'son' object has no attribute 'name'"
     ]
    }
   ],
   "source": [
    "class grandpa:\n",
    "    def func_1(self):        \n",
    "        print('grand',70)\n",
    "class dad(grandpa):\n",
    "    def func_2(Self):\n",
    "        print('daddy',45)\n",
    "class son(dad):\n",
    "    def func_3(Self):\n",
    "        print('son',24)\n",
    "obj=son()\n",
    "obj.func_3()\n",
    "obj.func_2()\n",
    "obj.func_1()"
   ]
  },
  {
   "cell_type": "code",
   "execution_count": 178,
   "metadata": {},
   "outputs": [
    {
     "name": "stdout",
     "output_type": "stream",
     "text": [
      "r\n",
      "i\n",
      "y\n",
      "a\n",
      "r\n",
      "a\n",
      "m\n"
     ]
    },
    {
     "data": {
      "text/plain": [
       "True"
      ]
     },
     "execution_count": 178,
     "metadata": {},
     "output_type": "execute_result"
    }
   ],
   "source": [
    "s=\"riyaram\"\n",
    "for i in s:\n",
    "    print(i)\n",
    "\"r\" in s"
   ]
  },
  {
   "cell_type": "code",
   "execution_count": 243,
   "metadata": {},
   "outputs": [
    {
     "name": "stdout",
     "output_type": "stream",
     "text": [
      "<class 'str'>\n",
      "10\n"
     ]
    }
   ],
   "source": [
    "s=(\"sowndariya\")\n",
    "print(type(s))\n",
    "a=(s.split(\",\"),\"E\")\n",
    "print(len(s))"
   ]
  },
  {
   "cell_type": "code",
   "execution_count": 212,
   "metadata": {},
   "outputs": [
    {
     "data": {
      "text/plain": [
       "'r123a123m'"
      ]
     },
     "execution_count": 212,
     "metadata": {},
     "output_type": "execute_result"
    }
   ],
   "source": [
    "a='123'\n",
    "b=\"ram\"\n",
    "c=a.join(b)\n",
    "c"
   ]
  },
  {
   "cell_type": "code",
   "execution_count": 244,
   "metadata": {},
   "outputs": [
    {
     "name": "stdout",
     "output_type": "stream",
     "text": [
      "ABd1234@1, a F1#,2w3E*,2We3345\n"
     ]
    },
    {
     "data": {
      "text/plain": [
       "['ABd1234@1', 'a F1#,2w3E*,2We3345']"
      ]
     },
     "execution_count": 244,
     "metadata": {},
     "output_type": "execute_result"
    }
   ],
   "source": [
    "c=input()\n",
    "str(c)\n",
    "d=c.split(\", \")\n",
    "d"
   ]
  },
  {
   "cell_type": "code",
   "execution_count": 180,
   "metadata": {},
   "outputs": [
    {
     "name": "stdout",
     "output_type": "stream",
     "text": [
      "ur name is sowndariya , ur age is 25\n"
     ]
    }
   ],
   "source": [
    "s=25\n",
    "name=\"sowndariya\"\n",
    "print(\"ur name is %s , ur age is %d\" % (name,s))"
   ]
  },
  {
   "cell_type": "code",
   "execution_count": 19,
   "metadata": {},
   "outputs": [
    {
     "name": "stdout",
     "output_type": "stream",
     "text": [
      "there,many,good,hearted,persons,in,this,world\n"
     ]
    }
   ],
   "source": [
    "import re\n",
    "r='there many good hearted persons in this world'\n",
    "search=re.sub('\\s',\",\",r)\n",
    "print(search)"
   ]
  },
  {
   "cell_type": "markdown",
   "metadata": {},
   "source": [
    "A website requires the users to input username and password to register. Write a program to check the validity of password input by users.\n",
    "Following are the criteria for checking the password:\n",
    "1. At least 1 letter between [a-z]\n",
    "2. At least 1 number between [0-9]\n",
    "1. At least 1 letter between [A-Z]\n",
    "3. At least 1 character from [$#@]\n",
    "4. Minimum length of transaction password: 6\n",
    "5. Maximum length of transaction password: 12\n",
    "Your program should accept a sequence of comma separated passwords and will check them according to the above criteria. Passwords that match the criteria are to be printed, each separated by a comma.\n",
    "Example\n",
    "If the following passwords are given as input to the program:\n",
    "ABd1234@1, a F1#,2w3E*,2We3345\n",
    "Then, the output of the program should be:ABd1234@1"
   ]
  },
  {
   "cell_type": "code",
   "execution_count": 240,
   "metadata": {},
   "outputs": [
    {
     "name": "stdout",
     "output_type": "stream",
     "text": [
      "ABd1234@1, a F1#,2w3E*,2We3345\n",
      "None\n"
     ]
    }
   ],
   "source": [
    "import re\n",
    "c=input()\n",
    "str(c)\n",
    "d=c.split(\",\")\n",
    "for i in d:\n",
    "    s=re.search(\"^(?=.*?[A-Z])(?=.*?[a-z])(?=.*?[0-9])(?=.*?[$#@]).{6,12}$\",i)\n",
    "print(s)\n",
    "    \n",
    "        \n",
    "   "
   ]
  },
  {
   "cell_type": "code",
   "execution_count": null,
   "metadata": {},
   "outputs": [],
   "source": []
  },
  {
   "cell_type": "code",
   "execution_count": 3,
   "metadata": {},
   "outputs": [
    {
     "name": "stdout",
     "output_type": "stream",
     "text": [
      "ABd1234@1,a F1#,2w3E*,2We3345\n",
      "ABd1234@1\n",
      "a F1#\n",
      "2w3E*\n",
      "2We3345\n"
     ]
    }
   ],
   "source": [
    "r=input().split(',')\n",
    "for i in r:\n",
    "    print(i)"
   ]
  },
  {
   "cell_type": "code",
   "execution_count": 159,
   "metadata": {},
   "outputs": [
    {
     "name": "stdout",
     "output_type": "stream",
     "text": [
      "as\n",
      "no\n"
     ]
    }
   ],
   "source": [
    "import re\n",
    "r=input().split(',')\n",
    "while True:\n",
    "    for i in r:\n",
    "        s=re.search(\"^[a-z0-9A-z$#@ +]{6,12}$\",i)\n",
    "        if i==s:\n",
    "            print(\"match\")\n",
    "        else:\n",
    "            print(\"no\")\n",
    "    break\n",
    "    "
   ]
  },
  {
   "cell_type": "code",
   "execution_count": 11,
   "metadata": {},
   "outputs": [
    {
     "name": "stdout",
     "output_type": "stream",
     "text": [
      "am\n",
      "gud\n"
     ]
    }
   ],
   "source": [
    "import re\n",
    "\n",
    "try:\n",
    "    r=input()\n",
    "    s=re.search(\"^[a-z0-9A-z$#@ +]{6,12}$\",r)\n",
    "    \n",
    "except IOError:\n",
    "    print(\"error\")\n",
    "else:\n",
    "    print(\"gud\")"
   ]
  },
  {
   "cell_type": "code",
   "execution_count": 3,
   "metadata": {},
   "outputs": [
    {
     "name": "stdout",
     "output_type": "stream",
     "text": [
      "ansman,agtr#45T,984397483hgh\n",
      "<re.Match object; span=(0, 12), match='984397483hgh'>\n"
     ]
    }
   ],
   "source": [
    "import re\n",
    "r=input().split(',')\n",
    "for i in r:\n",
    "    pattern=\"^[a-z0-9A-z$#@+]{6,12}$\"\n",
    "    s=re.search(pattern,i)\n",
    "print(s)"
   ]
  },
  {
   "cell_type": "code",
   "execution_count": 9,
   "metadata": {},
   "outputs": [
    {
     "name": "stdout",
     "output_type": "stream",
     "text": [
      "874837584\n",
      "<re.Match object; span=(0, 9), match='874837584'>\n"
     ]
    }
   ],
   "source": [
    "import re\n",
    "try:\n",
    "    r=input()\n",
    "    pattern=\"^[a-z0-9A-z$#@ +]{6,12}$\"\n",
    "    s=re.search(pattern,r)\n",
    "    print(s)\n",
    "except:\n",
    "    print(\"something wrong\")\n",
    "    "
   ]
  },
  {
   "cell_type": "code",
   "execution_count": 20,
   "metadata": {},
   "outputs": [
    {
     "name": "stdout",
     "output_type": "stream",
     "text": [
      "enter the no.of.rows:7\n",
      "1 \n",
      "3 2 \n",
      "4 5 6 7 \n",
      "15 14 13 12 11 10 9 8 \n",
      "16 17 18 19 20 21 22 23 24 25 26 27 28 29 30 31 \n",
      "63 62 61 60 59 58 57 56 55 54 53 52 51 50 49 48 47 46 45 44 43 42 41 40 39 38 37 36 35 34 33 32 \n",
      "64 65 66 67 68 69 70 71 72 73 74 75 76 77 78 79 80 81 82 83 84 85 86 87 88 89 90 91 92 93 94 95 96 97 98 99 100 101 102 103 104 105 106 107 108 109 110 111 112 113 114 115 116 117 118 119 120 121 122 123 124 125 126 127 \n"
     ]
    }
   ],
   "source": [
    "n=int(input(\"enter the no.of.rows:\"))\n",
    "count=1\n",
    "for i in range(0,n):\n",
    "    if i%2!=0:\n",
    "        rev=2*count-1\n",
    "        for j in range(0,2**i):\n",
    "            print(rev,end=\" \")\n",
    "            rev=rev-1\n",
    "            count=count+1\n",
    "    else:   \n",
    "        for j in range(0,2**i):\n",
    "            print(count,end=\" \")\n",
    "            count=count+1\n",
    "    print()\n"
   ]
  },
  {
   "cell_type": "code",
   "execution_count": 176,
   "metadata": {},
   "outputs": [
    {
     "name": "stdout",
     "output_type": "stream",
     "text": [
      "enter the temp in celsius:-6.33\n",
      "fahrenheit: 20.606\n",
      "freezing point\n"
     ]
    }
   ],
   "source": [
    "temp=eval(input(\"enter the temp in celsius:\"))\n",
    "f=9/5*temp+32\n",
    "print(\"fahrenheit:\",f)\n",
    "if f>212:\n",
    "    print(\"boiling point\")\n",
    "if f<32:\n",
    "    print( \"freezing point\")"
   ]
  },
  {
   "cell_type": "code",
   "execution_count": 177,
   "metadata": {},
   "outputs": [
    {
     "name": "stdout",
     "output_type": "stream",
     "text": [
      "*******************\n",
      "*******************\n",
      "*******************\n",
      "*******************\n"
     ]
    }
   ],
   "source": [
    "for i in range(0,4):\n",
    "    print(\"*******************\")"
   ]
  },
  {
   "cell_type": "code",
   "execution_count": 181,
   "metadata": {},
   "outputs": [
    {
     "name": "stdout",
     "output_type": "stream",
     "text": [
      "5\n",
      "*\n",
      "**\n",
      "***\n",
      "****\n"
     ]
    }
   ],
   "source": [
    "n=int(input())\n",
    "for i in range(1,n):\n",
    "    print(\"*\" *i)"
   ]
  },
  {
   "cell_type": "code",
   "execution_count": 226,
   "metadata": {},
   "outputs": [
    {
     "name": "stdout",
     "output_type": "stream",
     "text": [
      "512-282\n",
      "47.48+5\n",
      "4.382621951219512\n"
     ]
    }
   ],
   "source": [
    "#512 − 282/47·48+5\n",
    "a=eval(input())\n",
    "b=eval(input())\n",
    "print(a/b)"
   ]
  },
  {
   "cell_type": "markdown",
   "metadata": {},
   "source": [
    "Enter a number: 5\n",
    "The square of 5 is 25."
   ]
  },
  {
   "cell_type": "code",
   "execution_count": 236,
   "metadata": {},
   "outputs": [
    {
     "name": "stdout",
     "output_type": "stream",
     "text": [
      "Enter s number:5\n",
      " the square number is 25.\n"
     ]
    }
   ],
   "source": [
    "a=eval(input(\"Enter s number:\"))\n",
    "b=a*a\n",
    "print(\" the square number is \",b,'.', sep=\"\")"
   ]
  },
  {
   "cell_type": "markdown",
   "metadata": {},
   "source": [
    "Ask the user to enter a number x. Use the sep optional argument to print out x, 2x, 3x, 4x,\n",
    "and 5x, each separated by three dashes, like below.\n",
    "Enter a number: 7\n",
    "7---14---21---28---35"
   ]
  },
  {
   "cell_type": "code",
   "execution_count": 242,
   "metadata": {},
   "outputs": [
    {
     "name": "stdout",
     "output_type": "stream",
     "text": [
      "enter a number:7\n",
      "7---14---21---28---35\n"
     ]
    }
   ],
   "source": [
    "x=eval(input(\"enter a number:\"))\n",
    "print(x,2*x,3*x,4*x,5*x, sep=\"---\")"
   ]
  },
  {
   "cell_type": "markdown",
   "metadata": {},
   "source": [
    "Write a program that asks the user for a weight in kilograms and converts it to pounds. There\n",
    "are 2.2 pounds in a kilogram.\n"
   ]
  },
  {
   "cell_type": "code",
   "execution_count": 244,
   "metadata": {},
   "outputs": [
    {
     "name": "stdout",
     "output_type": "stream",
     "text": [
      "enter the i/p for conversion:36.5\n",
      "80.4825\n"
     ]
    }
   ],
   "source": [
    "wt=eval(input(\"enter the i/p for conversion:\"))\n",
    "pound=wt*2.205\n",
    "print(pound)"
   ]
  },
  {
   "cell_type": "markdown",
   "metadata": {},
   "source": [
    "Write a program that asks the user to enter three numbers (use three separate input statements). Create variables called total and average that hold the sum and average of the\n",
    "three numbers and print out the values of total and average"
   ]
  },
  {
   "cell_type": "code",
   "execution_count": 260,
   "metadata": {},
   "outputs": [
    {
     "name": "stdout",
     "output_type": "stream",
     "text": [
      "enter the first num:6\n",
      "enter the second num:3\n",
      "enter the third num:5\n",
      "14 4.666666666666667\n"
     ]
    }
   ],
   "source": [
    "a=eval(input(\"enter the first num:\"))\n",
    "b=eval(input(\"enter the second num:\"))\n",
    "c=eval(input(\"enter the third num:\"))\n",
    "total=a+b+c\n",
    "avg=(total/3)\n",
    "print(total,avg)"
   ]
  },
  {
   "cell_type": "markdown",
   "metadata": {},
   "source": [
    "A lot of cell phones have tip calculators. Write one. Ask the user for the price of the meal and\n",
    "the percent tip they want to leave. Then print both the tip amount and the total bill with the\n",
    "tip included."
   ]
  },
  {
   "cell_type": "code",
   "execution_count": 262,
   "metadata": {},
   "outputs": [
    {
     "name": "stdout",
     "output_type": "stream",
     "text": [
      "50\n",
      "enter tip in %:10\n",
      "55.0\n"
     ]
    }
   ],
   "source": [
    "mprice=eval(input())\n",
    "tip_per=eval(input(\"enter tip in %:\"))/100\n",
    "total=mprice+(mprice*tip_per)\n",
    "print(total)"
   ]
  },
  {
   "cell_type": "code",
   "execution_count": 25,
   "metadata": {},
   "outputs": [
    {
     "name": "stdout",
     "output_type": "stream",
     "text": [
      "A\n",
      "B\n",
      "C\n",
      "C\n",
      "C\n",
      "C\n",
      "C\n",
      "D\n",
      "D\n",
      "D\n",
      "D\n",
      "D\n",
      "E\n"
     ]
    }
   ],
   "source": [
    "print('A')\n",
    "print('B')\n",
    "for i in range(5):\n",
    "    print('C')\n",
    "for i in range(5):\n",
    "    print('D')\n",
    "print('E')"
   ]
  },
  {
   "cell_type": "code",
   "execution_count": 229,
   "metadata": {},
   "outputs": [
    {
     "data": {
      "text/plain": [
       "4.382621951219512"
      ]
     },
     "execution_count": 229,
     "metadata": {},
     "output_type": "execute_result"
    }
   ],
   "source": [
    "230/52.48"
   ]
  },
  {
   "cell_type": "code",
   "execution_count": 5,
   "metadata": {},
   "outputs": [
    {
     "name": "stdout",
     "output_type": "stream",
     "text": [
      "9\n",
      "*******************\n",
      "*                 *\n",
      "*                 *\n",
      "*                 *\n",
      "*                 *\n",
      "*                 *\n",
      "*                 *\n",
      "*                 *\n",
      "*******************\n"
     ]
    }
   ],
   "source": [
    "n=int(input())\n",
    "for i in range(0,1):\n",
    "    print(\"*******************\")\n",
    "for j in range(1,n-1):\n",
    "    print(\"*\"+\" \"*17+\"*\")\n",
    "print(\"*******************\")\n",
    "        \n",
    "        "
   ]
  },
  {
   "cell_type": "code",
   "execution_count": 275,
   "metadata": {},
   "outputs": [
    {
     "name": "stdout",
     "output_type": "stream",
     "text": [
      "5\n",
      "\n",
      "*\n",
      "**\n",
      "***\n",
      "****\n"
     ]
    }
   ],
   "source": [
    "n=int(input())\n",
    "for i in range(0,n):\n",
    "    print('*' * i)"
   ]
  },
  {
   "cell_type": "code",
   "execution_count": 23,
   "metadata": {},
   "outputs": [
    {
     "name": "stdout",
     "output_type": "stream",
     "text": [
      "5\n",
      "*****\n",
      "****\n",
      "***\n",
      "**\n",
      "*\n"
     ]
    }
   ],
   "source": [
    "n=int(input())\n",
    "for i in range(n,0,-1):\n",
    "    print('*' * i)"
   ]
  },
  {
   "cell_type": "code",
   "execution_count": null,
   "metadata": {},
   "outputs": [],
   "source": [
    "    *\n",
    "   ***\n",
    "  *****\n",
    " *******\n",
    "  *****\n",
    "   ***\n",
    "    *"
   ]
  },
  {
   "cell_type": "code",
   "execution_count": 61,
   "metadata": {},
   "outputs": [
    {
     "name": "stdout",
     "output_type": "stream",
     "text": [
      "     *\n",
      "    ***\n",
      "   *****\n",
      "  *******\n",
      " *********\n",
      "  *******\n",
      "   *****\n",
      "    ***\n",
      "     *\n"
     ]
    }
   ],
   "source": [
    "n=5\n",
    "for i in range(0,n):\n",
    "    print(\" \" * (n-i) + \"*\" * (2*i+1)  )\n",
    "for j in range(1,n):\n",
    "    print(\" \" * (j+1) + \"*\" *(n+(n-1)-2*j)) "
   ]
  },
  {
   "cell_type": "code",
   "execution_count": 11,
   "metadata": {},
   "outputs": [
    {
     "name": "stdout",
     "output_type": "stream",
     "text": [
      "     *\n",
      "    ***\n",
      "   *****\n",
      "  *******\n",
      " *********\n"
     ]
    }
   ],
   "source": [
    "n=5\n",
    "for i in range(0,n):\n",
    "    print(\" \" * (n-i) + \"*\" * (2*i+1)  )"
   ]
  },
  {
   "cell_type": "code",
   "execution_count": null,
   "metadata": {},
   "outputs": [],
   "source": [
    "Write a program that prints a giant letter A like the one below. Allow the user to specify how\n",
    "large the letter should be.\n",
    "    *\n",
    "   * *\n",
    "  *****\n",
    " *     *\n",
    "*       *"
   ]
  },
  {
   "cell_type": "code",
   "execution_count": 79,
   "metadata": {},
   "outputs": [
    {
     "name": "stdout",
     "output_type": "stream",
     "text": [
      "     *\n",
      "   *   *\n",
      "  *******\n",
      "   *\n"
     ]
    }
   ],
   "source": [
    "n=4\n",
    "for i in range(1,2):\n",
    "    print(\" \"*(n+1)+ \"*\"*i)\n",
    "for j in range(1,2):\n",
    "    print(\" \"*(n-1)+\"*\" * j+\" \"*(n-1)+ \"*\" *j)\n",
    "for k in range(1,2):\n",
    "    print(\" \"*(n-2)+\"*\" *(n+3))\n",
    "for l in range(1,2):\n",
    "    print(\" \"*(n-1)+\"*\")"
   ]
  },
  {
   "cell_type": "code",
   "execution_count": 99,
   "metadata": {},
   "outputs": [
    {
     "name": "stdout",
     "output_type": "stream",
     "text": [
      "     *\n",
      "   *   *\n",
      "  *******\n",
      " *       *\n",
      "*         *\n"
     ]
    }
   ],
   "source": [
    "n=4\n",
    "for i in range(1,2):\n",
    "    print(\" \"*(n+1)+ \"*\"*i)\n",
    "    print(\" \"*(n-1)+ \"*\" *i+\" \"*(n-1)+ \"*\" *i)\n",
    "    print(\" \"*(n-2)+\"*\" *(n+(n-1)))\n",
    "    print(\" \"*(n-3)+\"*\"*i+\" \"*7+\"*\"*i)\n",
    "    print(\"*\"*i+\" \"*9+\"*\"*i)"
   ]
  },
  {
   "cell_type": "code",
   "execution_count": 119,
   "metadata": {},
   "outputs": [
    {
     "name": "stdout",
     "output_type": "stream",
     "text": [
      "    *\n",
      "   * *\n",
      "  *****\n",
      " *     *\n",
      "*       *\n"
     ]
    }
   ],
   "source": [
    "n=4\n",
    "for i in range(1,2):\n",
    "    print(\" \"*(n)+ \"*\"*i)\n",
    "    print(\" \"*(n-1)+\"*\"*i+\" \"*i+\"*\"*i)\n",
    "    print(\" \"*(n-2)+\"*\"*(n+1))\n",
    "    print(\" \"*(n-3)+\"*\"*i+\" \"*(n+1)+\"*\"*i)\n",
    "    print(\"*\"*i+\" \"*(n+(n-1))+\"*\"*i)\n",
    "    "
   ]
  },
  {
   "cell_type": "code",
   "execution_count": null,
   "metadata": {},
   "outputs": [],
   "source": [
    "n=int(input())\n",
    "count=0\n",
    "for i in range(0,n):\n",
    "    "
   ]
  },
  {
   "cell_type": "code",
   "execution_count": 118,
   "metadata": {},
   "outputs": [
    {
     "name": "stdout",
     "output_type": "stream",
     "text": [
      "9\n",
      "10\n"
     ]
    }
   ],
   "source": [
    "team=int(input())\n",
    "player=team%10+1\n",
    "print(player)"
   ]
  },
  {
   "cell_type": "code",
   "execution_count": 24,
   "metadata": {},
   "outputs": [
    {
     "name": "stdout",
     "output_type": "stream",
     "text": [
      "ram ram ram ram ram ram ram ram ram ram ram ram ram ram ram ram ram ram ram ram ram ram ram ram ram ram ram ram ram ram ram ram ram ram ram ram ram ram ram ram ram ram ram ram ram ram ram ram ram ram ram ram ram ram ram ram ram ram ram ram ram ram ram ram ram ram ram ram ram ram ram ram ram ram ram ram ram ram ram ram ram ram ram ram ram ram ram ram ram ram ram ram ram ram ram ram ram ram ram ram "
     ]
    }
   ],
   "source": [
    "for i in range(100):\n",
    "    print(\"ram\",end=\" \")"
   ]
  },
  {
   "cell_type": "code",
   "execution_count": 279,
   "metadata": {},
   "outputs": [
    {
     "name": "stdout",
     "output_type": "stream",
     "text": [
      "0 sowndariya\n",
      "1 sowndariya\n",
      "2 sowndariya\n",
      "3 sowndariya\n",
      "4 sowndariya\n",
      "5 sowndariya\n",
      "6 sowndariya\n",
      "7 sowndariya\n",
      "8 sowndariya\n",
      "9 sowndariya\n",
      "10 sowndariya\n",
      "11 sowndariya\n",
      "12 sowndariya\n",
      "13 sowndariya\n",
      "14 sowndariya\n",
      "15 sowndariya\n",
      "16 sowndariya\n",
      "17 sowndariya\n",
      "18 sowndariya\n",
      "19 sowndariya\n",
      "20 sowndariya\n",
      "21 sowndariya\n",
      "22 sowndariya\n",
      "23 sowndariya\n",
      "24 sowndariya\n",
      "25 sowndariya\n",
      "26 sowndariya\n",
      "27 sowndariya\n",
      "28 sowndariya\n",
      "29 sowndariya\n",
      "30 sowndariya\n",
      "31 sowndariya\n",
      "32 sowndariya\n",
      "33 sowndariya\n",
      "34 sowndariya\n",
      "35 sowndariya\n",
      "36 sowndariya\n",
      "37 sowndariya\n",
      "38 sowndariya\n",
      "39 sowndariya\n",
      "40 sowndariya\n",
      "41 sowndariya\n",
      "42 sowndariya\n",
      "43 sowndariya\n",
      "44 sowndariya\n",
      "45 sowndariya\n",
      "46 sowndariya\n",
      "47 sowndariya\n",
      "48 sowndariya\n",
      "49 sowndariya\n",
      "50 sowndariya\n",
      "51 sowndariya\n",
      "52 sowndariya\n",
      "53 sowndariya\n",
      "54 sowndariya\n",
      "55 sowndariya\n",
      "56 sowndariya\n",
      "57 sowndariya\n",
      "58 sowndariya\n",
      "59 sowndariya\n",
      "60 sowndariya\n",
      "61 sowndariya\n",
      "62 sowndariya\n",
      "63 sowndariya\n",
      "64 sowndariya\n",
      "65 sowndariya\n",
      "66 sowndariya\n",
      "67 sowndariya\n",
      "68 sowndariya\n",
      "69 sowndariya\n",
      "70 sowndariya\n",
      "71 sowndariya\n",
      "72 sowndariya\n",
      "73 sowndariya\n",
      "74 sowndariya\n",
      "75 sowndariya\n",
      "76 sowndariya\n",
      "77 sowndariya\n",
      "78 sowndariya\n",
      "79 sowndariya\n",
      "80 sowndariya\n",
      "81 sowndariya\n",
      "82 sowndariya\n",
      "83 sowndariya\n",
      "84 sowndariya\n",
      "85 sowndariya\n",
      "86 sowndariya\n",
      "87 sowndariya\n",
      "88 sowndariya\n",
      "89 sowndariya\n",
      "90 sowndariya\n",
      "91 sowndariya\n",
      "92 sowndariya\n",
      "93 sowndariya\n",
      "94 sowndariya\n",
      "95 sowndariya\n",
      "96 sowndariya\n",
      "97 sowndariya\n",
      "98 sowndariya\n",
      "99 sowndariya\n",
      "100 sowndariya\n"
     ]
    }
   ],
   "source": [
    "for i in range(101):\n",
    "    print(i, \"sowndariya\")"
   ]
  },
  {
   "cell_type": "code",
   "execution_count": null,
   "metadata": {},
   "outputs": [],
   "source": [
    "Write a program that prints out a list of the integers from 1 to 20 and their squares. The output\n",
    "should look like this:\n",
    "1 --- 1\n",
    "2 --- 4\n",
    "3 --- 9\n",
    "...\n",
    "20 --- 400"
   ]
  },
  {
   "cell_type": "code",
   "execution_count": 280,
   "metadata": {},
   "outputs": [
    {
     "name": "stdout",
     "output_type": "stream",
     "text": [
      "1 --- 1\n",
      "2 --- 4\n",
      "3 --- 9\n",
      "4 --- 16\n",
      "5 --- 25\n",
      "6 --- 36\n",
      "7 --- 49\n",
      "8 --- 64\n",
      "9 --- 81\n",
      "10 --- 100\n",
      "11 --- 121\n",
      "12 --- 144\n",
      "13 --- 169\n",
      "14 --- 196\n",
      "15 --- 225\n",
      "16 --- 256\n",
      "17 --- 289\n",
      "18 --- 324\n",
      "19 --- 361\n",
      "20 --- 400\n"
     ]
    }
   ],
   "source": [
    "for i in range(1,21):\n",
    "    print(i,\"---\",i*i)"
   ]
  },
  {
   "cell_type": "code",
   "execution_count": null,
   "metadata": {},
   "outputs": [],
   "source": [
    "Write a program that uses a for loop to print the numbers 8, 11, 14, 17, 20, . . . , 83, 86, 89."
   ]
  },
  {
   "cell_type": "code",
   "execution_count": 282,
   "metadata": {},
   "outputs": [
    {
     "name": "stdout",
     "output_type": "stream",
     "text": [
      "8 11 14 17 20 23 26 29 32 35 38 41 44 47 50 53 56 59 62 65 68 71 74 77 80 83 86 89 "
     ]
    }
   ],
   "source": [
    "for i in range(8,90,3):\n",
    "    print(i,end=\" \")"
   ]
  },
  {
   "cell_type": "markdown",
   "metadata": {},
   "source": [
    "Write a program that uses a for loop to print the numbers 100, 98, 96, . . . , 4, 2."
   ]
  },
  {
   "cell_type": "code",
   "execution_count": 285,
   "metadata": {},
   "outputs": [
    {
     "name": "stdout",
     "output_type": "stream",
     "text": [
      "100 98 96 94 92 90 88 86 84 82 80 78 76 74 72 70 68 66 64 62 60 58 56 54 52 50 48 46 44 42 40 38 36 34 32 30 28 26 24 22 20 18 16 14 12 10 8 6 4 2 "
     ]
    }
   ],
   "source": [
    "for i in range(100,0,-2):\n",
    "    print(i,end=\" \")"
   ]
  },
  {
   "cell_type": "code",
   "execution_count": 290,
   "metadata": {},
   "outputs": [
    {
     "data": {
      "text/plain": [
       "11"
      ]
     },
     "execution_count": 290,
     "metadata": {},
     "output_type": "execute_result"
    }
   ],
   "source": [
    "a=\"AAAAAAAAAAA\"\n",
    "len(a)"
   ]
  },
  {
   "cell_type": "markdown",
   "metadata": {},
   "source": [
    "Write a program that uses exactly four for loops to print the sequence of letters below.\n",
    "AAAAAAAAAABBBBBBBCDCDCDCDEFFFFFFG"
   ]
  },
  {
   "cell_type": "code",
   "execution_count": 302,
   "metadata": {},
   "outputs": [
    {
     "name": "stdout",
     "output_type": "stream",
     "text": [
      "AAAAAAAAAABBBBBBBCDCDCDCDEFFFFFFG\n"
     ]
    }
   ],
   "source": [
    "for i in range(10):\n",
    "    print('A',end=\"\")\n",
    "print(\"B\"*(7),end=\"\")\n",
    "print('CD'*(4),end=\"\")   \n",
    "for j in range(1):\n",
    "    print('E',end=\"\")\n",
    "for k in range(6):\n",
    "    print('F',end=\"\")\n",
    "for l in range(1):\n",
    "    print('G')\n",
    "    "
   ]
  },
  {
   "cell_type": "markdown",
   "metadata": {},
   "source": [
    ". Write a program that asks the user for their name and how many times to print it. The program should print out the user’s name the specified number of times."
   ]
  },
  {
   "cell_type": "code",
   "execution_count": 304,
   "metadata": {},
   "outputs": [
    {
     "name": "stdout",
     "output_type": "stream",
     "text": [
      "enter ur name:soundaram\n",
      "no.of times u want to print:6\n",
      "soundaram\n",
      "soundaram\n",
      "soundaram\n",
      "soundaram\n",
      "soundaram\n",
      "soundaram\n"
     ]
    }
   ],
   "source": [
    "name=input(\"enter ur name:\")\n",
    "times=int(input(\"no.of times u want to print:\"))\n",
    "for i in range(0,times):\n",
    "    print(name)"
   ]
  },
  {
   "cell_type": "code",
   "execution_count": null,
   "metadata": {},
   "outputs": [],
   "source": [
    "The Fibonacci numbers are the sequence below, where the first two numbers are 1, and each\n",
    "number thereafter is the sum of the two preceding numbers. Write a program that asks the\n",
    "user how many Fibonacci numbers to print and then prints that many.\n",
    "1, 1, 2, 3, 5, 8, 13, 21, 34, 55, 89 . . ."
   ]
  },
  {
   "cell_type": "code",
   "execution_count": 22,
   "metadata": {},
   "outputs": [
    {
     "name": "stdout",
     "output_type": "stream",
     "text": [
      "5\n",
      "0 1 1 2 3 "
     ]
    }
   ],
   "source": [
    "n=int(input())\n",
    "f=0\n",
    "s=1\n",
    "for i in range(0,n):\n",
    "    if(i<=1):\n",
    "        nth=i\n",
    "    else:\n",
    "        nth=f+s\n",
    "        f=s\n",
    "        s=nth\n",
    "    print(nth,end=\" \")\n",
    "  "
   ]
  },
  {
   "cell_type": "code",
   "execution_count": 272,
   "metadata": {},
   "outputs": [
    {
     "name": "stdout",
     "output_type": "stream",
     "text": [
      "*\n",
      "**\n",
      "***\n",
      "****\n"
     ]
    }
   ],
   "source": [
    "for i in range(4):\n",
    "    print('*'*(i+1))\n"
   ]
  },
  {
   "cell_type": "code",
   "execution_count": 121,
   "metadata": {},
   "outputs": [
    {
     "name": "stdout",
     "output_type": "stream",
     "text": [
      "0.0\n",
      "3.34\n"
     ]
    }
   ],
   "source": [
    "from math import sin,cos,pi,tan\n",
    "print(sin(0))\n",
    "print(round(3.3444,2))"
   ]
  },
  {
   "cell_type": "code",
   "execution_count": null,
   "metadata": {},
   "outputs": [],
   "source": [
    "1. Write a program that generates and prints 50 random integers, each between 3 and 6."
   ]
  },
  {
   "cell_type": "code",
   "execution_count": 124,
   "metadata": {},
   "outputs": [
    {
     "name": "stdout",
     "output_type": "stream",
     "text": [
      "3\n",
      "4\n",
      "4\n",
      "6\n",
      "5\n",
      "5\n",
      "4\n",
      "5\n",
      "3\n",
      "4\n",
      "5\n",
      "4\n",
      "6\n",
      "3\n",
      "5\n",
      "5\n",
      "6\n",
      "4\n",
      "3\n",
      "5\n",
      "6\n",
      "5\n",
      "6\n",
      "6\n",
      "5\n",
      "6\n",
      "4\n",
      "3\n",
      "4\n",
      "3\n",
      "3\n",
      "5\n",
      "5\n",
      "3\n",
      "3\n",
      "4\n",
      "5\n",
      "3\n",
      "4\n",
      "4\n",
      "5\n",
      "3\n",
      "5\n",
      "5\n",
      "6\n",
      "3\n",
      "3\n",
      "5\n",
      "5\n",
      "4\n",
      "4\n"
     ]
    }
   ],
   "source": [
    "from random import randint\n",
    "for i in range(0,51):\n",
    "    x=randint(3,6)\n",
    "    print(x)"
   ]
  },
  {
   "cell_type": "markdown",
   "metadata": {},
   "source": [
    "Write a program that generates a random number, x, between 1 and 50, a random number y\n",
    "between 2 and 5, and computes x^y.\n",
    "\n"
   ]
  },
  {
   "cell_type": "code",
   "execution_count": 126,
   "metadata": {},
   "outputs": [
    {
     "name": "stdout",
     "output_type": "stream",
     "text": [
      "110592\n"
     ]
    }
   ],
   "source": [
    "from random import randint\n",
    "for i in range(0,1):\n",
    "    x=randint(1,50)\n",
    "    y=randint(2,5)\n",
    "    print(x**y)"
   ]
  },
  {
   "cell_type": "code",
   "execution_count": null,
   "metadata": {},
   "outputs": [],
   "source": [
    "Write a program that generates a random number between 1 and 10 and prints your name\n",
    "that many times."
   ]
  },
  {
   "cell_type": "code",
   "execution_count": 130,
   "metadata": {},
   "outputs": [
    {
     "name": "stdout",
     "output_type": "stream",
     "text": [
      "sowndariya\n",
      "sowndariya\n",
      "sowndariya\n",
      "sowndariya\n",
      "sowndariya\n"
     ]
    }
   ],
   "source": [
    "from random import randint\n",
    "x=randint(1,10)\n",
    "for i in range(1,x):\n",
    "    print(\"sowndariya\")"
   ]
  },
  {
   "cell_type": "code",
   "execution_count": null,
   "metadata": {},
   "outputs": [],
   "source": [
    "Write a program that generates a random decimal number between 1 and 10 with two decimal\n",
    "places of accuracy. Examples are 1.23, 3.45, 9.80, and 5.00."
   ]
  },
  {
   "cell_type": "code",
   "execution_count": 143,
   "metadata": {},
   "outputs": [
    {
     "name": "stdout",
     "output_type": "stream",
     "text": [
      "9.3 2.1 8.93 4.27 8.61 "
     ]
    }
   ],
   "source": [
    "import random\n",
    "for i in range(0,5):\n",
    "    x=random.uniform(1,10)\n",
    "    print(round(x,2),end=\" \")"
   ]
  },
  {
   "cell_type": "code",
   "execution_count": null,
   "metadata": {},
   "outputs": [],
   "source": [
    "Write a program that generates 50 random numbers such that the first number is between 1\n",
    "and 2, the second is between 1 and 3, the third is between 1 and 4, . . . , and the last is between\n",
    "1 and 51."
   ]
  },
  {
   "cell_type": "code",
   "execution_count": 151,
   "metadata": {},
   "outputs": [
    {
     "name": "stdout",
     "output_type": "stream",
     "text": [
      "1\n",
      "1\n",
      "3\n",
      "3\n",
      "4\n",
      "2\n",
      "6\n",
      "1\n",
      "6\n",
      "9\n",
      "2\n",
      "2\n",
      "6\n",
      "11\n",
      "1\n",
      "12\n",
      "9\n",
      "2\n",
      "1\n",
      "6\n",
      "15\n",
      "13\n",
      "13\n",
      "18\n",
      "20\n",
      "2\n",
      "19\n",
      "26\n",
      "1\n",
      "17\n",
      "17\n",
      "22\n",
      "20\n",
      "18\n",
      "6\n",
      "10\n",
      "22\n",
      "37\n",
      "29\n",
      "39\n",
      "35\n",
      "5\n",
      "18\n",
      "39\n",
      "34\n",
      "37\n",
      "22\n",
      "15\n",
      "19\n",
      "20\n",
      "50\n"
     ]
    }
   ],
   "source": [
    "import random\n",
    "for i in range(1,52):\n",
    "    x=randint(1,i)\n",
    "    print(x)\n"
   ]
  },
  {
   "cell_type": "code",
   "execution_count": 164,
   "metadata": {},
   "outputs": [
    {
     "name": "stdout",
     "output_type": "stream",
     "text": [
      "5\n",
      "8\n",
      "0.23076923076923078\n"
     ]
    }
   ],
   "source": [
    "#Write a program that asks the user to enter two numbers, x and y, and computes |x-y|/x+y\n",
    "import math\n",
    "x=int(input())\n",
    "y=int(input())\n",
    "compute=(abs(x-y)/(x+y))\n",
    "print(compute)\n"
   ]
  },
  {
   "cell_type": "code",
   "execution_count": null,
   "metadata": {},
   "outputs": [],
   "source": [
    "Write a program that asks the user to enter an angle between −180◦\n",
    "and 180◦. Using an expression with the modulo operator, convert the angle to its equivalent between 0◦and 360◦."
   ]
  },
  {
   "cell_type": "markdown",
   "metadata": {},
   "source": [
    "Write a program that asks the user for a number of seconds and prints out how many minutes\n",
    "and seconds that is. For instance, 200 seconds is 3 minutes and 20 seconds. [Hint: Use the //\n",
    "operator to get minutes and the % operator to get seconds.]"
   ]
  },
  {
   "cell_type": "code",
   "execution_count": 171,
   "metadata": {},
   "outputs": [
    {
     "name": "stdout",
     "output_type": "stream",
     "text": [
      "enter the no. of seconds:500\n",
      "min: 8 sec: 20\n"
     ]
    }
   ],
   "source": [
    "x=int(input(\"enter the no. of seconds:\"))\n",
    "sec=x%60\n",
    "min=x//60\n",
    "print(\"min:\", min,\"sec:\",sec)"
   ]
  },
  {
   "cell_type": "markdown",
   "metadata": {},
   "source": [
    "Write a program that asks the user for an hour between 1 and 12 and for how many hours in\n",
    "the future they want to go. Print out what the hour will be that many hours into the future.\n",
    "An example is shown below.\n",
    "Enter hour: 8    How many hours ahead? 5   New hour: 1 o'clock\n"
   ]
  },
  {
   "cell_type": "code",
   "execution_count": 179,
   "metadata": {},
   "outputs": [
    {
     "name": "stdout",
     "output_type": "stream",
     "text": [
      "enter the hour:8\n",
      "hrs ahead:8\n",
      "4\n"
     ]
    }
   ],
   "source": [
    "hrs=int(input(\"enter the hour:\"))\n",
    "ahead=int(input(\"hrs ahead:\"))\n",
    "new=hrs%12+ahead\n",
    "hrs12=new%12\n",
    "print(hrs12)"
   ]
  },
  {
   "cell_type": "markdown",
   "metadata": {},
   "source": [
    "10. \n",
    "(a) One way to find out the last digit of a number is to mod the number by 10. Write a\n",
    "program that asks the user to enter a power. Then find the last digit of 2 raised to that\n",
    "power.\n",
    "(b) One way to find out the last two digits of a number is to mod the number by 100. Write\n",
    "a program that asks the user to enter a power. Then find the last two digits of 2 raised to\n",
    "that power.\n",
    "(c) Write a program that asks the user to enter a power and how many digits they want.\n",
    "Find the last that many digits of 2 raised to the power the user entered.\n"
   ]
  },
  {
   "cell_type": "code",
   "execution_count": 182,
   "metadata": {},
   "outputs": [
    {
     "name": "stdout",
     "output_type": "stream",
     "text": [
      "568\n",
      "64\n",
      "4624\n"
     ]
    }
   ],
   "source": [
    "n=int(input())\n",
    "rem=n%10\n",
    "print(rem**2)\n",
    "\n",
    "rem1=n%100\n",
    "print(rem1**2)"
   ]
  },
  {
   "cell_type": "code",
   "execution_count": 9,
   "metadata": {},
   "outputs": [
    {
     "name": "stdout",
     "output_type": "stream",
     "text": [
      "234566\n",
      "1\n",
      "36\n"
     ]
    }
   ],
   "source": [
    "inn=int(input())\n",
    "digits=int(input())\n",
    "denom=10**digits\n",
    "print((inn%denom)**2)"
   ]
  },
  {
   "cell_type": "code",
   "execution_count": 187,
   "metadata": {},
   "outputs": [
    {
     "name": "stdout",
     "output_type": "stream",
     "text": [
      "5869\n",
      "1\n",
      "81\n"
     ]
    }
   ],
   "source": [
    "power=int(input())\n",
    "digits=int(input())\n",
    "denom=10**digits\n",
    "rem=power%denom\n",
    "print(rem**2)"
   ]
  },
  {
   "cell_type": "code",
   "execution_count": null,
   "metadata": {},
   "outputs": [],
   "source": [
    "Write a program that asks the user to enter a weight in kilograms. The program should\n",
    "convert it to pounds, printing the answer rounded to the nearest tenth of a pound."
   ]
  },
  {
   "cell_type": "code",
   "execution_count": 198,
   "metadata": {},
   "outputs": [
    {
     "name": "stdout",
     "output_type": "stream",
     "text": [
      "enter the weight in kg:36.5\n",
      "80.3\n"
     ]
    }
   ],
   "source": [
    "wt=eval(input(\"enter the weight in kg:\"))\n",
    "pound=wt*2.2\n",
    "print(round(pound,1))"
   ]
  },
  {
   "cell_type": "code",
   "execution_count": null,
   "metadata": {},
   "outputs": [],
   "source": [
    "Write a program that asks the user for a number and prints out the factorial of that number.\n"
   ]
  },
  {
   "cell_type": "code",
   "execution_count": 204,
   "metadata": {},
   "outputs": [
    {
     "name": "stdout",
     "output_type": "stream",
     "text": [
      "enter the number:5\n"
     ]
    },
    {
     "data": {
      "text/plain": [
       "120"
      ]
     },
     "execution_count": 204,
     "metadata": {},
     "output_type": "execute_result"
    }
   ],
   "source": [
    "import math\n",
    "n=int(input(\"enter the number:\"))\n",
    "math.factorial(n)\n"
   ]
  },
  {
   "cell_type": "code",
   "execution_count": 11,
   "metadata": {},
   "outputs": [
    {
     "data": {
      "text/plain": [
       "{1, 2, 3, 4, 43}"
      ]
     },
     "execution_count": 11,
     "metadata": {},
     "output_type": "execute_result"
    }
   ],
   "source": [
    "a=[1,2,3,43,4,3]\n",
    "ff=set()\n",
    "for i in a:\n",
    "    if i not in ff:\n",
    "        ff.add(i)\n",
    "ff\n",
    "    "
   ]
  },
  {
   "cell_type": "markdown",
   "metadata": {},
   "source": [
    "Write a program that asks the user for a number and then prints out the sine, cosine, and\n",
    "tangent of that number.\n"
   ]
  },
  {
   "cell_type": "code",
   "execution_count": 217,
   "metadata": {},
   "outputs": [
    {
     "name": "stdout",
     "output_type": "stream",
     "text": [
      "90\n",
      "0.8939966636005579\n",
      "-0.4480736161291701\n",
      "-1.995200412208242\n",
      "0.8939966636005579\n",
      "-0.4480736161291701\n",
      "-1.995200412208242\n"
     ]
    }
   ],
   "source": [
    "import math\n",
    "n=int(input())\n",
    "print(math.sin(n))\n",
    "print(math.cos(n))\n",
    "print(math.tan(n))"
   ]
  },
  {
   "cell_type": "code",
   "execution_count": null,
   "metadata": {},
   "outputs": [],
   "source": [
    "Write a program that asks the user to enter an angle in degrees and prints out the sine of that\n",
    "angle."
   ]
  },
  {
   "cell_type": "code",
   "execution_count": 223,
   "metadata": {},
   "outputs": [
    {
     "name": "stdout",
     "output_type": "stream",
     "text": [
      "90\n",
      "1.0\n"
     ]
    }
   ],
   "source": [
    "import math\n",
    "n=int(input())\n",
    "deg=math.radians(n)#to convert into deg\n",
    "print(math.sin(deg))"
   ]
  },
  {
   "cell_type": "markdown",
   "metadata": {},
   "source": [
    "Write a program that prints out the sine and cosine of the angles ranging from 0 to 345◦\n",
    "in\n",
    "15◦\n",
    "increments. Each result should be rounded to 4 decimal places. Sample output is shown\n",
    "below:\n",
    "0 --- 0.0 1.0\n",
    "15 --- 0.2588 0.9659\n",
    "30 --- 0.5 0.866\n",
    "...\n",
    "345 --- -0.2588 0.9659"
   ]
  },
  {
   "cell_type": "code",
   "execution_count": 227,
   "metadata": {},
   "outputs": [
    {
     "name": "stdout",
     "output_type": "stream",
     "text": [
      "0 --- 0.0 1.0\n",
      "15 --- 0.2588 0.9659\n",
      "30 --- 0.5 0.866\n",
      "45 --- 0.7071 0.7071\n",
      "60 --- 0.866 0.5\n",
      "75 --- 0.9659 0.2588\n",
      "90 --- 1.0 0.0\n",
      "105 --- 0.9659 -0.2588\n",
      "120 --- 0.866 -0.5\n",
      "135 --- 0.7071 -0.7071\n",
      "150 --- 0.5 -0.866\n",
      "165 --- 0.2588 -0.9659\n",
      "180 --- 0.0 -1.0\n",
      "195 --- -0.2588 -0.9659\n",
      "210 --- -0.5 -0.866\n",
      "225 --- -0.7071 -0.7071\n",
      "240 --- -0.866 -0.5\n",
      "255 --- -0.9659 -0.2588\n",
      "270 --- -1.0 -0.0\n",
      "285 --- -0.9659 0.2588\n",
      "300 --- -0.866 0.5\n",
      "315 --- -0.7071 0.7071\n",
      "330 --- -0.5 0.866\n"
     ]
    }
   ],
   "source": [
    "import math\n",
    "for i in range(0,345,15):\n",
    "    a=math.radians(i)\n",
    "    print(i, \"---\", round(sin(a),4),round(cos(a),4))\n",
    "    \n",
    "    "
   ]
  },
  {
   "cell_type": "markdown",
   "metadata": {},
   "source": [
    "Below is described how to find the date of Easter in any year. Despite its intimidating appearance, this is not a hard problem. Note that bxc is the floor function, which for positive numbers\n",
    "just drops the decimal part of the number. For instance b3.14c = 3. The floor function is part\n",
    "of the math module.\n",
    "C = century (1900’s → C = 19)\n",
    "Y = year (all four digits)\n",
    "m = (15 + C − b C4c − b 8C+1325 c) mod 30\n",
    "n = (4 + C − b C4c) mod 7\n",
    "a = Y mod 4\n",
    "b = Y mod 7\n",
    "c = Y mod 19\n",
    "d = (19c + m) mod 30\n",
    "e = (2a + 4b + 6d + n) mod 7\n",
    "Easter is either March (22+d +e) or April (d +e−9). There is an exception if d = 29 and e = 6.\n",
    "In this case, Easter falls one week earlier on April 19. There is another exception if d = 28,\n",
    "e = 6, and m = 2, 5, 10, 13, 16, 21, 24, or 39. In this case, Easter falls one week earlier on April\n",
    "18. Write a program that asks the user to enter a year and prints out the date of Easter in that\n",
    "year. (See Tattersall, Elementary Number Theory in Nine Chapters, 2nd ed., page 167)"
   ]
  },
  {
   "cell_type": "markdown",
   "metadata": {},
   "source": [
    "A year is a leap year if it is divisible by 4, except that years divisible by 100 are not leap years\n",
    "unless they are also divisible by 400. Ask the user to enter a year, and, using the // operator,\n",
    "determine how many leap years there have been between 1600 and that year"
   ]
  },
  {
   "cell_type": "code",
   "execution_count": 12,
   "metadata": {},
   "outputs": [
    {
     "name": "stdout",
     "output_type": "stream",
     "text": [
      "1947\n",
      "83\n"
     ]
    }
   ],
   "source": [
    "x=int(input())\n",
    "count=0\n",
    "for i in range(1600,x):\n",
    "    if((i%4==0) or (i%400==0))and(i%100!=0):\n",
    "        count+=1\n",
    "print(count)"
   ]
  },
  {
   "cell_type": "markdown",
   "metadata": {},
   "source": [
    "Write a program that given an amount of change less than $1.00 will print out exactly how many quarters, dimes, nickels, and pennies will be needed to efficiently make that change.[Hint: the // operator may be useful.]\n",
    "1 quarter = 25 cents\n",
    "1 dime = 10 cents\n",
    "1 nickel = 5 cents\n",
    "1 penny = 1 cent\n",
    "1 dollar=100 cent"
   ]
  },
  {
   "cell_type": "code",
   "execution_count": 23,
   "metadata": {},
   "outputs": [
    {
     "name": "stdout",
     "output_type": "stream",
     "text": [
      "4 10 20.0 100\n"
     ]
    }
   ],
   "source": [
    "a=100//25\n",
    "b=100//10\n",
    "c=100//5\n",
    "d=100//1\n",
    "print(a,b,c,d)"
   ]
  },
  {
   "cell_type": "code",
   "execution_count": null,
   "metadata": {},
   "outputs": [],
   "source": [
    "Write a program that draws “modular rectangles” like the ones below. The user specifies the\n",
    "width and height of the rectangle, and the entries start at 0 and increase typewriter fashion\n",
    "from left to right and top to bottom, but are all done mod 10. Below are examples of a 3 × 5\n",
    "rectangle and a 4 × 8.\n",
    "0 1 2 3 4\n",
    "5 6 7 8 9\n",
    "0 1 2 3 4\n",
    "\n",
    "0 1 2 3 4 5 6 7\n",
    "8 9 0 1 2 3 4 5\n",
    "6 7 8 9 0 1 2 3\n",
    "4 5 6 7 8 9 0 1\n",
    "h=int(input())\n",
    "w=int(input())"
   ]
  },
  {
   "cell_type": "code",
   "execution_count": 3,
   "metadata": {},
   "outputs": [
    {
     "name": "stdout",
     "output_type": "stream",
     "text": [
      "enter input:1\n",
      "you got it\n",
      "enter input:8\n",
      "you lost\n",
      "enter input:3\n",
      "you lost\n",
      "enter input:6\n",
      "you lost\n"
     ]
    }
   ],
   "source": [
    "from random import randint\n",
    "\n",
    "for i in range(1,5):\n",
    "    user=int(input(\"enter input:\"))\n",
    "    guess=randint(1,10)\n",
    "    if guess==user:\n",
    "        print(\"you got it\")\n",
    "    else:\n",
    "        print(\"you lost\")\n"
   ]
  },
  {
   "cell_type": "markdown",
   "metadata": {},
   "source": [
    "Write a program that asks the user to enter a length in centimeters. If the user enters a negative\n",
    "length, the program should tell the user that the entry is invalid. Otherwise, the program\n",
    "should convert the length to inches and print out the result. There are 2.54 centimeters in an\n",
    "inch.\n"
   ]
  },
  {
   "cell_type": "code",
   "execution_count": 6,
   "metadata": {},
   "outputs": [
    {
     "name": "stdout",
     "output_type": "stream",
     "text": [
      "enter length in cm:568\n",
      "len in inches: 1442.72 inches\n"
     ]
    }
   ],
   "source": [
    "len=eval(input(\"enter length in cm:\"))\n",
    "if len<1:\n",
    "    print(\"entry is invalid\")\n",
    "else:\n",
    "    print(\"len in inches:\",len*2.54,\"inches\")"
   ]
  },
  {
   "cell_type": "markdown",
   "metadata": {},
   "source": [
    "Ask the user for a temperature. Then ask them what units, Celsius or Fahrenheit, the temperature is in. Your program should convert the temperature to the other unit. The conversions\n",
    "are F =9/5C + 32 and C =5/9(F − 32)."
   ]
  },
  {
   "cell_type": "code",
   "execution_count": 4,
   "metadata": {},
   "outputs": [
    {
     "name": "stdout",
     "output_type": "stream",
     "text": [
      "enter temp:89.6\n",
      "enter f or c:c\n",
      "32.0\n"
     ]
    }
   ],
   "source": [
    "temp=eval(input(\"enter temp:\"))\n",
    "mode=input(\"enter f or c:\")\n",
    "if mode==\"f\":\n",
    "    F =(9/5)*temp+ 32\n",
    "    print(F)\n",
    "else:\n",
    "    C=(5/9)*(temp-32)\n",
    "    print(C)\n",
    "    "
   ]
  },
  {
   "cell_type": "markdown",
   "metadata": {},
   "source": [
    "Ask the user to enter a temperature in Celsius. The program should print a message based\n",
    "on the temperature:\n",
    "• If the temperature is less than -273.15, print that the temperature is invalid because it is\n",
    "below absolute zero.\n",
    "• If it is exactly -273.15, print that the temperature is absolute 0.\n",
    "• If the temperature is between -273.15 and 0, print that the temperature is below freezing.\n",
    "• If it is 0, print that the temperature is at the freezing point.\n",
    "• If it is between 0 and 100, print that the temperature is in the normal range.\n",
    "• If it is 100, print that the temperature is at the boiling point.\n",
    "• If it is above 100, print that the temperature is above the boiling point."
   ]
  },
  {
   "cell_type": "code",
   "execution_count": 20,
   "metadata": {},
   "outputs": [
    {
     "name": "stdout",
     "output_type": "stream",
     "text": [
      "enter temp in celsius:101\n",
      "temperature is above boiling point\n"
     ]
    }
   ],
   "source": [
    "temp=eval(input(\"enter temp in celsius:\"))\n",
    "if temp<-273.15:\n",
    "    print(\"temperature is invalid\")\n",
    "elif temp==-273.15:\n",
    "    print(\"temperature is absolute 0\")\n",
    "elif -273.15<temp<0:\n",
    "    print(\"temperature is below freezing\")\n",
    "elif temp==0:\n",
    "    print(\"temperature is freezing point\")\n",
    "elif 0<temp<100:\n",
    "    print(\"temperature is in normal range\")\n",
    "elif temp==100:\n",
    "    print(\"temperature is at boiling point\")\n",
    "elif temp>100:\n",
    "    print(\"temperature is above boiling point\")\n"
   ]
  },
  {
   "cell_type": "markdown",
   "metadata": {},
   "source": [
    "Write a program that asks the user how many credits they have taken. If they have taken 23\n",
    "or less, print that the student is a freshman. If they have taken between 24 and 53, print that\n",
    "they are a sophomore. The range for juniors is 54 to 83, and for seniors it is 84 and over."
   ]
  },
  {
   "cell_type": "code",
   "execution_count": 32,
   "metadata": {},
   "outputs": [
    {
     "name": "stdout",
     "output_type": "stream",
     "text": [
      "how many credits taken:89\n",
      "seniors\n"
     ]
    }
   ],
   "source": [
    "user=eval(input(\"how many credits taken:\"))\n",
    "if user<=23:\n",
    "    print(\"student is freshman\")\n",
    "elif 24<=user<=53:\n",
    "    print(\"sophomore\")\n",
    "elif 54<=user<=83:\n",
    "    print(\"juniors\")\n",
    "elif user>=84:\n",
    "    print(\"seniors\")"
   ]
  },
  {
   "cell_type": "markdown",
   "metadata": {},
   "source": [
    "A store charges $12 per item if you buy less than 10 items. If you buy between 10 and 99\n",
    "items, the cost is $10 per item. If you buy 100 or more items, the cost is $7 per item. Write a\n",
    "program that asks the user how many items they are buying and prints the total cost."
   ]
  },
  {
   "cell_type": "code",
   "execution_count": 35,
   "metadata": {},
   "outputs": [
    {
     "name": "stdout",
     "output_type": "stream",
     "text": [
      "enter the no.of.items:7\n",
      "84\n"
     ]
    }
   ],
   "source": [
    "item=eval(input(\"enter the no.of.items:\"))\n",
    "if item<10:\n",
    "    cost=item*12\n",
    "elif 10<=item<=99:\n",
    "    cost=item*10\n",
    "elif item>=100:\n",
    "    cost=item*7\n",
    "print(cost)"
   ]
  },
  {
   "cell_type": "markdown",
   "metadata": {},
   "source": [
    "Write a program that asks the user for two numbers and prints Close if the numbers are\n",
    "within .001 of each other and Not close otherwise."
   ]
  },
  {
   "cell_type": "code",
   "execution_count": 39,
   "metadata": {},
   "outputs": [
    {
     "name": "stdout",
     "output_type": "stream",
     "text": [
      "enter the num1:1\n",
      "enter the num2:0.00001\n",
      "close\n"
     ]
    }
   ],
   "source": [
    "num1=eval(input(\"enter the num1:\"))\n",
    "num2=eval(input(\"enter the num2:\"))\n",
    "if num1 and num2 < 0.001:\n",
    "    print(\"close\")\n",
    "else:\n",
    "    print(\"not close\")"
   ]
  },
  {
   "cell_type": "markdown",
   "metadata": {},
   "source": [
    "8. A year is a leap year if it is divisible by 4, except that years divisible by 100 are not leap years\n",
    "unless they are also divisible by 400. Write a program that asks the user for a year and prints\n",
    "out whether it is a leap year or not."
   ]
  },
  {
   "cell_type": "code",
   "execution_count": 58,
   "metadata": {},
   "outputs": [
    {
     "name": "stdout",
     "output_type": "stream",
     "text": [
      "enter the year:2004\n",
      "leap year\n"
     ]
    }
   ],
   "source": [
    "inp=eval(input(\"enter the year:\"))\n",
    "if (inp%4==0 or inp%400==0) and (inp%100!=0):\n",
    "    print(\"leap year\")\n",
    "else:\n",
    "    print(\"not leap year\")"
   ]
  },
  {
   "cell_type": "code",
   "execution_count": null,
   "metadata": {},
   "outputs": [],
   "source": [
    "Write a program that asks the user to enter a number and prints out all the divisors of that\n",
    "number. [Hint: the % operator is used to tell if a number is divisible by something.]"
   ]
  },
  {
   "cell_type": "code",
   "execution_count": 8,
   "metadata": {},
   "outputs": [
    {
     "name": "stdout",
     "output_type": "stream",
     "text": [
      "enter the number44\n",
      "1\n",
      "2\n",
      "4\n",
      "11\n",
      "22\n"
     ]
    }
   ],
   "source": [
    "user=eval(input(\"enter the number\"))\n",
    "for i in range(1,user):\n",
    "    if(user%i==0):\n",
    "        print(i)\n",
    "  \n"
   ]
  },
  {
   "cell_type": "markdown",
   "metadata": {},
   "source": [
    "Write a multiplication game program for kids. The program should give the player ten randomly generated multiplication questions to do. After each, the program should tell them\n",
    "whether they got it right or wrong and what the correct answer is.\n",
    "Question 1: 3 x 4 = 12\n",
    "Right!\n",
    "Question 2: 8 x 6 = 44\n",
    "Wrong. The answer is 48.\n",
    "...\n",
    "...\n",
    "Question 10: 7 x 7 = 49\n",
    "Right.\n"
   ]
  },
  {
   "cell_type": "code",
   "execution_count": 45,
   "metadata": {},
   "outputs": [
    {
     "name": "stdout",
     "output_type": "stream",
     "text": [
      "question 1 :\n",
      "2 * 1 =\n",
      "2\n",
      "right!\n",
      "question 2 :\n",
      "7 * 4 =\n",
      "2\n",
      "wrong.. 7 * 4 = 28\n",
      "question 3 :\n",
      "6 * 9 =\n",
      "54\n",
      "right!\n",
      "question 4 :\n",
      "4 * 5 =\n",
      "20\n",
      "right!\n",
      "question 5 :\n",
      "4 * 4 =\n",
      "16\n",
      "right!\n",
      "question 6 :\n",
      "1 * 10 =\n",
      "10\n",
      "right!\n",
      "question 7 :\n",
      "2 * 10 =\n",
      "23\n",
      "wrong.. 2 * 10 = 20\n",
      "question 8 :\n",
      "5 * 4 =\n",
      "8\n",
      "wrong.. 5 * 4 = 20\n",
      "question 9 :\n",
      "6 * 3 =\n",
      "45\n",
      "wrong.. 6 * 3 = 18\n",
      "question 10 :\n",
      "10 * 7 =\n",
      "69\n",
      "wrong.. 10 * 7 = 70\n"
     ]
    },
    {
     "data": {
      "text/plain": [
       "\"\\nnum_right = 0\\n# Question 1\\nprint('What is the capital of France?', end=' ')\\nguess = input()\\nif guess.lower()=='paris':\\nprint('Correct!')\\nnum_right+=1\\nelse:\\nprint('Wrong. The answer is Paris.')\\nprint('You have', num_right, 'out of 1 right')\\n#Question 2\\nprint('Which state has only one neighbor?', end=' ')\\nguess = input()\\nif guess.lower()=='maine':\\nprint('Correct!')\\nnum_right+=1\\nelse:\\nprint('Wrong. The answer is Maine.')\\nprint('You have', num_right, 'out of 2 right,')\\n\""
      ]
     },
     "execution_count": 45,
     "metadata": {},
     "output_type": "execute_result"
    }
   ],
   "source": [
    "from random import randint\n",
    "for i in range(1,11):\n",
    "    print(\"question\",i,\":\")\n",
    "    i=randint(1,10)\n",
    "    j=randint(1,10)\n",
    "    print(i,\"*\",j,\"=\")\n",
    "    a=int(input())\n",
    "    b=i*j   \n",
    "    if(a==b):\n",
    "        print(\"right!\")\n",
    "    else:\n",
    "        print(\"wrong..\",end=\" \")\n",
    "        print(i,\"*\",j,\"=\",b)\n"
   ]
  },
  {
   "cell_type": "markdown",
   "metadata": {},
   "source": [
    "Write a program that asks the user for an hour between 1 and 12, asks them to enter am or pm,\n",
    "and asks them how many hours into the future they want to go. Print out what the hour will\n",
    "be that many hours into the future, printing am or pm as appropriate. An example is shown\n",
    "below.\n",
    "Enter hour: 8\n",
    "am (1) or pm (2)? 1\n",
    "How many hours ahead? 5\n",
    "New hour: 1 pm"
   ]
  },
  {
   "cell_type": "code",
   "execution_count": 12,
   "metadata": {},
   "outputs": [
    {
     "name": "stdout",
     "output_type": "stream",
     "text": [
      "enter hour between 1 and 12:11\n",
      "ahead hr: 2\n",
      "enter am(1) or pm(2)?1\n",
      "1 am\n"
     ]
    }
   ],
   "source": [
    "hour=int(input(\"enter hour between 1 and 12:\"))\n",
    "ahead=int(input(\"ahead hr: \"))\n",
    "ap=input(\"enter am(1) or pm(2)?\")\n",
    "time=hour%12+ahead\n",
    "new_time=time//12\n",
    "if ap==\"1\":\n",
    "    print(new_time, \"am\")\n",
    "elif ap==\"2\":\n",
    "    print(new_time, \"pm\")"
   ]
  },
  {
   "cell_type": "code",
   "execution_count": 14,
   "metadata": {},
   "outputs": [
    {
     "name": "stdout",
     "output_type": "stream",
     "text": [
      "Enter a number: 6\n",
      "Enter a number: 8\n",
      "Enter a number: 9\n",
      "Enter a number: 11\n",
      "Enter a number: 12\n",
      "Enter a number: 13\n",
      "Enter a number: 5\n",
      "Enter a number: 9\n",
      "Enter a number: 15\n",
      "Enter a number: 19\n",
      "There are 5 numbers greater than 10.\n"
     ]
    }
   ],
   "source": [
    "count = 0\n",
    "for i in range(10):\n",
    "    num = eval(input('Enter a number: '))\n",
    "    if num>10:\n",
    "        count=count+1\n",
    "print('There are', count, 'numbers greater than 10.')"
   ]
  },
  {
   "cell_type": "code",
   "execution_count": 15,
   "metadata": {},
   "outputs": [
    {
     "name": "stdout",
     "output_type": "stream",
     "text": [
      "1\n",
      "3\n",
      "6\n",
      "10\n",
      "15\n",
      "21\n",
      "28\n",
      "36\n",
      "45\n"
     ]
    }
   ],
   "source": [
    "s=0\n",
    "for i in range(1,10):\n",
    "    s=s+i\n",
    "print(s)"
   ]
  },
  {
   "cell_type": "code",
   "execution_count": 19,
   "metadata": {},
   "outputs": [
    {
     "name": "stdout",
     "output_type": "stream",
     "text": [
      "1\n",
      "2\n",
      "3\n",
      "4\n",
      "5\n",
      "7\n",
      "8\n",
      "9\n",
      "6\n",
      "4\n",
      "4.9\n"
     ]
    }
   ],
   "source": [
    "s=0\n",
    "for i in range(0,10):\n",
    "    num=int(input())\n",
    "    s=s+num\n",
    "print(s/10)"
   ]
  },
  {
   "cell_type": "code",
   "execution_count": 65,
   "metadata": {},
   "outputs": [
    {
     "name": "stdout",
     "output_type": "stream",
     "text": [
      "enter the number:8\n",
      " not prime\n"
     ]
    }
   ],
   "source": [
    "num = eval(input(\"enter the number:\"))\n",
    "flag = 0\n",
    "\n",
    "\n",
    "for i in range(2,num):\n",
    "    if num%i==0:\n",
    "        flag = 1\n",
    "\n",
    "        \n",
    "if flag==1:\n",
    "    print(\" not prime\")\n",
    "else:\n",
    "    print(\"prime\")     "
   ]
  },
  {
   "cell_type": "code",
   "execution_count": 199,
   "metadata": {},
   "outputs": [
    {
     "data": {
      "text/plain": [
       "['__doc__',\n",
       " '__loader__',\n",
       " '__name__',\n",
       " '__package__',\n",
       " '__spec__',\n",
       " 'acos',\n",
       " 'acosh',\n",
       " 'asin',\n",
       " 'asinh',\n",
       " 'atan',\n",
       " 'atan2',\n",
       " 'atanh',\n",
       " 'ceil',\n",
       " 'copysign',\n",
       " 'cos',\n",
       " 'cosh',\n",
       " 'degrees',\n",
       " 'e',\n",
       " 'erf',\n",
       " 'erfc',\n",
       " 'exp',\n",
       " 'expm1',\n",
       " 'fabs',\n",
       " 'factorial',\n",
       " 'floor',\n",
       " 'fmod',\n",
       " 'frexp',\n",
       " 'fsum',\n",
       " 'gamma',\n",
       " 'gcd',\n",
       " 'hypot',\n",
       " 'inf',\n",
       " 'isclose',\n",
       " 'isfinite',\n",
       " 'isinf',\n",
       " 'isnan',\n",
       " 'ldexp',\n",
       " 'lgamma',\n",
       " 'log',\n",
       " 'log10',\n",
       " 'log1p',\n",
       " 'log2',\n",
       " 'modf',\n",
       " 'nan',\n",
       " 'pi',\n",
       " 'pow',\n",
       " 'radians',\n",
       " 'remainder',\n",
       " 'sin',\n",
       " 'sinh',\n",
       " 'sqrt',\n",
       " 'tan',\n",
       " 'tanh',\n",
       " 'tau',\n",
       " 'trunc']"
      ]
     },
     "execution_count": 199,
     "metadata": {},
     "output_type": "execute_result"
    }
   ],
   "source": [
    "import math\n",
    "dir(math)"
   ]
  },
  {
   "cell_type": "code",
   "execution_count": 167,
   "metadata": {},
   "outputs": [
    {
     "name": "stdout",
     "output_type": "stream",
     "text": [
      "num1:3*45+2\n",
      "num2:2\n",
      "sum of two numbers: 139\n"
     ]
    }
   ],
   "source": [
    "num1=eval(input(\"num1:\"))\n",
    "num2=eval(input(\"num2:\"))\n",
    "print(\"sum of two numbers:\", num1+num2)\n"
   ]
  },
  {
   "cell_type": "code",
   "execution_count": 172,
   "metadata": {},
   "outputs": [
    {
     "name": "stdout",
     "output_type": "stream",
     "text": [
      "The value of 3+4 is 7 .\n",
      "The value of 3+4 is ?7?.\n"
     ]
    }
   ],
   "source": [
    "print ('The value of 3+4 is', 3+4, '.')\n",
    "print ('The value of 3+4 is ', 3+4, '.', sep='')"
   ]
  },
  {
   "cell_type": "code",
   "execution_count": 59,
   "metadata": {},
   "outputs": [
    {
     "name": "stdout",
     "output_type": "stream",
     "text": [
      "8\n",
      "100\n",
      "99\n",
      "1001\n",
      "1111111\n",
      "1111111\n"
     ]
    }
   ],
   "source": [
    "largest=eval(input())\n",
    "for i in range(1,5):\n",
    "    num=int(input())\n",
    "    if num>largest:\n",
    "        largest=num\n",
    "print(largest)"
   ]
  },
  {
   "cell_type": "code",
   "execution_count": 70,
   "metadata": {},
   "outputs": [
    {
     "name": "stdout",
     "output_type": "stream",
     "text": [
      "Enter number: 6\n",
      "2 1\n",
      "3 1\n"
     ]
    }
   ],
   "source": [
    "flag = 0\n",
    "num = eval(input('Enter number: '))\n",
    "for i in range(2,num):\n",
    "    if num%i==0:\n",
    "        flag = 1\n",
    "        print(i, flag)"
   ]
  },
  {
   "cell_type": "code",
   "execution_count": 87,
   "metadata": {},
   "outputs": [
    {
     "name": "stdout",
     "output_type": "stream",
     "text": [
      "riya\n",
      "riya\n",
      "riya\n",
      "riya\n",
      "riya\n",
      "riya\n",
      "ram\n",
      "ram\n",
      "ram\n",
      "ram\n",
      "ram\n",
      "ram\n",
      "ram\n",
      "ram\n"
     ]
    }
   ],
   "source": [
    "from random import randint\n",
    "x=randint(1,10)\n",
    "for i in range(x):\n",
    "    print(\"riya\")\n",
    "for i in range(randint(5,25)):\n",
    "    print(\"ram\")"
   ]
  },
  {
   "cell_type": "markdown",
   "metadata": {},
   "source": [
    "write a program that generates 10000 random numbers between 1 and 100 and\n",
    "counts how many of them are multiples of 12."
   ]
  },
  {
   "cell_type": "code",
   "execution_count": 130,
   "metadata": {},
   "outputs": [
    {
     "name": "stdout",
     "output_type": "stream",
     "text": [
      "784\n"
     ]
    }
   ],
   "source": [
    "count=0\n",
    "for i in range(1,10000):\n",
    "    x=randint(1,100)\n",
    "    if x%12==0:\n",
    "        count+=1\n",
    "print(count)"
   ]
  },
  {
   "cell_type": "code",
   "execution_count": null,
   "metadata": {},
   "outputs": [],
   "source": [
    "Write a program that counts how many of the squares of the numbers from 1 to 100 end in a\n",
    "1."
   ]
  },
  {
   "cell_type": "code",
   "execution_count": 153,
   "metadata": {},
   "outputs": [
    {
     "name": "stdout",
     "output_type": "stream",
     "text": [
      "20\n"
     ]
    }
   ],
   "source": [
    "count=0\n",
    "for i in range(1,100):\n",
    "    if(i**2)%10==1:\n",
    "        count=count+1\n",
    "print(count)"
   ]
  },
  {
   "cell_type": "markdown",
   "metadata": {},
   "source": [
    "Write a program that counts how many of the squares of the numbers from 1 to 100 end in a\n",
    "4 and how many end in a 9.\n"
   ]
  },
  {
   "cell_type": "code",
   "execution_count": 157,
   "metadata": {},
   "outputs": [
    {
     "name": "stdout",
     "output_type": "stream",
     "text": [
      "20 20\n"
     ]
    }
   ],
   "source": [
    "count1=0\n",
    "count2=0\n",
    "for i in range(1,100):\n",
    "    if(i**2)%10==4:\n",
    "        count1+=1\n",
    "    if(i**2)%10==9:\n",
    "        count2+=1\n",
    "print(count1,count2)"
   ]
  },
  {
   "cell_type": "code",
   "execution_count": 158,
   "metadata": {},
   "outputs": [
    {
     "name": "stdout",
     "output_type": "stream",
     "text": [
      "Enter a letter: a\n",
      "Enter a letter: e\n",
      "Enter a letter: g\n",
      "Enter a letter: f\n",
      "Enter a letter: d\n",
      "Enter a letter: d\n",
      "Enter a letter: d\n",
      "Enter a letter: d\n",
      "Enter a letter: e\n",
      "Enter a letter: w\n",
      "aee\n"
     ]
    }
   ],
   "source": [
    "s = ''\n",
    "for i in range(10):\n",
    "    t = input('Enter a letter: ')\n",
    "    if t=='a' or t=='e' or t=='i' or t=='o' or t=='u':\n",
    "        s = s + t\n",
    "print(s)\n"
   ]
  },
  {
   "cell_type": "code",
   "execution_count": 162,
   "metadata": {},
   "outputs": [],
   "source": [
    "s=\"sowndariya\"\n",
    "if not \"ri\" in s:\n",
    "    print(\"cool\")"
   ]
  },
  {
   "cell_type": "code",
   "execution_count": 170,
   "metadata": {},
   "outputs": [
    {
     "name": "stdout",
     "output_type": "stream",
     "text": [
      "s  o  w  n  d  a  r  i  y  a  "
     ]
    }
   ],
   "source": [
    "s=\"sowndariya\"\n",
    "for i in s:\n",
    "    print(i,end=\"  \")"
   ]
  },
  {
   "cell_type": "code",
   "execution_count": 184,
   "metadata": {},
   "outputs": [
    {
     "name": "stdout",
     "output_type": "stream",
     "text": [
      "1owndariya\n",
      "1OWNDARIYA\n",
      "1owndaRiya\n",
      "5\n",
      "2\n"
     ]
    },
    {
     "data": {
      "text/plain": [
       "False"
      ]
     },
     "execution_count": 184,
     "metadata": {},
     "output_type": "execute_result"
    }
   ],
   "source": [
    "s=\"1owndariya\"\n",
    "print(s.lower())\n",
    "print(s.upper())\n",
    "print(s.replace('r','R'))\n",
    "print(s.index(r))\n",
    "print(s.count('a'))\n",
    "s1=\"sow1225\"\n",
    "s1.isalpha()"
   ]
  },
  {
   "cell_type": "code",
   "execution_count": 180,
   "metadata": {},
   "outputs": [
    {
     "name": "stdout",
     "output_type": "stream",
     "text": [
      "5\n"
     ]
    }
   ],
   "source": [
    "if 'a' in s:\n",
    "    loc=s.index('a')\n",
    "print(loc)"
   ]
  },
  {
   "cell_type": "code",
   "execution_count": 189,
   "metadata": {},
   "outputs": [
    {
     "name": "stdout",
     "output_type": "stream",
     "text": [
      "\n",
      "\n",
      "\n",
      "\n",
      "\n",
      "\n",
      "\n",
      "\n",
      "\n",
      "\n",
      "hi\n"
     ]
    }
   ],
   "source": [
    "print('\\n' *9)#to get empty lines\n",
    "print(\"hi\")"
   ]
  },
  {
   "cell_type": "code",
   "execution_count": 185,
   "metadata": {},
   "outputs": [
    {
     "name": "stdout",
     "output_type": "stream",
     "text": [
      "Your string contains a non-letter.\n"
     ]
    }
   ],
   "source": [
    "if s[0].isalpha():\n",
    "    print('Your string starts with a letter')\n",
    "if not s.isalpha():\n",
    "    print('Your string contains a non-letter.')"
   ]
  },
  {
   "cell_type": "code",
   "execution_count": 170,
   "metadata": {},
   "outputs": [
    {
     "name": "stdout",
     "output_type": "stream",
     "text": [
      " blo c k 2\n",
      " blo c k 1\n",
      " blo c k 0\n"
     ]
    }
   ],
   "source": [
    "x = 1\n",
    "if x :\n",
    "    # i f x i s t r u e\n",
    "    y = 2\n",
    "    if y :\n",
    "        # i f y i s t r u e\n",
    "        print (\" blo c k 2\")\n",
    "    print (\" blo c k 1\")\n",
    "print (\" blo c k 0\")"
   ]
  },
  {
   "cell_type": "code",
   "execution_count": 27,
   "metadata": {},
   "outputs": [
    {
     "name": "stdout",
     "output_type": "stream",
     "text": [
      "12\n"
     ]
    }
   ],
   "source": [
    "1, 1, 1, 1, 1, 0, 0, 0, 1, 1, 0, 0, 0, 1, 0, 0, 1, 1, 0, 0"
   ]
  },
  {
   "cell_type": "code",
   "execution_count": null,
   "metadata": {},
   "outputs": [],
   "source": [
    "11111000110 0010 01100"
   ]
  },
  {
   "cell_type": "code",
   "execution_count": 172,
   "metadata": {},
   "outputs": [
    {
     "name": "stdout",
     "output_type": "stream",
     "text": [
      "a dead parrot\n",
      "a dead parrot\n"
     ]
    }
   ],
   "source": [
    "print(\"a %s parrot\" % 'dead')\n",
    "print( \"a {0} parrot\".format(\"dead\"))"
   ]
  },
  {
   "cell_type": "code",
   "execution_count": 1,
   "metadata": {},
   "outputs": [
    {
     "data": {
      "text/plain": [
       "datetime.datetime(2020, 7, 22, 12, 44, 51, 522377)"
      ]
     },
     "execution_count": 1,
     "metadata": {},
     "output_type": "execute_result"
    }
   ],
   "source": [
    "from datetime import datetime\n",
    "datetime.now()"
   ]
  },
  {
   "cell_type": "code",
   "execution_count": 16,
   "metadata": {},
   "outputs": [
    {
     "data": {
      "text/plain": [
       "'2020-07-22 12:58:34'"
      ]
     },
     "execution_count": 16,
     "metadata": {},
     "output_type": "execute_result"
    }
   ],
   "source": [
    "from time import strftime\n",
    "strftime(\"%Y-%m-%d %H:%M:%S\")"
   ]
  },
  {
   "cell_type": "code",
   "execution_count": 12,
   "metadata": {},
   "outputs": [
    {
     "name": "stdout",
     "output_type": "stream",
     "text": [
      "True False True\n"
     ]
    }
   ],
   "source": [
    "bool1=3==3\n",
    "bool2=10>2**5\n",
    "bool3=100<=100\n",
    "print(bool1,bool2,bool3)"
   ]
  },
  {
   "cell_type": "code",
   "execution_count": 14,
   "metadata": {},
   "outputs": [],
   "source": [
    "colors=['green','yellow','orange','red']"
   ]
  },
  {
   "cell_type": "code",
   "execution_count": 19,
   "metadata": {},
   "outputs": [
    {
     "name": "stdout",
     "output_type": "stream",
     "text": [
      "['violet', 'blue', 'violet', 'blue', 'green', 'yellow', 'orange']\n"
     ]
    }
   ],
   "source": [
    "a=['violet','blue']\n",
    "for i in range(0,2):\n",
    "    colors.insert(i,a[i])\n",
    "print(colors)"
   ]
  },
  {
   "cell_type": "code",
   "execution_count": 33,
   "metadata": {},
   "outputs": [
    {
     "name": "stdout",
     "output_type": "stream",
     "text": [
      "{'egg': 4, 'sambar': 20, 'curd': 25}\n"
     ]
    }
   ],
   "source": [
    "menu={'egg':4,'omlete':15,'sambar':20}\n",
    "menu['curd']=25\n",
    "\n",
    "del menu[\"omlete\"]\n",
    "print(menu)\n",
    "dict.clear(menu)"
   ]
  },
  {
   "cell_type": "code",
   "execution_count": 35,
   "metadata": {},
   "outputs": [
    {
     "ename": "NameError",
     "evalue": "name 'menu' is not defined",
     "output_type": "error",
     "traceback": [
      "\u001b[1;31m---------------------------------------------------------------------------\u001b[0m",
      "\u001b[1;31mNameError\u001b[0m                                 Traceback (most recent call last)",
      "\u001b[1;32m<ipython-input-35-ccc8d4cc03d7>\u001b[0m in \u001b[0;36m<module>\u001b[1;34m\u001b[0m\n\u001b[1;32m----> 1\u001b[1;33m \u001b[0mprint\u001b[0m\u001b[1;33m(\u001b[0m\u001b[0mmenu\u001b[0m\u001b[1;33m)\u001b[0m\u001b[1;33m\u001b[0m\u001b[1;33m\u001b[0m\u001b[0m\n\u001b[0m\u001b[0;32m      2\u001b[0m \u001b[1;32mdel\u001b[0m \u001b[0mmenu\u001b[0m\u001b[1;33m\u001b[0m\u001b[1;33m\u001b[0m\u001b[0m\n\u001b[0;32m      3\u001b[0m \u001b[0mprint\u001b[0m\u001b[1;33m(\u001b[0m\u001b[0mmenu\u001b[0m\u001b[1;33m)\u001b[0m\u001b[1;33m\u001b[0m\u001b[1;33m\u001b[0m\u001b[0m\n",
      "\u001b[1;31mNameError\u001b[0m: name 'menu' is not defined"
     ]
    }
   ],
   "source": [
    "print(menu)\n",
    "del menu\n",
    "print(menu)"
   ]
  },
  {
   "cell_type": "code",
   "execution_count": null,
   "metadata": {},
   "outputs": [],
   "source": [
    "To put your knowledge of variables, data types, and operators to good use, you can design\n",
    "a simple program that will compute the sales tax and tip on a restaurant meal.\n",
    "Meal cost $65.50\n",
    "Sales tax rate 6.6%\n",
    "Tip 20% of meal + tax"
   ]
  },
  {
   "cell_type": "code",
   "execution_count": 90,
   "metadata": {},
   "outputs": [
    {
     "name": "stdout",
     "output_type": "stream",
     "text": [
      "83.7876\n"
     ]
    }
   ],
   "source": [
    "meal=65.50\n",
    "sales_tax=(6.6/100)\n",
    "tip=(20/100)\n",
    "t=meal+(meal*tip)\n",
    "total=t+(t*sales_tax)\n",
    "print(total)\n"
   ]
  },
  {
   "cell_type": "code",
   "execution_count": 67,
   "metadata": {},
   "outputs": [
    {
     "name": "stdout",
     "output_type": "stream",
     "text": [
      "may i know your name:riya\n",
      "it is pleasure to meet you Mr/Ms/Mrs riya!\n",
      "can you tell me ur age?24\n",
      "so, you are 24 year old  Mr. riya ! \n"
     ]
    }
   ],
   "source": [
    "name=input(\"may i know your name:\")\n",
    "print(\"it is pleasure to meet you Mr/Ms/Mrs \" +name+\"!\")\n",
    "a=input(\"can you tell me ur age? \")\n",
    "print(\"so, you are \"  +a+  \" year old  \" + \"Mr. \" +name+ \" ! \")"
   ]
  },
  {
   "cell_type": "code",
   "execution_count": 74,
   "metadata": {},
   "outputs": [
    {
     "data": {
      "text/plain": [
       "{0, 1, 2, 3, 4, 5, 6, 7, 8}"
      ]
     },
     "execution_count": 74,
     "metadata": {},
     "output_type": "execute_result"
    }
   ],
   "source": [
    "set(range(9))"
   ]
  },
  {
   "cell_type": "code",
   "execution_count": 81,
   "metadata": {},
   "outputs": [
    {
     "data": {
      "text/plain": [
       "12"
      ]
     },
     "execution_count": 81,
     "metadata": {},
     "output_type": "execute_result"
    }
   ],
   "source": [
    "a=list(range(15,101,5))\n",
    "min(a)\n",
    "abs(-12)"
   ]
  },
  {
   "cell_type": "code",
   "execution_count": 85,
   "metadata": {},
   "outputs": [
    {
     "data": {
      "text/plain": [
       "83.78"
      ]
     },
     "execution_count": 85,
     "metadata": {},
     "output_type": "execute_result"
    }
   ],
   "source": [
    "5.18+78.6"
   ]
  },
  {
   "cell_type": "code",
   "execution_count": 93,
   "metadata": {},
   "outputs": [
    {
     "name": "stdout",
     "output_type": "stream",
     "text": [
      "try again\n",
      "valid\n"
     ]
    }
   ],
   "source": [
    "def number(choice):\n",
    "    if choice<=10:\n",
    "        print(\"try again\")\n",
    "    elif choice>10 and choice<100:\n",
    "        print(\"valid\")\n",
    "    else:\n",
    "        print(\"you are out of range\")\n",
    "    return\n",
    "number(10)\n",
    "number(15)"
   ]
  },
  {
   "cell_type": "code",
   "execution_count": null,
   "metadata": {},
   "outputs": [],
   "source": [
    "3. Write a program that asks the user to enter a value n, and then computes (1+1/2 +1/3 +···+1/n)−ln(n). \n",
    "The ln function is log in the math module."
   ]
  },
  {
   "cell_type": "code",
   "execution_count": 114,
   "metadata": {},
   "outputs": [
    {
     "name": "stdout",
     "output_type": "stream",
     "text": [
      "3\n",
      "1.734523083713951\n"
     ]
    }
   ],
   "source": [
    "import math\n",
    "n=eval(input())\n",
    "sum=1\n",
    "for i in range(1,n+1):\n",
    "    sum=sum+(1/i)\n",
    "cal=sum-(2.303 * math.log10(n))#ln(n)=2.303*log10(n)\n",
    "print(cal)\n"
   ]
  },
  {
   "cell_type": "code",
   "execution_count": null,
   "metadata": {},
   "outputs": [],
   "source": [
    "Write a program to compute the sum 1 − 2 + 3 − 4 + ··· + 1999 − 2000"
   ]
  },
  {
   "cell_type": "code",
   "execution_count": 50,
   "metadata": {},
   "outputs": [
    {
     "name": "stdout",
     "output_type": "stream",
     "text": [
      "-1000\n"
     ]
    }
   ],
   "source": [
    "sum=0\n",
    "sum1=0\n",
    "for i in range(0,2001,2):\n",
    "    if i%2==0:\n",
    "        sum=sum+i\n",
    "for j in range(1,2001,2):\n",
    "    if j%2!=0:\n",
    "        sum1=sum1+j\n",
    "print(sum1-sum)"
   ]
  },
  {
   "cell_type": "code",
   "execution_count": null,
   "metadata": {},
   "outputs": [],
   "source": [
    "Write a program that asks the user to enter a number and prints the sum of the divisors of\n",
    "that number. The sum of the divisors of a number is an important function in number theory"
   ]
  },
  {
   "cell_type": "code",
   "execution_count": 3,
   "metadata": {},
   "outputs": [
    {
     "name": "stdout",
     "output_type": "stream",
     "text": [
      "8\n",
      "7\n"
     ]
    }
   ],
   "source": [
    "num=eval(input())\n",
    "sum=0\n",
    "for i in range(1,num):\n",
    "    if(num%i==0):\n",
    "        sum=sum+i\n",
    "print(sum)"
   ]
  },
  {
   "cell_type": "markdown",
   "metadata": {},
   "source": [
    "A number is called a perfect number if it is equal to the sum of all of its divisors, not including\n",
    "the number itself. For instance, 6 is a perfect number because the divisors of 6 are 1, 2, 3, 6\n",
    "and 6 = 1 + 2 + 3. As another example, 28 is a perfect number because its divisors are 1, 2, 4,\n",
    "7, 14, 28 and 28 = 1 + 2 + 4 + 7 + 14. However, 15 is not a perfect number because its divisors\n",
    "are 1, 3, 5, 15 and 15 6= 1 + 3 + 5. Write a program that finds all four of the perfect numbers\n",
    "that are less than 10000.\n"
   ]
  },
  {
   "cell_type": "code",
   "execution_count": 14,
   "metadata": {},
   "outputs": [
    {
     "name": "stdout",
     "output_type": "stream",
     "text": [
      "6\n",
      "28\n",
      "496\n",
      "8128\n"
     ]
    }
   ],
   "source": [
    "\n",
    "for num in range(1,10001):\n",
    "    sum=0   \n",
    "    for i in range(1,num):\n",
    "        if(num%i==0):\n",
    "            sum=sum+i\n",
    "    if (sum)==num:\n",
    "        print(num)"
   ]
  },
  {
   "cell_type": "code",
   "execution_count": null,
   "metadata": {},
   "outputs": [],
   "source": [
    "An integer is called squarefree if it is not divisible by any perfect squares other than 1. For\n",
    "instance, 42 is squarefree because its divisors are 1, 2, 3, 6, 7, 21, and 42, and none of those\n",
    "numbers (except 1) is a perfect square. On the other hand, 45 is not squarefree because it is\n",
    "divisible by 9, which is a perfect square. Write a program that asks the user for an integer and\n",
    "tells them if it is squarefree or not."
   ]
  },
  {
   "cell_type": "code",
   "execution_count": 2,
   "metadata": {},
   "outputs": [
    {
     "name": "stdout",
     "output_type": "stream",
     "text": [
      "enter the number:42\n",
      " sq.free\n"
     ]
    }
   ],
   "source": [
    "user=eval(input(\"enter the number:\"))\n",
    "flag=0\n",
    "for i in range(2,user):\n",
    "    if user%(i**2)==0:\n",
    "        flag=1\n",
    "if flag==1:\n",
    "    print(\"not sq.free\")\n",
    "else:\n",
    "    print(\" sq.free\")\n",
    "\n",
    "    "
   ]
  },
  {
   "cell_type": "code",
   "execution_count": null,
   "metadata": {},
   "outputs": [],
   "source": [
    "Write a program that swaps the values of three variables x, y, and z, so that x gets the value\n",
    "of y, y gets the value of z, and z gets the value of x."
   ]
  },
  {
   "cell_type": "code",
   "execution_count": 13,
   "metadata": {},
   "outputs": [
    {
     "name": "stdout",
     "output_type": "stream",
     "text": [
      "12\n",
      "10 11\n"
     ]
    }
   ],
   "source": [
    "x=10\n",
    "\n",
    "y=11\n",
    "z=12\n",
    "x=x+y+z\n",
    "\n",
    "y = x-(y+z)\n",
    "z = x-(y+z)\n",
    "x=x-(y+z)\n",
    "print(x)\n",
    "print(y,z)"
   ]
  },
  {
   "cell_type": "code",
   "execution_count": 5,
   "metadata": {},
   "outputs": [],
   "source": [
    "SumOfDivisors = 0\n",
    "for Number_Checked in range(1, 10001):\n",
    " \n",
    "    for divisor in range(1, Number_Checked):\n",
    "        if Number_Checked % divisor == 0:\n",
    "            SumOfDivisors = SumOfDivisors + divisor\n",
    "\n",
    "    if Number_Checked == SumOfDivisors:\n",
    "        print(Number_Checked,'is a perfect number and the sum of divisors is',SumOfDivisors)"
   ]
  },
  {
   "cell_type": "code",
   "execution_count": 12,
   "metadata": {},
   "outputs": [
    {
     "name": "stdout",
     "output_type": "stream",
     "text": [
      "s so sow sown sownd sownda sowndar sowndari sowndariy sowndariya "
     ]
    }
   ],
   "source": [
    "name=\"sowndariya\"\n",
    "for i in range(len(name)):\n",
    "    print(name[:i+1],end=\" \")"
   ]
  },
  {
   "cell_type": "code",
   "execution_count": 23,
   "metadata": {},
   "outputs": [
    {
     "name": "stdout",
     "output_type": "stream",
     "text": [
      "sowndariya**88**88**88**88aaa\n"
     ]
    }
   ],
   "source": [
    "s=\"sowndariya,;()aaa\"#Write a program that removes all capitalization and common punctuation from a string s.\n",
    "s = s.lower()\n",
    "for c in ',.;:-?!()\\'\"':\n",
    "    s = s.replace(c, '**88')\n",
    "print(s)"
   ]
  },
  {
   "cell_type": "code",
   "execution_count": 26,
   "metadata": {},
   "outputs": [
    {
     "name": "stdout",
     "output_type": "stream",
     "text": [
      "Enter your decimal number: 3.15\n",
      "15\n"
     ]
    }
   ],
   "source": [
    "#Write a program that, given a string that contains a decimal number, prints out the decimal part of the number. For instance, if given 3.14159, the program should print out .14159.\n",
    "s = input('Enter your decimal number: ')\n",
    "print(s[s.index('.')+1:])\n"
   ]
  },
  {
   "cell_type": "code",
   "execution_count": 33,
   "metadata": {},
   "outputs": [
    {
     "name": "stdout",
     "output_type": "stream",
     "text": [
      "3.154\n",
      "0.15399999999999991\n"
     ]
    }
   ],
   "source": [
    "from math import floor\n",
    "num=eval(input())\n",
    "print(num-floor(num))"
   ]
  },
  {
   "cell_type": "code",
   "execution_count": 31,
   "metadata": {},
   "outputs": [
    {
     "name": "stdout",
     "output_type": "stream",
     "text": [
      "3.141592653589793\n"
     ]
    }
   ],
   "source": [
    "import  math\n",
    "print(math.pi)"
   ]
  },
  {
   "cell_type": "code",
   "execution_count": 106,
   "metadata": {},
   "outputs": [
    {
     "name": "stdout",
     "output_type": "stream",
     "text": [
      "Welcome! You are a star member of the Toddler’s Club!\n",
      "Welcome to the Toddler’s Club!\n",
      "None\n",
      "You are too young for Toddler’s Club.\n",
      "None\n",
      "You are too young for Toddler’s Club.\n",
      "None\n",
      "Welcome! You are a star member of the Toddler’s Club!\n",
      "None\n"
     ]
    }
   ],
   "source": [
    "def your_choice(answer):\n",
    "    if answer > 5:\n",
    "        print(\"You are overaged\")\n",
    "    elif answer <= 5 and answer >2:\n",
    "        print(\"Welcome to the Toddler’s Club!\")\n",
    "    elif answer == 2:\n",
    "        print(\"Welcome! You are a star member of the Toddler’s Club!\")\n",
    "    else:\n",
    "        print(\"You are too young for Toddler’s Club.\")\n",
    "    return\n",
    "your_choice(2)\n",
    "print(your_choice(3))\n",
    "print(your_choice(1))\n",
    "print(your_choice(0))\n",
    "print(your_choice(2))"
   ]
  },
  {
   "cell_type": "code",
   "execution_count": 135,
   "metadata": {},
   "outputs": [
    {
     "name": "stdout",
     "output_type": "stream",
     "text": [
      "Delicious, cheesyNew York Style Pizza\n",
      " pay Rs.99 ! thank u\n",
      "Delicious, cheesyThin n Crispy Pizza\n",
      "Delicious, cheesyStuffed Crust Pizza\n",
      "its my fav forever\n",
      "finally, i am full\n"
     ]
    }
   ],
   "source": [
    "pizza = ['New York Style Pizza', 'Pan Pizza', 'Thin n Crispy Pizza', 'Stuffed Crust Pizza']\n",
    "for choice in pizza:\n",
    "    if choice==\"Pan Pizza\":\n",
    "        print(\" pay Rs.99 ! thank u\")\n",
    "        continue\n",
    "    print(\"Delicious, cheesy\" + choice)\n",
    "      \n",
    "else:\n",
    "    print(\"its my fav forever\")\n",
    "print(\"finally, i am full\")\n",
    "    "
   ]
  },
  {
   "cell_type": "code",
   "execution_count": 136,
   "metadata": {},
   "outputs": [
    {
     "name": "stdout",
     "output_type": "stream",
     "text": [
      "Delicious, cheesy New York Style Pizza\n",
      "Please pay $16. Thank you!\n",
      "Finally, I’m\n"
     ]
    }
   ],
   "source": [
    "pizza = ['New York Style Pizza', 'Pan Pizza', 'Thin n Crispy Pizza', 'Stuffed Crust Pizza']\n",
    "for choice in pizza:\n",
    "    if choice == \"Pan Pizza\":\n",
    "        print(\"Please pay $16. Thank you!\")\n",
    "        break\n",
    "    print(\"Delicious, cheesy \" + choice)\n",
    "else:\n",
    "    print(\"Cheesy pan pizza is my all-time favorite!\")\n",
    "print(\"Finally, I’m\")"
   ]
  },
  {
   "cell_type": "code",
   "execution_count": 137,
   "metadata": {},
   "outputs": [
    {
     "name": "stdout",
     "output_type": "stream",
     "text": [
      "6\n",
      "21\n"
     ]
    }
   ],
   "source": [
    "x=int(input())\n",
    "total=0\n",
    "for i in range(1,x+1):\n",
    "    total=total+i\n",
    "print(total)"
   ]
  },
  {
   "cell_type": "code",
   "execution_count": 139,
   "metadata": {},
   "outputs": [
    {
     "name": "stdout",
     "output_type": "stream",
     "text": [
      "2\n",
      "0\n",
      "1\n",
      "2\n",
      "3\n",
      "4\n",
      "5\n",
      "6\n",
      "7\n",
      "8\n",
      "9\n"
     ]
    }
   ],
   "source": [
    "counter=0\n",
    "while(counter<10):\n",
    "    print(counter)\n",
    "    counter+=1\n",
    "    "
   ]
  },
  {
   "cell_type": "code",
   "execution_count": 141,
   "metadata": {},
   "outputs": [
    {
     "name": "stdout",
     "output_type": "stream",
     "text": [
      "i love pizza\n"
     ]
    }
   ],
   "source": [
    "def pizza():\n",
    "    print(\"i love pizza\")\n",
    "pizza()"
   ]
  },
  {
   "cell_type": "code",
   "execution_count": 145,
   "metadata": {},
   "outputs": [
    {
     "name": "stdout",
     "output_type": "stream",
     "text": [
      "9\n",
      "20\n"
     ]
    }
   ],
   "source": [
    "def abs(n):\n",
    "    if n>0:\n",
    "        return n\n",
    "    else:\n",
    "        return -n\n",
    "print(abs(-9))\n",
    "print(abs(20))\n"
   ]
  },
  {
   "cell_type": "code",
   "execution_count": null,
   "metadata": {},
   "outputs": [],
   "source": [
    "Write a program to count how many integers from 1 to 1000 are not perfect squares, perfect\n",
    "cubes, or perfect fifth powers."
   ]
  },
  {
   "cell_type": "code",
   "execution_count": 41,
   "metadata": {},
   "outputs": [
    {
     "data": {
      "text/plain": [
       "49"
      ]
     },
     "execution_count": 41,
     "metadata": {},
     "output_type": "execute_result"
    }
   ],
   "source": [
    "i=7\n",
    "a=i**"
   ]
  },
  {
   "cell_type": "code",
   "execution_count": 44,
   "metadata": {},
   "outputs": [
    {
     "name": "stdout",
     "output_type": "stream",
     "text": [
      "1\n",
      "2\n",
      "3\n",
      "4\n",
      "5\n",
      "1\n",
      "2\n",
      "3\n",
      "4\n",
      "5\n"
     ]
    }
   ],
   "source": [
    "l=[1,2,3,4,5]\n",
    "for i in range(len(l)):\n",
    "    print(l[i])\n",
    "for i in l:\n",
    "    print(i)"
   ]
  },
  {
   "cell_type": "markdown",
   "metadata": {},
   "source": [
    "Question:\n",
    "\n",
    "In DOS, current date is stored in encoded form to reduce the space. Date is encoded in a single integer number. The binary form of the number can be divided to decode the date parameters.\n",
    "\n",
    "Date is a sequence of 23 bits. First 14-bits for year, next 4-bits for month and finally 5 bits for date. e.g., 12 February 1990 can be encoded as -1990 02 12 ---> (11111000110 0010 01100) Binary Form ---> (1018956) Decimal Form\n",
    "\n",
    "Your task is simple. You only will have to decode date from the given decimal encoded form. Score is source length.\n",
    "\n",
    "Input\n",
    "\n",
    "The input consists of N cases (equal to about 1000). The first line of the input contains only positive integer N. Then follow the cases. Each case consists of exactly one line with one positive integer X. This integer X is the encoded form which is to be decoded. 1<=N<=1000 X will fit in Integer(C Int) range.\n",
    "\n",
    "Output\n",
    "\n",
    "Output consist of exactly N lines of decoded form.\n",
    "\n",
    "Example:\n",
    "\n",
    "Input\n",
    "\n",
    "5 \n",
    "1024275 1029012 1017036 903863 802507\n",
    "\n",
    "Output\n",
    "\n",
    "19 August 2000 20 December 2009\n"
   ]
  },
  {
   "cell_type": "code",
   "execution_count": 3,
   "metadata": {},
   "outputs": [
    {
     "name": "stdout",
     "output_type": "stream",
     "text": [
      "enter the no of times:5\n",
      "enter the input for conversion1024275\n",
      "19 aug 2000\n",
      "enter the input for conversion1029012\n",
      "20 aug 2009\n",
      "enter the input for conversion1017036\n",
      "12 june 1986\n",
      "enter the input for conversion903863\n",
      "23 may 1765\n",
      "enter the input for conversion802507\n",
      "11 june 1567\n"
     ]
    }
   ],
   "source": [
    "#1018956-12 February 1990\n",
    "n=eval(input(\"enter the no of times:\"))\n",
    "for i in range(0,n):\n",
    "    decinput=eval(input(\"enter the input for conversion\"))\n",
    "    a=[]\n",
    "    def func(num):\n",
    "        while num>0:\n",
    "            a.append(num%2)\n",
    "            num=num//2\n",
    "        return a[::-1]\n",
    "\n",
    "    c=(func(decinput))\n",
    "    year=(c[0:11])\n",
    "    month=(c[11:15])\n",
    "    day=c[15:20]\n",
    "\n",
    "    def binary_to_decimal(binary):\n",
    "        i,integer = 0,0\n",
    "        size = len(binary)\n",
    "        while i < len(binary):\n",
    "            integer += int(binary[size - 1 - i])*pow(2,i)\n",
    "            i+=1\n",
    "        return integer\n",
    "    byear=binary_to_decimal(year)\n",
    "    bmonth=binary_to_decimal(month)\n",
    "    bday=binary_to_decimal(day)\n",
    "    months=[\"\",'jan','feb','mar','apr','may','june','july','aug','sep','oct','nov','dec']\n",
    "    for i in range(0,12):\n",
    "        if i == bmonth:\n",
    "            mon=months[i]\n",
    "    print(bday  ,mon  , byear)\n",
    "'''\n",
    "months = ['','Jan', 'feb', 'march', 'april', 'may', 'june', 'july', 'aug', 'sep', 'oct', 'nov', 'dec']\n",
    "a = []\n",
    "def Dec_to_Bi(num):\n",
    "        while num > 0:\n",
    "            a.append(num % 2)\n",
    "            num = num//2\n",
    "        return a[::-1]\n",
    "    \n",
    "b = Dec_to_Bi(1018956)\n",
    "print(b)\n",
    "\n",
    "def convert_date(b):\n",
    "    year = ''.join(str(e) for e in b[0:11])\n",
    "    month = ''.join(str(e) for e in b[11:15])\n",
    "    date = ''.join(str(e) for e in b[15:20])\n",
    "    return int(str(year), 2), months[int(str(month), 2)], int(str(date), 2)\n",
    "\n",
    "your_date = convert_date(b)\n",
    "print(your_date)\n",
    "\n",
    "'''"
   ]
  },
  {
   "cell_type": "code",
   "execution_count": null,
   "metadata": {},
   "outputs": [],
   "source": [
    "#wave form print\n",
    "\n",
    "m = int(input('Enter the no of rows : '))\n",
    "n = int(input('Enter the no of columns : '))\n",
    "\n",
    "matrix = [row[:] for row in [[0]*n]*m]\n",
    "\n",
    "\n",
    "for i in range(0, m):\n",
    "    for j in range(0, n):\n",
    "        value = int(input('Your Value : '))\n",
    "        matrix[i][j] = value\n",
    "          \n",
    "print(matrix)\n",
    "\n",
    "r = 0\n",
    "for c in range(0, n):\n",
    "    if r < m-1:\n",
    "        for r in range(0, m):\n",
    "            print(matrix[r][c], end= ' ')\n",
    "    else:\n",
    "        for rev in range(r, -1, -1 ):\n",
    "            print(matrix[rev][c], end= ' ')\n"
   ]
  },
  {
   "cell_type": "code",
   "execution_count": 3,
   "metadata": {},
   "outputs": [
    {
     "name": "stdout",
     "output_type": "stream",
     "text": [
      "Enter the no of rows : 4\n",
      "Enter the no of columns : 3\n",
      "[[0, 0, 0], [0, 0, 0], [0, 0, 0], [0, 0, 0]]\n"
     ]
    }
   ],
   "source": [
    "m = int(input('Enter the no of rows : '))\n",
    "n = int(input('Enter the no of columns : '))\n",
    "\n",
    "matrix = [row[:] for row in [[0]*n]*m]\n",
    "print(matrix)"
   ]
  },
  {
   "cell_type": "markdown",
   "metadata": {},
   "source": [
    "Ask the user to enter 10 test scores. Write a program to do the following:\n",
    "(a) Print out the highest and lowest scores.\n",
    "(b) Print out the average of the scores.\n",
    "(c) Print out the second largest score.\n",
    "(d) If any of the scores is greater than 100, then after all the scores have been entered, print\n",
    "a message warning the user that a value over 100 has been entered.\n",
    "(e) Drop the two lowest scores and print out the average of the rest of them."
   ]
  },
  {
   "cell_type": "code",
   "execution_count": 10,
   "metadata": {},
   "outputs": [
    {
     "name": "stdout",
     "output_type": "stream",
     "text": [
      "enter 10 elements:9\n",
      "enter 10 elements:10\n",
      "enter 10 elements:56\n",
      "enter 10 elements:56\n",
      "enter 10 elements:41\n",
      "enter 10 elements:1000\n",
      "enter 10 elements:26\n",
      "enter 10 elements:48\n",
      "enter 10 elements:1\n",
      "enter 10 elements:2\n",
      "avg= 124.9\n",
      "highest= 1000\n",
      "lowest= 1\n",
      "second largest= 56\n",
      "warnig...!\n",
      "new avg= 24.125\n"
     ]
    }
   ],
   "source": [
    "c=[]\n",
    "\n",
    "for i in range(10):\n",
    "    input1=eval(input(\"enter 10 elements:\"))\n",
    "    c.append(input1)\n",
    "print(\"avg=\", sum(c)/len(c))\n",
    "c.sort()\n",
    "print(\"highest=\", c[-1])\n",
    "print(\"lowest=\", c[0])\n",
    "print(\"second largest=\", c[-2])\n",
    "if any([j>100 for j in c]):\n",
    "    print(\"warnig...!\")\n",
    "c.pop(-1)\n",
    "c.pop(-2)\n",
    "print(\"new avg=\",sum(c)/len(c))"
   ]
  },
  {
   "cell_type": "code",
   "execution_count": null,
   "metadata": {},
   "outputs": [],
   "source": [
    "Write a program that computes the factorial of a number. The factorial, n!, of a number n is the\n",
    "product of all the integers between 1 and n, including n. For instance, 5! = 1 · 2 · 3 · 4 · 5 = 120.\n",
    "[Hint: Try using a multiplicative equivalent of the summing technique.]"
   ]
  },
  {
   "cell_type": "code",
   "execution_count": 12,
   "metadata": {},
   "outputs": [
    {
     "name": "stdout",
     "output_type": "stream",
     "text": [
      "enter ur input:4\n",
      "24\n"
     ]
    }
   ],
   "source": [
    "user=eval(input(\"enter ur input:\"))\n",
    "mul=1\n",
    "for i in range(1,user+1):\n",
    "    mul=mul*i\n",
    "print(mul)\n"
   ]
  },
  {
   "cell_type": "markdown",
   "metadata": {},
   "source": [
    "Write a program that asks the user to guess a random number between 1 and 10. If they guess\n",
    "right, they get 10 points added to their score, and they lose 1 point for an incorrect guess. Give\n",
    "the user five numbers to guess and print their score after all the guessing is done."
   ]
  },
  {
   "cell_type": "code",
   "execution_count": 20,
   "metadata": {},
   "outputs": [
    {
     "name": "stdout",
     "output_type": "stream",
     "text": [
      "6\n",
      "wrong..!\n",
      "9\n",
      "wrong..!\n",
      "4\n",
      "wrong..!\n",
      "3\n",
      "wrong..!\n",
      "1\n",
      "wrong..!\n",
      "-5\n"
     ]
    }
   ],
   "source": [
    "from random import randint\n",
    "comp=randint(1,10)\n",
    "score=0\n",
    "\n",
    "for i in range(1,6):\n",
    "    guess=eval(input())\n",
    "    if comp==guess:\n",
    "        score+=10\n",
    "        print(\"right..!\")\n",
    "    elif comp!=guess:\n",
    "        score-=1\n",
    "        print(\"wrong..!\")\n",
    "print(score)\n",
    "        "
   ]
  },
  {
   "cell_type": "code",
   "execution_count": null,
   "metadata": {},
   "outputs": [],
   "source": [
    "In the last chapter there was an exercise that asked you to create a multiplication game for\n",
    "kids. Improve your program from that exercise to keep track of the number of right and\n",
    "wrong answers. At the end of the program, print a message that varies depending on how\n",
    "many questions the player got right."
   ]
  },
  {
   "cell_type": "code",
   "execution_count": 27,
   "metadata": {},
   "outputs": [
    {
     "name": "stdout",
     "output_type": "stream",
     "text": [
      "Question 1 : 10 * 7 =\n",
      "6\n",
      "wrong....and the correct answer is 10 * 7 = 70\n",
      "Question 2 : 6 * 5 =\n",
      "30\n",
      "right\n",
      "Question 3 : 9 * 2 =\n",
      "18\n",
      "right\n",
      "Question 4 : 1 * 7 =\n",
      "7\n",
      "right\n",
      "Question 5 : 1 * 3 =\n",
      "4\n",
      "wrong....and the correct answer is 1 * 3 = 3\n",
      "Question 6 : 9 * 8 =\n",
      "69\n",
      "wrong....and the correct answer is 9 * 8 = 72\n",
      "Question 7 : 4 * 4 =\n",
      "45\n",
      "wrong....and the correct answer is 4 * 4 = 16\n",
      "Question 8 : 7 * 4 =\n",
      "28\n",
      "right\n",
      "Question 9 : 10 * 10 =\n",
      "100\n",
      "right\n",
      "Question 10 : 9 * 6 =\n",
      "65\n",
      "wrong....and the correct answer is 9 * 6 = 54\n",
      "right count 5\n",
      "wrong answer count 5\n"
     ]
    }
   ],
   "source": [
    "from random import randint\n",
    "right=0\n",
    "wrong=0\n",
    "for a in range(1,11):\n",
    "    i=randint(1,10)\n",
    "    j=randint(1,10)\n",
    "    print(\"Question\",a,\":\", i, \"*\",j,\"=\" )\n",
    "    user=eval(input())\n",
    "    ans=i*j\n",
    "    if(user==ans):\n",
    "        print(\"right\")\n",
    "        right+=1\n",
    "    elif user!=ans:\n",
    "        print(\"wrong....and the correct answer is\", i, \"*\",j,\"=\",ans )\n",
    "        wrong+=1\n",
    "print(\"right count\",right)\n",
    "print(\"wrong answer count\", wrong)\n",
    "print(\"mark:\", right \"out of\",10)"
   ]
  },
  {
   "cell_type": "markdown",
   "metadata": {},
   "source": [
    "This exercise is about the well-known Monty Hall problem. In the problem, you are a contestant on a game show. The host, Monty Hall, shows you three doors. Behind one of those\n",
    "doors is a prize, and behind the other two doors are goats. You pick a door. Monty Hall, who\n",
    "knows behind which door the prize lies, then opens up one of the doors that doesn’t contain\n",
    "the prize. There are now two doors left, and Monty gives you the opportunity to change your\n",
    "choice. Should you keep the same door, change doors, or does it not matter?\n",
    "(a) Write a program that simulates playing this game 10000 times and calculates what percentage of the time you would win if you switch and what percentage of the time you\n",
    "would win by not switching.\n",
    "(b) Try the above but with four doors instead of three. There is still only one prize, and\n",
    "Monty still opens up one door and then gives you the opportunity to switch."
   ]
  },
  {
   "cell_type": "code",
   "execution_count": 29,
   "metadata": {},
   "outputs": [
    {
     "name": "stdout",
     "output_type": "stream",
     "text": [
      "Enter a letter: e\n",
      "Enter a letter: e\n",
      "Enter a letter: a\n",
      "Enter a letter: i\n",
      "Enter a letter: o\n",
      "Enter a letter: u\n",
      "Enter a letter: s\n",
      "Enter a letter: d\n",
      "Enter a letter: f\n",
      "Enter a letter: r\n",
      "eeaiou\n"
     ]
    }
   ],
   "source": [
    "s = ''\n",
    "for i in range(10):\n",
    "    t = input('Enter a letter: ')\n",
    "    if t in 'aeiou':\n",
    "        s = s + t\n",
    "print(s)\n"
   ]
  },
  {
   "cell_type": "code",
   "execution_count": 31,
   "metadata": {},
   "outputs": [
    {
     "name": "stdout",
     "output_type": "stream",
     "text": [
      "Enter your message: a\n",
      "x"
     ]
    }
   ],
   "source": [
    "alphabet = 'abcdefghijklmnopqrstuvwxyz'\n",
    "key = 'xznlwebgjhqdyvtkfuompciasr'\n",
    "secret_message = input('Enter your message: ')\n",
    "secret_message = secret_message.lower()\n",
    "for c in secret_message:\n",
    "    if c.isalpha():\n",
    "        print(key[alphabet.index(c)],end='')\n",
    "    else:\n",
    "        print(c, end='')"
   ]
  },
  {
   "cell_type": "markdown",
   "metadata": {},
   "source": [
    "1. Write a program that asks the user to enter a string. The program should then print the\n",
    "following:\n",
    "(a) The total number of characters in the string\n",
    "(b) The string repeated 10 times\n",
    "(c) The first character of the string (remember that string indices start at 0)\n",
    "(d) The first three characters of the string\n",
    "(e) The last three characters of the string\n",
    "(f) The string backwards\n",
    "(g) The seventh character of the string if the string is long enough and a message otherwise\n",
    "(h) The string with its first and last characters removed\n",
    "(i) The string in all caps\n",
    "(j) The string with every a replaced with an e\n",
    "(k) The string with every letter replaced by a space"
   ]
  },
  {
   "cell_type": "code",
   "execution_count": 56,
   "metadata": {},
   "outputs": [
    {
     "name": "stdout",
     "output_type": "stream",
     "text": [
      "enter your string:ammu\n",
      "4\n",
      "ammu\n",
      "ammu\n",
      "ammu\n",
      "ammu\n",
      "ammu\n",
      "ammu\n",
      "ammu\n",
      "ammu\n",
      "ammu\n",
      "a\n",
      "amm\n",
      "mmu\n",
      "umma\n",
      "\n",
      "a\n",
      "AMMU\n",
      "emmu\n",
      "a   m   m   u   "
     ]
    }
   ],
   "source": [
    "user=input(\"enter your string:\")\n",
    "print(len(user))\n",
    "for i in range(0,9):\n",
    "    print(user)\n",
    "print(user[0])\n",
    "print(user[0:3])\n",
    "print(user[-3:])\n",
    "print(user[::-1])\n",
    "print(user[6:7])\n",
    "print(user[0:1])\n",
    "print(user.upper())\n",
    "print(user.replace('a','e'))\n",
    "for j in user:\n",
    "    print(j,end=\" \")\n",
    "    print(\" \", end=\" \")"
   ]
  },
  {
   "cell_type": "markdown",
   "metadata": {},
   "source": [
    "A simple way to estimate the number of words in a string is to count the number of spaces\n",
    "in the string. Write a program that asks the user for a string and returns an estimate of how\n",
    "many words are in the string.\n"
   ]
  },
  {
   "cell_type": "code",
   "execution_count": 62,
   "metadata": {},
   "outputs": [
    {
     "name": "stdout",
     "output_type": "stream",
     "text": [
      "am a good girl he is bad boy\n",
      "8\n"
     ]
    }
   ],
   "source": [
    "string=input()\n",
    "print(string.count(' ')+1)\n"
   ]
  },
  {
   "cell_type": "code",
   "execution_count": null,
   "metadata": {},
   "outputs": [],
   "source": [
    "People often forget closing parentheses when entering formulas. Write a program that asks\n",
    "the user to enter a formula and prints out whether the formula has the same number of opening and closing parentheses.\n"
   ]
  },
  {
   "cell_type": "code",
   "execution_count": 64,
   "metadata": {},
   "outputs": [
    {
     "name": "stdout",
     "output_type": "stream",
     "text": [
      "(((ab)))\n",
      "formula has the same number of opening\n"
     ]
    }
   ],
   "source": [
    "user=input()\n",
    "a=user.count(\"(\")\n",
    "b=user.count(\")\")\n",
    "if a==b:\n",
    "    print(\"formula has the same number of opening\")\n",
    "elif a!=b:\n",
    "    print(\"not equal\")"
   ]
  },
  {
   "cell_type": "code",
   "execution_count": null,
   "metadata": {},
   "outputs": [],
   "source": [
    ". Write a program that asks the user to enter a word and prints out whether that word contains\n",
    "any vowels."
   ]
  },
  {
   "cell_type": "code",
   "execution_count": 68,
   "metadata": {},
   "outputs": [
    {
     "name": "stdout",
     "output_type": "stream",
     "text": [
      "sswwqq\n",
      "consonants\n"
     ]
    }
   ],
   "source": [
    "string=input()\n",
    "if any([i in 'aeiou' for i in string]):\n",
    "    print(\"vowels contained\")\n",
    "else:\n",
    "    print(\"consonants\")"
   ]
  },
  {
   "cell_type": "markdown",
   "metadata": {},
   "source": [
    "Write a program that asks the user to enter a string. The program should create a new string\n",
    "called new_string from the user’s string such that the second character is changed to an\n",
    "asterisk and three exclamation points are attached to the end of the string. Finally, print\n",
    "new_string. Typical output is shown below:\n",
    "Enter your string: Qbert\n",
    "Q*ert!!!"
   ]
  },
  {
   "cell_type": "code",
   "execution_count": 73,
   "metadata": {},
   "outputs": [
    {
     "name": "stdout",
     "output_type": "stream",
     "text": [
      "qbert\n",
      "q*rt!!!\n"
     ]
    }
   ],
   "source": [
    "string=input()\n",
    "newstr=string[:]\n",
    "s1=newstr[:1]+'*'+newstr[3:]\n",
    "print(s1 +\"!!!\")"
   ]
  },
  {
   "cell_type": "markdown",
   "metadata": {},
   "source": [
    "Write a program that asks the user to enter a string s and then converts s to lowercase, removes all the periods and commas from s, and prints the resulting string.\n"
   ]
  },
  {
   "cell_type": "code",
   "execution_count": 6,
   "metadata": {},
   "outputs": [
    {
     "name": "stdout",
     "output_type": "stream",
     "text": [
      "enter the string:ryu'\".;\n",
      "ryu    \n"
     ]
    }
   ],
   "source": [
    "string=input(\"enter the string:\")\n",
    "s = string.lower()\n",
    "for c in ',.;:-?!()\\'\"':\n",
    "    s=s.replace(c,\" \")\n",
    "print(s)\n",
    "    "
   ]
  },
  {
   "cell_type": "markdown",
   "metadata": {},
   "source": [
    "Write a program that asks the user to enter a word and determines whether the word is a\n",
    "palindrome or not. A palindrome is a word that reads the same backwards as forwards."
   ]
  },
  {
   "cell_type": "code",
   "execution_count": 9,
   "metadata": {},
   "outputs": [
    {
     "name": "stdout",
     "output_type": "stream",
     "text": [
      "enter the string:malayalam\n",
      "palindrome\n"
     ]
    }
   ],
   "source": [
    "user=input(\"enter the string:\")\n",
    "reverse=user[::-1]\n",
    "if user==reverse:\n",
    "    print(\"palindrome\")\n",
    "elif user!=reverse:\n",
    "    print(\"not palindrome\")"
   ]
  },
  {
   "cell_type": "markdown",
   "metadata": {},
   "source": [
    "At a certain school, student email addresses end with @student.college.edu, while professor email addresses end with @prof.college.edu. Write a program that first asks the\n",
    "user how many email addresses they will be entering, and then has the user enter those addresses. After all the email addresses are entered, the program should print out a message\n",
    "indicating either that all the addresses are student addresses or that there were some professor addresses entered.\n"
   ]
  },
  {
   "cell_type": "code",
   "execution_count": 22,
   "metadata": {},
   "outputs": [
    {
     "name": "stdout",
     "output_type": "stream",
     "text": [
      "4\n",
      "sow@prof.college.edu.\n",
      "riya@prof.college.edu.\n",
      "dev@student.college.edu.\n",
      "rrr@student.college.edu.\n",
      "2 addresses are professoor addresses\n",
      "2 addresses are student addresses\n"
     ]
    }
   ],
   "source": [
    "mailid=[]\n",
    "user=eval(input())\n",
    "for i in range(user):\n",
    "    inp=input()\n",
    "    mailid.append(inp)\n",
    "count=0\n",
    "count1=0\n",
    "for i in mailid:\n",
    "    if \"@prof.college.edu.\" in i:\n",
    "        count+=1\n",
    "    elif \"@student.college.edu.\" in i:\n",
    "        count1+=1\n",
    "print(count,\"addresses are professoor addresses\")\n",
    "print(count1,\"addresses are student addresses\")\n"
   ]
  },
  {
   "cell_type": "markdown",
   "metadata": {},
   "source": [
    "Ask the user for a number and then print the following, where the pattern ends at the number\n",
    "that the user enters.\n",
    "1\n",
    " 2\n",
    "  3\n",
    "   4"
   ]
  },
  {
   "cell_type": "code",
   "execution_count": 30,
   "metadata": {},
   "outputs": [
    {
     "name": "stdout",
     "output_type": "stream",
     "text": [
      "enter the number:7\n",
      " 1\n",
      "  2\n",
      "   3\n",
      "    4\n",
      "     5\n",
      "      6\n",
      "       7\n"
     ]
    }
   ],
   "source": [
    "user=eval(input(\"enter the number:\"))\n",
    "for i in range(0,user):\n",
    "    print(\" \"*i,i+1)"
   ]
  },
  {
   "cell_type": "code",
   "execution_count": null,
   "metadata": {},
   "outputs": [],
   "source": [
    "Write a program that asks the user to enter a string, then prints out each letter of the string\n",
    "doubled and on a separate line. For instance, if the user entered HEY, the output would be\n",
    "HH\n",
    "EE\n",
    "YY"
   ]
  },
  {
   "cell_type": "code",
   "execution_count": 11,
   "metadata": {},
   "outputs": [
    {
     "name": "stdout",
     "output_type": "stream",
     "text": [
      "ram\n",
      "rr\n",
      "aa\n",
      "mm\n",
      "r\n",
      "ra\n",
      "ram\n"
     ]
    }
   ],
   "source": [
    "user=input()\n",
    "for i in user:\n",
    "    print(i*2)\n",
    "for j in range(len(user)):\n",
    "    print(user[:j+1])\n"
   ]
  },
  {
   "cell_type": "markdown",
   "metadata": {},
   "source": [
    "Write a program that asks the user to enter a word that contains the letter a. The program\n",
    "should then print the following two lines: On the first line should be the part of the string up\n",
    "to and including the the first a, and on the second line should be the rest of the string. Sample\n",
    "output is shown below:\n",
    "Enter a word: buffalo\n",
    "buffa\n",
    "lo"
   ]
  },
  {
   "cell_type": "code",
   "execution_count": 14,
   "metadata": {},
   "outputs": [
    {
     "name": "stdout",
     "output_type": "stream",
     "text": [
      "ammauuu\n",
      "a\n",
      "mmauuu\n"
     ]
    }
   ],
   "source": [
    "user=input()\n",
    "word=\"\"\n",
    "for i in user:\n",
    "    word=word+i\n",
    "    if i=='a':\n",
    "        ind=user.index('a')\n",
    "print(word[:ind+1])\n",
    "print(word[ind+1:])\n",
    "        "
   ]
  },
  {
   "cell_type": "code",
   "execution_count": null,
   "metadata": {},
   "outputs": [],
   "source": [
    "Write a program that asks the user to enter a word and then capitalizes every other letter of\n",
    "that word. So if the user enters rhinoceros, the program should print rHiNoCeRoS."
   ]
  },
  {
   "cell_type": "code",
   "execution_count": 69,
   "metadata": {},
   "outputs": [
    {
     "name": "stdout",
     "output_type": "stream",
     "text": [
      "rhinoceros\n",
      "rHiNoCeRoS\n"
     ]
    }
   ],
   "source": [
    "user=input()\n",
    "let=\"\"\n",
    "count=0\n",
    "for i in user:\n",
    "    if count%2==0:\n",
    "        let=let+i\n",
    "    elif count%2!=0:\n",
    "        let=let+i.upper()\n",
    "    count+=1\n",
    "print(let)     "
   ]
  },
  {
   "cell_type": "markdown",
   "metadata": {},
   "source": [
    "Write a program that asks the user to enter two strings of the same length. The program\n",
    "should then check to see if the strings are of the same length. If they are not, the program\n",
    "should print an appropriate message and exit. If they are of the same length, the program\n",
    "should alternate the characters of the two strings. For example, if the user enters abcde and\n",
    "ABCDE the program should print out AaBbCcDdEe.\n"
   ]
  },
  {
   "cell_type": "code",
   "execution_count": 81,
   "metadata": {},
   "outputs": [
    {
     "name": "stdout",
     "output_type": "stream",
     "text": [
      "riya\n",
      "ammu\n",
      "armimyua\n"
     ]
    }
   ],
   "source": [
    "string1=input()\n",
    "string2=input()\n",
    "len1=len(string1)\n",
    "len2=len(string2)\n",
    "sti=\"\"\n",
    "if len1==len2:\n",
    "    for i in range(len1):\n",
    "        sti=sti+string2[i]+string1[i]\n",
    "elif len1!=len2:\n",
    "    print(\"your string length is not equal\")\n",
    "print(sti)"
   ]
  },
  {
   "cell_type": "code",
   "execution_count": null,
   "metadata": {},
   "outputs": [],
   "source": [
    "Write a program that asks the user to enter their name in lowercase and then capitalizes the\n",
    "first letter of each word of their name."
   ]
  },
  {
   "cell_type": "code",
   "execution_count": 97,
   "metadata": {},
   "outputs": [
    {
     "name": "stdout",
     "output_type": "stream",
     "text": [
      "riya raj ram\n",
      "Riya Raj Ram\n"
     ]
    }
   ],
   "source": [
    "name=input()\n",
    "s=\"\"\n",
    "for i in name:\n",
    "    if name.index(i)==0:    \n",
    "        s=s+i.upper()\n",
    "    else:\n",
    "        s=s+i\n",
    "print(s)"
   ]
  },
  {
   "cell_type": "code",
   "execution_count": 18,
   "metadata": {},
   "outputs": [
    {
     "name": "stdout",
     "output_type": "stream",
     "text": [
      "riya iya aghd\n",
      "riya iya aghd\n"
     ]
    }
   ],
   "source": [
    "name=input()\n",
    "for i in name:\n",
    "      if(name.index(i)==0):\n",
    "            print(name)"
   ]
  },
  {
   "cell_type": "markdown",
   "metadata": {},
   "source": [
    "When I was a kid, we used to play this game called Mad Libs. The way it worked was a friend\n",
    "would ask me for some words and then insert those words into a story at specific places\n",
    "and read the story. The story would often turn out to be pretty funny with the words I had\n",
    "given since I had no idea what the story was about. The words were usually from a specific\n",
    "category, like a place, an animal, etc.\n",
    "For this problem you will write a Mad Libs program. First, you should make up a story and\n",
    "leave out some words of the story. Your program should ask the user to enter some words\n",
    "and tell them what types of words to enter. Then print the full story along with the inserted\n",
    "words. Here is a small example, but you should use your own (longer) example:\n",
    "Enter a college class: CALCULUS\n",
    "Enter an adjective: HAPPY\n",
    "Enter an activity: PLAY BASKETBALL\n",
    "CALCULUS class was really HAPPY today. We learned how to\n",
    "PLAY BASKETBALL today in class. I can't wait for tomorrow's\n",
    "class!\n"
   ]
  },
  {
   "cell_type": "code",
   "execution_count": 1,
   "metadata": {},
   "outputs": [
    {
     "name": "stdout",
     "output_type": "stream",
     "text": [
      "enter ur name:ram\n",
      "enter an adjective:unworthy\n",
      "enter one game name:ludo\n",
      "enter he/she:he\n",
      "ram ,who is the most unworthy person and he love playing ludo .\n"
     ]
    }
   ],
   "source": [
    "str1=input(\"enter ur name:\")\n",
    "str2=input(\"enter an adjective:\")\n",
    "str3=input(\"enter one game name:\")\n",
    "str4=input(\"enter he/she:\")\n",
    "print(str1,\",who is the most\",str2,\"person\",\"and\",str4,\"love playing\",str3,\".\")"
   ]
  },
  {
   "cell_type": "markdown",
   "metadata": {},
   "source": [
    "Companies often try to personalize their offers to make them more attractive. One simple\n",
    "way to do this is just to insert the person’s name at various places in the offer. Of course,\n",
    "companies don’t manually type in every person’s name; everything is computer-generated.\n",
    "Write a program that asks the user for their name and then generates an offer like the one\n",
    "below. For simplicity’s sake, you may assume that the person’s first and last names are one\n",
    "word each.\n",
    "Enter name: George Washington\n",
    "Dear George Washington,\n",
    "I am pleased to offer you our new Platinum Plus Rewards card\n",
    "at a special introductory APR of 47.99%. George, an offer\n",
    "like this does not come along every day, so I urge you to call\n",
    "now toll-free at 1-800-314-1592. We cannot offer such a low\n",
    "rate for long, George, so call right away.\n"
   ]
  },
  {
   "cell_type": "code",
   "execution_count": 121,
   "metadata": {},
   "outputs": [
    {
     "name": "stdout",
     "output_type": "stream",
     "text": [
      "enter your name:eram\n",
      "Dear eram,\n",
      " I am pleased to offer you our new Platinum Plus Rewards card\n",
      " at a special introductory APR of 47.99%.eram, an offer\n",
      " like this does not come along every day, so I urge you to call\n",
      " now toll-free at 1-800-314-1592. We cannot offer such a low\n",
      " rate for long,eram, so call right away.\n"
     ]
    }
   ],
   "source": [
    "\n",
    "user=input(\"enter your name:\")\n",
    "\n",
    "print(\"Dear \", user,\",\\n I am pleased to offer you our new Platinum Plus Rewards card\\n at a special introductory APR of 47.99%.\",user,\", an offer\\n like this does not come along every day, so I urge you to call\\n now toll-free at 1-800-314-1592. We cannot offer such a low\\n rate for long,\",user,\", so call right away.\",sep=\"\")\n"
   ]
  },
  {
   "cell_type": "markdown",
   "metadata": {},
   "source": [
    "Write a program that generates the 26-line block of letters partially shown below. Use a loop\n",
    "containing one or two print statements.\n",
    "abcdefghijklmnopqrstuvwxyz\n",
    "bcdefghijklmnopqrstuvwxyza\n",
    "cdefghijklmnopqrstuvwxyzab\n",
    "...\n",
    "yzabcdefghijklmnopqrstuvwx\n",
    "zabcdefghijklmnopqrstuvwxy"
   ]
  },
  {
   "cell_type": "code",
   "execution_count": 148,
   "metadata": {},
   "outputs": [
    {
     "name": "stdout",
     "output_type": "stream",
     "text": [
      "abcdefghijklmnopqrstuvwxyz\n",
      "bcdefghijklmnopqrstuvwxyza\n",
      "cdefghijklmnopqrstuvwxyzab\n",
      "defghijklmnopqrstuvwxyzabc\n",
      "efghijklmnopqrstuvwxyzabcd\n",
      "fghijklmnopqrstuvwxyzabcde\n",
      "ghijklmnopqrstuvwxyzabcdef\n",
      "hijklmnopqrstuvwxyzabcdefg\n",
      "ijklmnopqrstuvwxyzabcdefgh\n",
      "jklmnopqrstuvwxyzabcdefghi\n",
      "klmnopqrstuvwxyzabcdefghij\n",
      "lmnopqrstuvwxyzabcdefghijk\n",
      "mnopqrstuvwxyzabcdefghijkl\n",
      "nopqrstuvwxyzabcdefghijklm\n",
      "opqrstuvwxyzabcdefghijklmn\n",
      "pqrstuvwxyzabcdefghijklmno\n",
      "qrstuvwxyzabcdefghijklmnop\n",
      "rstuvwxyzabcdefghijklmnopq\n",
      "stuvwxyzabcdefghijklmnopqr\n",
      "tuvwxyzabcdefghijklmnopqrs\n",
      "uvwxyzabcdefghijklmnopqrst\n",
      "vwxyzabcdefghijklmnopqrstu\n",
      "wxyzabcdefghijklmnopqrstuv\n",
      "xyzabcdefghijklmnopqrstuvw\n",
      "yzabcdefghijklmnopqrstuvwx\n",
      "zabcdefghijklmnopqrstuvwxy\n"
     ]
    }
   ],
   "source": [
    "a=\"abcdefghijklmnopqrstuvwxyz\"\n",
    "for i in range(len(a)):\n",
    "    print(a[i],end=\"\")\n",
    "    print(a[i+1:],end=\"\")\n",
    "    print(a[:i])"
   ]
  },
  {
   "cell_type": "code",
   "execution_count": 2,
   "metadata": {},
   "outputs": [
    {
     "data": {
      "text/plain": [
       "['ram', 'riya']"
      ]
     },
     "execution_count": 2,
     "metadata": {},
     "output_type": "execute_result"
    }
   ],
   "source": [
    "from random import sample\n",
    "names=['riya','soundar','ram']\n",
    "current_Player=sample(names,2)\n",
    "current_Player"
   ]
  },
  {
   "cell_type": "code",
   "execution_count": 3,
   "metadata": {},
   "outputs": [
    {
     "name": "stdout",
     "output_type": "stream",
     "text": [
      "riya soundar ram ram ram ram riya riya riya soundar soundar riya soundar riya ram riya soundar ram soundar soundar riya riya soundar riya soundar soundar soundar riya ram riya riya ram soundar soundar riya riya soundar riya soundar soundar ram riya soundar ram ram riya ram ram ram soundar riya ram ram ram soundar soundar riya ram riya ram soundar soundar riya riya soundar soundar soundar riya ram soundar soundar ram soundar riya ram riya soundar ram ram riya riya soundar soundar ram riya riya ram ram ram soundar soundar soundar soundar ram riya riya riya soundar soundar riya soundar soundar ram soundar ram riya ram riya soundar ram soundar soundar ram riya riya riya ram riya ram ram riya ram riya soundar soundar ram soundar soundar riya riya ram riya riya soundar riya riya riya riya soundar ram riya riya soundar ram soundar ram ram soundar ram riya soundar soundar riya riya soundar soundar ram ram ram ram ram ram soundar riya ram ram ram ram soundar riya soundar soundar ram riya riya riya soundar soundar soundar soundar ram riya soundar ram ram ram ram soundar ram riya riya ram soundar ram ram soundar riya ram soundar riya riya soundar soundar soundar ram soundar ram soundar riya soundar soundar soundar ram ram riya soundar riya riya riya riya riya ram ram riya ram ram riya soundar soundar riya riya riya riya ram soundar ram riya soundar riya soundar soundar riya soundar riya soundar soundar soundar riya riya ram soundar ram riya ram ram ram soundar soundar ram ram riya riya soundar soundar riya ram ram riya ram soundar soundar soundar soundar riya soundar soundar soundar ram riya riya soundar soundar ram riya ram soundar riya riya soundar ram riya riya riya soundar soundar riya riya riya riya riya riya ram soundar ram riya soundar ram ram soundar riya soundar soundar riya riya ram soundar soundar ram ram riya riya ram soundar soundar ram soundar riya riya riya ram soundar ram ram soundar ram ram ram riya ram riya ram riya ram riya soundar soundar ram soundar ram riya ram ram ram ram ram riya soundar riya soundar soundar riya soundar ram ram ram ram soundar riya riya ram riya ram riya ram soundar ram ram soundar ram riya soundar riya ram ram ram riya soundar soundar ram soundar soundar riya soundar ram riya soundar riya riya ram soundar soundar soundar riya riya soundar riya ram riya soundar riya ram riya ram riya riya soundar ram ram soundar ram ram soundar riya soundar soundar riya soundar soundar ram ram soundar riya riya soundar ram soundar soundar soundar soundar riya soundar riya soundar ram soundar soundar ram soundar riya riya ram soundar ram riya riya riya riya soundar soundar ram riya soundar riya riya ram riya soundar riya ram ram soundar riya ram soundar soundar ram soundar soundar ram riya ram riya ram soundar soundar riya ram soundar soundar ram ram soundar ram soundar soundar ram soundar soundar soundar ram soundar ram riya riya riya soundar ram ram ram soundar riya ram ram ram ram riya riya soundar soundar ram ram ram riya ram riya ram soundar soundar riya soundar soundar riya soundar soundar soundar soundar riya ram ram ram ram soundar riya soundar ram soundar soundar soundar ram riya soundar soundar ram ram riya ram soundar ram riya ram soundar riya riya riya soundar soundar ram ram soundar soundar riya riya riya ram soundar ram riya riya riya ram soundar soundar ram soundar ram ram riya riya ram ram riya ram riya ram ram soundar soundar ram ram soundar riya riya soundar riya riya riya soundar riya riya riya ram soundar soundar riya riya soundar riya soundar soundar ram soundar riya ram soundar ram soundar soundar riya soundar riya soundar soundar ram ram ram ram soundar riya riya soundar riya ram riya soundar riya ram soundar ram ram soundar ram riya ram soundar soundar soundar riya riya soundar riya ram riya soundar riya soundar ram ram ram soundar riya riya soundar ram ram ram soundar soundar ram riya ram soundar soundar ram riya riya soundar ram riya soundar riya soundar riya soundar ram ram ram soundar soundar ram soundar ram ram ram soundar soundar ram ram soundar ram soundar riya ram riya soundar ram soundar ram ram riya ram riya soundar soundar soundar ram soundar soundar riya riya riya ram soundar soundar soundar ram soundar ram ram riya riya soundar ram riya soundar soundar riya riya soundar riya soundar riya ram riya ram riya riya riya riya riya riya riya soundar ram riya riya ram riya riya riya soundar ram ram riya riya ram ram riya soundar soundar soundar soundar riya ram ram ram ram soundar riya ram soundar soundar ram riya ram riya riya soundar soundar ram riya ram ram soundar riya soundar ram soundar soundar ram soundar riya soundar ram soundar ram soundar riya ram soundar soundar soundar soundar ram riya soundar soundar riya ram ram riya soundar ram riya riya riya soundar soundar ram ram riya riya ram riya riya ram ram soundar soundar soundar ram riya soundar ram soundar riya soundar soundar ram soundar riya soundar ram riya riya riya soundar ram ram riya soundar riya soundar riya ram riya riya ram riya ram ram soundar ram ram soundar riya ram ram soundar soundar riya riya ram soundar soundar riya ram riya ram ram ram ram soundar ram riya riya riya ram ram soundar riya soundar ram ram ram riya soundar soundar riya riya soundar riya ram soundar ram soundar riya ram riya riya riya ram soundar soundar riya riya soundar ram riya soundar soundar riya soundar riya soundar ram ram ram ram ram soundar riya riya soundar ram riya riya soundar ram soundar riya ram soundar riya soundar soundar soundar ram soundar ram ram riya ram ram riya ram riya riya soundar ram ram riya ram ram ram ram soundar riya soundar soundar riya riya riya ram riya riya riya ram ram ram soundar ram riya soundar soundar soundar riya soundar riya ram riya riya ram ram ram ram riya ram ram soundar ram riya riya ram soundar soundar soundar soundar ram soundar ram riya soundar soundar riya soundar riya soundar soundar soundar soundar riya soundar soundar riya ram soundar ram soundar soundar riya ram ram soundar riya soundar ram soundar riya riya ram ram ram ram ram ram ram riya ram riya soundar ram riya riya ram riya riya soundar riya ram ram riya riya soundar soundar ram soundar ram riya soundar soundar ram ram soundar riya riya soundar soundar riya riya soundar soundar riya soundar ram soundar ram soundar soundar ram ram soundar riya soundar riya soundar riya ram ram ram riya riya riya riya ram riya riya soundar ram riya ram riya riya riya riya soundar riya riya riya ram ram ram soundar riya ram riya soundar riya soundar riya riya riya riya soundar soundar riya soundar ram soundar soundar riya riya riya soundar soundar soundar soundar soundar soundar soundar soundar soundar soundar riya ram ram ram riya riya ram soundar ram ram soundar ram ram ram soundar soundar soundar ram riya soundar soundar ram soundar soundar riya soundar riya riya soundar soundar soundar soundar soundar riya ram riya ram riya riya soundar ram soundar soundar riya riya riya soundar soundar ram soundar soundar ram soundar ram riya riya ram ram ram soundar ram riya soundar riya riya riya ram ram soundar riya riya riya riya riya riya ram soundar soundar riya ram soundar ram ram ram riya soundar ram soundar soundar riya riya ram riya riya ram riya soundar ram ram riya soundar soundar riya riya soundar soundar riya riya soundar ram ram riya ram soundar ram soundar ram soundar ram riya ram riya riya riya soundar ram ram riya riya ram riya soundar soundar ram riya soundar ram soundar riya soundar ram riya ram soundar soundar riya riya riya riya ram soundar riya ram riya riya ram riya soundar ram soundar ram soundar riya ram ram soundar soundar soundar ram riya soundar soundar riya soundar riya soundar ram riya soundar riya riya ram ram ram soundar riya soundar soundar ram soundar soundar ram ram riya riya ram ram soundar soundar soundar soundar soundar riya ram ram soundar ram riya riya ram ram riya riya ram ram riya ram ram soundar soundar soundar riya ram soundar ram soundar soundar ram riya riya soundar riya soundar riya ram ram ram riya ram riya ram ram riya riya ram riya riya soundar soundar soundar riya soundar ram soundar riya riya riya soundar soundar riya riya ram soundar soundar riya ram soundar soundar riya soundar soundar ram soundar ram soundar ram riya soundar soundar riya ram ram ram ram riya soundar riya riya soundar soundar ram ram soundar soundar ram soundar ram riya ram riya ram ram riya riya ram soundar riya ram soundar riya soundar ram ram soundar soundar riya soundar ram ram ram soundar riya soundar ram soundar ram soundar soundar ram riya soundar ram riya riya soundar ram soundar soundar ram soundar soundar riya ram ram ram riya riya ram ram ram riya riya ram ram ram soundar riya soundar ram ram soundar ram ram riya soundar ram riya riya riya ram riya riya soundar ram ram ram ram riya riya riya ram soundar ram ram ram riya ram riya soundar riya riya soundar soundar riya riya ram riya soundar ram soundar riya riya riya ram soundar soundar soundar soundar soundar riya riya soundar ram ram ram soundar ram riya soundar riya riya riya ram soundar soundar soundar riya riya ram soundar riya ram soundar ram soundar riya riya riya soundar riya soundar ram soundar riya soundar riya soundar soundar riya soundar riya ram soundar soundar soundar riya riya ram ram riya ram soundar ram soundar soundar ram ram ram soundar riya riya riya ram ram riya riya riya ram ram soundar ram ram riya soundar soundar riya riya ram soundar soundar soundar "
     ]
    },
    {
     "name": "stdout",
     "output_type": "stream",
     "text": [
      "riya soundar riya riya riya riya soundar soundar riya soundar riya riya riya riya ram ram soundar riya riya riya soundar soundar riya ram riya soundar soundar riya ram ram ram ram ram riya soundar soundar ram ram soundar ram riya ram riya ram soundar soundar soundar soundar riya riya soundar ram soundar soundar riya ram ram ram ram ram soundar ram riya soundar ram riya soundar ram soundar riya riya riya riya soundar ram riya ram riya riya soundar soundar ram soundar riya soundar soundar ram soundar soundar soundar riya riya ram ram soundar soundar riya ram soundar riya ram soundar soundar riya riya soundar soundar riya ram ram soundar riya ram riya ram riya soundar riya soundar ram ram ram ram riya ram ram ram riya soundar soundar ram ram soundar riya soundar ram soundar ram riya ram riya soundar riya soundar ram soundar ram riya soundar riya ram soundar soundar riya soundar soundar soundar ram soundar ram soundar ram ram soundar soundar soundar riya ram riya riya ram riya riya soundar ram soundar soundar riya soundar riya soundar riya ram soundar ram riya riya soundar soundar ram soundar soundar riya soundar soundar soundar ram ram soundar riya ram soundar ram riya soundar soundar ram ram soundar riya ram soundar soundar riya riya riya riya riya soundar riya soundar riya ram riya soundar riya riya riya riya soundar soundar soundar soundar ram ram ram ram ram soundar riya soundar riya riya ram ram ram ram soundar ram riya soundar ram ram riya riya soundar soundar soundar soundar riya ram soundar ram soundar ram riya ram soundar soundar soundar riya ram ram riya ram soundar soundar soundar riya riya soundar riya ram ram ram ram ram ram riya ram soundar riya ram ram riya ram ram riya ram soundar ram riya ram riya soundar soundar riya ram soundar ram riya soundar riya soundar riya riya riya soundar ram riya soundar ram ram riya riya soundar soundar riya ram riya ram soundar riya ram ram riya ram ram soundar riya riya soundar ram ram ram soundar soundar riya riya ram riya soundar soundar soundar soundar riya ram soundar riya soundar soundar soundar soundar soundar riya soundar ram riya riya ram ram soundar soundar riya soundar soundar ram soundar ram riya soundar riya soundar soundar soundar soundar riya soundar ram ram soundar ram soundar ram soundar soundar riya riya riya ram riya ram ram soundar riya riya riya ram ram soundar riya riya riya riya ram riya soundar soundar riya riya ram riya riya ram soundar ram soundar soundar soundar riya ram ram riya soundar ram soundar ram riya soundar ram soundar ram ram riya ram riya ram soundar riya soundar riya ram riya ram ram riya riya soundar ram riya soundar soundar soundar ram soundar riya ram ram soundar soundar riya soundar riya riya soundar ram riya ram soundar ram ram soundar riya ram riya soundar riya ram ram ram ram ram soundar riya ram riya ram riya ram riya ram ram ram ram soundar soundar ram soundar riya ram soundar ram soundar riya riya soundar soundar ram ram riya riya riya soundar soundar soundar riya ram ram soundar soundar riya riya soundar soundar soundar riya ram riya soundar soundar riya ram ram soundar ram riya soundar soundar ram riya ram riya riya riya riya riya ram ram soundar ram soundar riya soundar ram soundar riya soundar ram soundar soundar soundar riya soundar ram riya riya soundar riya ram soundar soundar riya ram soundar soundar soundar soundar soundar riya riya riya soundar soundar soundar soundar ram riya soundar ram ram ram ram soundar riya soundar ram soundar soundar riya soundar riya riya riya ram riya riya ram ram riya riya soundar riya soundar ram riya soundar riya riya riya riya ram riya riya soundar ram riya soundar riya riya soundar ram riya riya riya soundar ram ram ram soundar soundar soundar ram riya ram soundar riya ram riya ram ram riya soundar riya riya ram soundar riya ram ram riya ram ram riya ram ram riya riya ram riya riya riya soundar ram soundar riya soundar riya soundar riya ram soundar soundar soundar soundar ram ram ram soundar soundar soundar riya ram soundar riya soundar ram soundar riya soundar soundar soundar ram ram ram ram ram riya ram soundar riya ram riya soundar soundar ram ram ram soundar ram ram ram riya riya riya ram riya soundar riya riya soundar soundar soundar ram ram ram soundar ram riya ram riya riya ram ram soundar soundar ram riya ram soundar soundar soundar soundar riya riya soundar ram ram riya ram riya ram riya riya ram ram soundar ram riya riya soundar soundar riya ram soundar ram ram riya riya soundar ram soundar ram riya riya riya ram ram soundar ram ram riya soundar soundar riya ram riya riya riya soundar riya soundar riya ram ram ram soundar riya riya soundar soundar soundar riya ram ram riya ram riya ram riya ram riya riya ram ram ram riya riya soundar soundar riya ram ram ram riya ram ram ram ram riya ram riya soundar soundar riya soundar riya riya soundar ram riya soundar riya ram riya soundar riya ram riya ram soundar riya ram riya soundar soundar ram riya riya ram riya soundar riya riya riya soundar riya riya riya riya riya ram riya riya ram riya soundar riya ram riya ram riya riya soundar soundar riya riya soundar ram soundar riya riya soundar riya ram soundar riya soundar riya ram ram ram ram soundar soundar riya soundar riya riya ram riya ram soundar riya ram ram riya soundar soundar soundar riya riya ram soundar soundar riya soundar ram riya ram soundar riya riya riya riya soundar riya riya riya soundar ram soundar riya riya riya soundar ram ram soundar soundar riya ram ram riya soundar soundar soundar riya riya ram riya soundar ram soundar riya soundar ram ram soundar soundar ram soundar ram soundar soundar soundar riya soundar soundar ram ram soundar soundar riya riya ram soundar riya ram riya riya ram soundar riya ram soundar ram ram ram soundar ram ram riya riya soundar ram soundar riya soundar riya riya riya ram soundar soundar ram ram soundar ram ram soundar riya riya ram riya soundar soundar ram ram riya ram riya ram riya riya soundar riya soundar ram soundar ram soundar riya riya ram soundar riya riya soundar ram riya soundar ram ram riya soundar ram riya ram soundar soundar riya riya soundar soundar riya ram riya soundar riya ram ram ram riya riya ram soundar soundar soundar riya soundar riya ram riya ram riya ram riya ram ram soundar ram ram ram riya riya riya soundar ram ram ram ram riya ram ram riya soundar riya riya riya soundar ram riya riya ram soundar ram riya ram soundar ram soundar soundar riya soundar ram ram soundar riya soundar ram ram ram riya riya ram soundar ram riya riya soundar ram riya riya riya soundar soundar soundar soundar riya riya soundar soundar ram soundar soundar ram soundar ram ram ram ram ram soundar riya ram riya soundar soundar soundar ram riya ram soundar soundar riya ram riya riya ram soundar ram riya soundar soundar riya riya ram soundar soundar ram ram riya riya ram soundar soundar ram ram soundar riya riya riya soundar ram soundar ram ram soundar soundar soundar ram riya ram ram riya soundar ram riya riya riya ram riya riya ram ram ram riya soundar soundar riya riya ram riya ram riya ram soundar riya ram ram ram ram riya soundar ram soundar soundar soundar riya riya riya ram ram soundar ram riya ram ram riya ram soundar ram soundar soundar soundar riya soundar riya soundar soundar soundar soundar riya riya riya riya soundar ram riya ram riya soundar riya riya ram riya soundar soundar ram soundar ram soundar riya riya riya soundar riya riya riya soundar ram riya riya ram soundar riya riya ram riya ram soundar ram soundar ram riya ram ram ram ram ram riya riya ram ram ram ram ram riya ram soundar ram ram riya riya soundar ram ram soundar ram ram ram soundar ram soundar soundar soundar ram riya soundar ram riya soundar soundar ram soundar riya riya soundar riya soundar riya ram ram soundar ram soundar ram riya soundar soundar ram ram soundar soundar soundar riya soundar riya soundar soundar riya ram riya riya soundar riya ram ram soundar riya soundar soundar soundar riya riya soundar riya riya ram riya riya ram soundar ram riya ram soundar ram soundar soundar riya riya riya riya ram ram riya riya ram riya ram ram soundar ram riya soundar ram ram soundar soundar ram ram ram ram riya soundar ram riya soundar ram ram riya soundar ram ram ram ram ram soundar ram soundar ram ram riya ram soundar soundar riya riya soundar riya riya riya ram soundar ram soundar ram soundar ram ram soundar ram riya ram ram ram riya soundar ram ram riya riya riya riya ram riya ram riya ram ram ram ram soundar soundar riya riya soundar ram soundar ram ram soundar ram soundar soundar riya riya ram ram riya ram soundar soundar soundar ram ram ram soundar riya riya ram soundar soundar soundar soundar riya ram soundar ram soundar ram ram ram ram soundar riya riya riya soundar soundar ram riya ram soundar riya riya ram riya ram ram soundar riya riya soundar ram riya soundar soundar riya soundar ram ram riya riya soundar soundar ram ram soundar ram ram ram ram soundar soundar soundar soundar riya soundar riya soundar soundar riya ram riya riya riya riya ram ram ram ram soundar soundar soundar soundar soundar riya riya soundar soundar riya ram soundar soundar ram ram ram ram ram ram ram riya ram soundar soundar riya ram soundar riya soundar ram ram riya soundar riya soundar ram ram riya riya ram soundar soundar ram soundar riya riya ram ram soundar ram ram soundar ram soundar riya riya riya ram soundar riya ram soundar soundar soundar ram ram riya soundar ram riya ram riya riya ram ram ram soundar ram ram ram ram riya soundar soundar riya soundar riya soundar riya riya soundar riya soundar ram riya soundar riya soundar riya riya riya riya riya soundar soundar ram riya soundar ram soundar riya soundar riya soundar ram ram riya ram ram soundar ram soundar ram riya soundar ram ram soundar soundar ram ram soundar riya ram soundar soundar soundar ram ram ram riya soundar soundar soundar soundar riya riya soundar ram riya riya riya ram riya riya ram ram riya riya ram soundar soundar riya riya riya riya ram riya soundar ram ram soundar ram ram ram ram ram soundar riya ram riya soundar soundar riya riya soundar riya ram ram ram riya ram riya riya ram riya ram ram riya soundar riya soundar soundar ram soundar riya ram ram riya ram riya riya soundar riya riya riya ram ram soundar ram soundar riya soundar ram ram riya ram soundar riya ram riya soundar riya riya ram ram riya ram riya soundar soundar ram ram riya soundar soundar riya riya ram riya riya ram riya riya riya ram riya riya riya ram ram ram ram ram ram ram riya ram ram ram riya ram ram ram ram ram soundar ram ram riya soundar soundar ram ram riya ram ram riya soundar riya soundar soundar soundar riya riya ram riya soundar riya riya ram riya ram ram ram soundar soundar riya ram ram ram riya ram soundar riya ram soundar soundar ram ram ram soundar ram riya ram riya soundar ram riya ram soundar riya ram soundar soundar soundar ram ram soundar soundar riya ram soundar soundar ram riya riya ram riya ram riya ram riya ram riya soundar riya riya ram soundar ram riya soundar riya ram ram riya ram soundar ram ram ram ram soundar riya riya ram riya soundar ram soundar soundar soundar ram ram soundar soundar ram ram soundar riya riya ram ram ram soundar ram ram riya soundar riya soundar riya soundar riya soundar ram riya soundar riya ram ram soundar ram ram ram ram soundar riya soundar ram soundar riya riya soundar riya soundar riya ram ram riya ram soundar riya soundar riya soundar riya soundar ram soundar ram ram soundar ram riya soundar riya ram soundar soundar soundar ram ram riya soundar ram riya soundar riya soundar riya ram ram ram riya riya riya riya riya soundar riya soundar soundar soundar ram ram soundar soundar soundar ram ram ram riya soundar riya riya soundar ram soundar ram ram ram soundar ram ram ram soundar soundar riya ram riya "
     ]
    },
    {
     "name": "stdout",
     "output_type": "stream",
     "text": [
      "ram ram riya riya riya soundar soundar ram ram ram soundar ram riya ram soundar soundar ram soundar riya riya riya soundar soundar riya ram soundar riya riya soundar riya soundar soundar soundar ram ram soundar riya riya riya soundar riya riya riya riya ram riya soundar ram ram riya riya soundar ram ram soundar ram soundar riya ram riya soundar riya soundar soundar ram ram riya ram soundar soundar soundar soundar soundar soundar soundar riya soundar soundar riya riya riya soundar riya ram ram soundar soundar riya riya riya riya riya ram riya ram soundar soundar ram ram ram ram ram soundar ram soundar riya ram ram soundar ram soundar ram ram ram soundar ram riya ram ram ram riya riya ram riya ram riya ram ram riya riya ram soundar soundar ram ram soundar ram riya ram ram riya soundar soundar ram riya soundar ram soundar soundar soundar riya riya ram soundar ram soundar riya ram ram ram riya ram riya ram ram soundar riya ram ram riya ram soundar soundar ram riya soundar soundar ram riya soundar riya riya riya soundar soundar ram ram ram riya soundar riya ram soundar riya soundar soundar ram soundar ram ram riya riya ram soundar riya ram riya soundar ram soundar ram soundar riya riya riya ram ram soundar riya riya soundar riya riya soundar ram soundar riya soundar soundar riya soundar riya soundar riya riya riya ram ram soundar riya riya soundar soundar ram soundar soundar ram riya riya soundar soundar ram ram riya riya soundar soundar ram soundar riya soundar riya riya soundar ram riya ram ram soundar ram ram ram soundar soundar ram riya ram soundar riya riya riya riya soundar soundar ram soundar soundar riya ram soundar soundar riya soundar ram riya soundar ram ram ram riya ram riya soundar riya soundar riya soundar soundar ram soundar riya ram soundar riya soundar ram riya riya riya riya riya ram soundar riya soundar riya riya riya riya ram ram riya riya riya riya riya soundar riya ram soundar riya riya soundar ram soundar soundar ram riya ram ram riya ram riya soundar riya soundar ram soundar ram ram soundar riya soundar riya soundar riya riya ram soundar riya riya riya ram riya soundar ram ram soundar riya soundar ram ram soundar soundar ram riya ram ram riya ram ram soundar riya soundar riya riya riya soundar soundar soundar ram riya soundar ram soundar soundar soundar ram ram riya riya soundar riya riya soundar riya ram soundar riya soundar ram riya ram ram soundar soundar riya soundar ram soundar soundar ram soundar riya ram soundar soundar ram soundar ram riya ram ram riya riya soundar soundar soundar ram riya soundar ram soundar soundar ram riya soundar riya riya riya soundar ram riya ram ram ram riya soundar riya soundar soundar ram riya riya ram ram soundar ram soundar ram soundar ram riya soundar riya riya soundar soundar riya ram soundar riya soundar ram riya ram ram ram ram riya soundar ram riya riya soundar ram soundar ram riya soundar ram riya ram riya ram soundar soundar soundar ram riya soundar ram ram ram riya soundar riya riya riya ram soundar soundar soundar ram soundar riya soundar ram ram ram ram ram riya riya riya soundar soundar soundar soundar soundar ram soundar ram soundar soundar ram riya riya soundar riya soundar soundar ram riya ram soundar ram ram ram riya soundar soundar ram riya soundar soundar ram riya riya ram soundar ram soundar soundar ram ram riya soundar riya riya ram soundar riya soundar ram ram ram ram soundar soundar riya ram ram soundar ram ram ram riya riya ram soundar ram riya riya soundar ram soundar soundar riya ram riya riya ram soundar riya soundar soundar riya ram ram ram ram ram riya ram riya ram soundar soundar riya soundar soundar ram soundar ram riya ram soundar soundar ram ram riya riya soundar ram soundar soundar soundar riya riya ram soundar ram ram ram ram riya soundar soundar soundar riya soundar ram ram riya ram riya ram riya riya soundar soundar ram ram ram ram riya riya soundar riya riya ram soundar ram riya riya soundar riya soundar riya riya soundar ram ram ram riya soundar riya soundar soundar soundar ram ram soundar ram ram ram ram soundar soundar ram ram soundar ram ram soundar ram ram ram riya soundar ram ram ram soundar ram soundar ram ram ram riya soundar soundar riya soundar ram soundar soundar riya riya soundar soundar ram ram riya riya soundar riya soundar riya ram ram riya riya soundar soundar ram ram ram riya soundar riya riya ram riya ram riya ram soundar ram soundar ram riya soundar ram riya ram soundar soundar riya soundar riya riya ram ram riya ram soundar soundar riya ram riya ram ram ram riya ram soundar ram riya riya soundar ram soundar ram soundar ram soundar ram soundar riya soundar soundar soundar riya ram ram ram riya riya riya ram ram ram riya soundar riya soundar soundar riya soundar riya riya riya soundar soundar riya ram ram riya ram ram riya soundar soundar riya riya ram soundar soundar ram soundar riya soundar riya ram riya riya soundar ram riya riya ram ram ram soundar soundar soundar ram soundar riya riya ram riya ram soundar ram soundar soundar ram soundar soundar soundar riya soundar soundar ram ram soundar ram riya riya soundar soundar soundar soundar soundar soundar soundar riya ram riya riya soundar riya soundar ram ram soundar soundar ram ram riya riya soundar soundar riya riya ram soundar riya soundar ram riya riya ram ram ram soundar soundar riya soundar riya ram soundar riya ram soundar ram soundar soundar soundar soundar soundar soundar soundar soundar ram riya soundar ram riya soundar soundar riya riya ram riya riya ram ram soundar soundar soundar soundar riya riya soundar riya soundar ram ram riya ram riya ram riya soundar soundar soundar ram ram riya riya soundar ram soundar ram soundar riya soundar soundar ram ram ram ram riya ram ram ram ram soundar ram riya ram soundar soundar ram soundar ram riya riya riya soundar ram riya soundar riya ram ram ram soundar riya riya soundar ram ram ram ram soundar riya riya soundar soundar soundar soundar riya ram riya soundar ram riya ram riya ram riya soundar ram riya soundar soundar ram ram ram riya riya ram ram soundar ram soundar soundar ram ram soundar ram riya soundar riya riya ram riya riya ram soundar riya riya riya soundar ram soundar ram riya soundar riya ram soundar ram ram ram riya riya soundar ram ram riya ram riya riya riya riya riya ram ram riya riya soundar riya ram ram ram riya riya ram soundar riya ram soundar soundar riya riya ram riya soundar riya ram ram ram soundar soundar riya ram riya soundar riya soundar ram soundar ram riya riya riya riya soundar ram ram ram riya riya ram soundar riya soundar ram riya soundar soundar soundar ram soundar ram riya soundar soundar ram ram soundar ram riya ram soundar soundar ram soundar soundar riya riya ram ram riya riya riya ram ram ram riya riya riya soundar ram riya ram riya ram soundar ram soundar riya ram soundar riya soundar soundar riya soundar riya ram ram soundar riya riya ram riya ram ram soundar riya riya ram ram ram ram soundar soundar riya soundar ram ram riya soundar riya soundar riya soundar ram riya soundar soundar riya riya soundar riya riya soundar soundar ram riya soundar ram riya soundar ram ram soundar ram riya ram soundar ram riya riya ram riya soundar ram ram soundar ram ram soundar soundar riya riya ram riya ram ram riya ram soundar ram ram soundar riya soundar soundar ram ram riya riya ram ram riya riya soundar soundar soundar soundar riya soundar riya soundar soundar riya ram riya soundar soundar ram ram ram soundar soundar ram riya ram riya ram riya ram ram soundar soundar riya ram soundar soundar ram riya riya riya ram ram soundar riya ram soundar riya riya soundar riya ram soundar ram riya ram riya ram riya riya riya riya ram riya ram soundar riya ram ram ram ram ram riya ram riya ram soundar soundar ram riya ram soundar ram ram ram soundar ram soundar riya riya soundar soundar ram riya soundar ram soundar riya ram ram ram riya riya ram soundar soundar soundar ram soundar ram soundar ram soundar ram riya soundar ram soundar riya riya soundar soundar ram riya riya ram ram riya riya soundar ram soundar riya ram riya ram soundar ram soundar soundar soundar riya soundar soundar ram soundar ram riya ram riya ram soundar riya riya riya ram soundar soundar riya riya ram soundar ram ram soundar riya ram ram riya ram riya ram ram riya soundar riya soundar riya ram soundar riya riya riya soundar ram riya ram riya riya riya ram riya soundar ram soundar ram riya riya riya ram riya ram ram ram riya riya soundar ram riya soundar soundar riya riya ram ram soundar riya ram ram ram ram riya soundar riya riya riya soundar ram ram soundar soundar riya soundar riya riya soundar ram soundar soundar ram ram ram ram soundar soundar soundar riya soundar soundar ram ram soundar ram riya riya soundar ram soundar riya soundar soundar riya soundar riya ram riya ram soundar ram riya riya ram riya ram soundar soundar soundar ram riya riya soundar riya riya soundar soundar soundar ram soundar soundar soundar ram soundar ram riya ram soundar ram soundar soundar soundar riya riya ram riya riya ram ram soundar ram soundar ram soundar riya riya ram soundar riya ram ram riya riya ram riya soundar ram ram ram soundar riya riya riya soundar riya ram ram ram soundar ram riya soundar ram ram soundar ram soundar ram ram soundar soundar riya riya soundar ram soundar ram riya ram soundar ram ram riya riya soundar riya ram soundar riya soundar riya ram soundar soundar ram riya soundar ram riya ram soundar soundar riya soundar riya ram ram riya riya riya riya ram soundar soundar soundar ram soundar riya soundar riya ram ram riya ram soundar riya riya ram soundar riya soundar ram ram soundar ram soundar ram soundar soundar ram riya soundar riya soundar soundar riya riya riya riya riya soundar ram riya soundar ram riya ram riya riya soundar riya ram ram soundar ram ram riya ram riya ram soundar riya ram riya riya ram riya soundar ram soundar riya riya soundar soundar riya riya riya soundar ram riya riya riya soundar ram ram ram riya ram ram soundar riya riya soundar ram ram riya ram ram riya soundar soundar riya soundar ram riya soundar soundar ram ram ram riya ram soundar riya riya riya soundar ram ram riya riya soundar soundar riya soundar soundar ram riya riya ram ram ram riya soundar ram soundar ram ram riya ram soundar riya soundar riya soundar ram riya riya ram ram ram riya ram riya ram ram ram soundar ram ram soundar riya soundar riya soundar ram soundar riya ram riya soundar riya ram soundar soundar soundar ram soundar riya soundar riya soundar riya soundar ram soundar riya riya soundar ram riya ram riya ram riya ram ram riya soundar soundar soundar riya riya soundar riya soundar soundar riya soundar riya ram ram soundar riya ram riya riya riya riya ram soundar ram riya ram soundar soundar ram ram ram riya riya soundar soundar soundar soundar soundar riya ram riya riya soundar soundar soundar ram riya soundar riya soundar riya riya soundar riya ram ram riya ram ram soundar riya ram riya ram ram riya soundar riya ram riya riya ram soundar ram riya riya riya ram soundar ram soundar riya riya riya soundar ram soundar soundar ram soundar riya soundar soundar riya ram riya ram soundar ram soundar riya ram ram soundar riya riya riya soundar soundar soundar riya ram riya riya riya riya ram riya riya ram ram ram riya ram ram ram soundar riya ram ram soundar riya riya soundar soundar ram ram riya ram soundar soundar soundar riya riya riya ram soundar ram riya riya soundar soundar riya ram ram riya soundar ram soundar riya riya ram riya soundar soundar ram riya riya riya soundar soundar ram soundar riya ram soundar soundar riya riya ram riya riya ram soundar soundar soundar soundar soundar ram soundar riya soundar riya riya soundar soundar soundar riya soundar soundar soundar riya ram riya soundar soundar riya ram soundar ram soundar riya soundar soundar soundar ram ram soundar soundar ram riya ram riya soundar soundar riya ram soundar ram soundar soundar soundar riya riya soundar ram riya riya ram ram soundar riya soundar riya riya riya soundar riya soundar riya soundar ram ram soundar ram riya riya ram soundar soundar soundar ram riya riya soundar ram ram riya riya ram riya riya ram soundar ram riya ram ram soundar riya ram soundar riya ram soundar soundar riya ram "
     ]
    },
    {
     "name": "stdout",
     "output_type": "stream",
     "text": [
      "soundar riya riya riya soundar soundar soundar ram riya ram ram soundar soundar riya riya riya riya riya ram soundar ram soundar ram soundar soundar soundar soundar riya riya riya ram soundar soundar soundar riya ram soundar riya ram riya riya riya ram ram riya soundar soundar ram riya ram ram soundar soundar ram ram riya riya riya soundar riya ram riya soundar ram soundar ram ram riya ram riya riya soundar ram soundar riya soundar soundar ram riya ram ram ram riya riya soundar riya riya riya riya riya soundar riya soundar riya ram soundar riya soundar soundar ram ram soundar ram soundar riya ram ram riya riya ram riya soundar riya soundar ram riya ram riya ram riya riya ram riya soundar soundar riya soundar soundar riya ram riya ram soundar riya soundar riya soundar soundar ram riya riya riya riya riya ram soundar ram soundar ram soundar riya ram riya soundar riya riya ram ram riya soundar ram riya ram soundar ram riya soundar soundar soundar riya ram ram riya ram soundar soundar ram ram riya ram ram riya riya riya ram riya riya soundar ram riya ram riya riya ram ram riya soundar ram ram ram soundar ram soundar soundar riya soundar ram ram soundar soundar riya soundar soundar soundar riya riya soundar ram soundar soundar soundar riya soundar ram riya soundar ram soundar soundar soundar ram riya soundar soundar riya soundar riya riya soundar riya riya riya soundar riya soundar soundar soundar ram riya riya ram ram ram riya ram soundar riya ram soundar ram soundar ram riya soundar riya ram ram ram soundar ram soundar ram ram riya ram soundar ram soundar riya soundar ram riya soundar ram soundar soundar riya riya soundar ram soundar soundar riya soundar soundar riya ram ram riya soundar riya ram soundar soundar soundar ram soundar soundar ram soundar soundar soundar riya ram riya riya riya ram soundar soundar soundar ram ram riya ram riya riya riya riya riya soundar ram riya riya riya ram soundar riya riya ram ram ram soundar soundar riya soundar riya riya riya soundar ram soundar soundar soundar riya soundar soundar ram ram ram riya riya soundar soundar riya riya riya riya soundar riya ram ram soundar ram ram riya soundar soundar riya soundar riya riya riya riya ram ram riya riya riya riya soundar soundar ram riya ram riya soundar soundar riya soundar soundar soundar soundar ram soundar riya ram soundar soundar soundar riya ram riya riya ram ram soundar ram soundar riya soundar riya soundar riya ram soundar soundar soundar ram riya soundar soundar soundar ram soundar riya riya soundar ram soundar soundar ram soundar riya soundar ram riya soundar ram ram riya soundar riya riya soundar soundar soundar soundar soundar riya ram ram soundar riya riya ram ram ram soundar soundar soundar ram riya riya soundar riya soundar soundar soundar soundar ram ram soundar ram ram ram riya riya ram riya ram ram riya riya riya soundar riya ram ram riya soundar riya soundar ram ram ram ram riya ram riya riya riya riya ram riya riya soundar ram riya riya soundar riya riya soundar ram riya riya ram soundar soundar riya ram soundar ram soundar soundar riya soundar ram soundar ram soundar riya soundar soundar soundar riya riya soundar riya riya ram soundar riya ram soundar soundar riya ram ram riya soundar ram ram soundar soundar soundar ram riya soundar riya ram riya riya ram riya riya soundar soundar ram soundar ram riya soundar riya soundar soundar riya soundar riya soundar soundar soundar ram riya ram ram soundar riya riya soundar ram soundar soundar soundar soundar soundar soundar riya riya riya ram ram ram ram riya soundar soundar soundar riya soundar soundar riya riya riya riya soundar soundar riya riya riya riya soundar soundar ram ram ram riya soundar ram riya ram riya riya riya riya riya riya soundar ram soundar ram ram soundar riya riya riya riya riya riya riya riya riya ram riya riya ram ram soundar soundar ram ram soundar ram ram ram soundar soundar soundar soundar ram ram ram soundar ram riya riya riya soundar ram soundar ram riya soundar soundar riya riya ram soundar ram ram soundar riya riya ram ram riya riya ram riya ram ram soundar soundar ram ram riya riya riya ram soundar soundar ram riya riya ram ram riya riya soundar soundar ram riya riya ram ram ram soundar riya ram riya riya soundar ram soundar ram ram soundar soundar riya soundar soundar soundar ram soundar soundar ram ram soundar ram soundar riya ram ram riya ram ram soundar riya soundar ram ram riya ram soundar ram riya riya ram ram riya riya riya soundar ram riya riya riya ram soundar soundar soundar ram soundar riya soundar ram riya soundar soundar soundar riya soundar ram ram ram riya soundar ram riya riya ram soundar soundar soundar riya riya soundar riya ram soundar riya riya riya riya ram riya ram ram ram soundar riya riya ram ram ram riya riya soundar riya riya soundar riya ram riya riya soundar soundar soundar soundar riya ram soundar soundar ram soundar ram ram riya ram riya soundar ram ram riya soundar soundar soundar riya ram soundar ram soundar soundar ram ram riya soundar soundar riya riya soundar riya ram ram soundar ram soundar soundar ram soundar riya riya riya soundar ram soundar soundar soundar soundar ram soundar ram ram riya riya riya riya riya soundar ram soundar ram soundar soundar ram ram ram riya soundar ram ram soundar soundar soundar ram soundar ram ram ram riya soundar riya riya riya ram ram soundar soundar ram riya soundar ram soundar riya soundar soundar riya riya soundar ram ram riya soundar ram ram ram riya soundar riya riya ram ram soundar riya soundar ram soundar riya ram riya ram soundar soundar ram soundar ram soundar ram riya ram soundar soundar soundar ram soundar ram riya riya riya soundar soundar riya riya ram riya ram riya soundar riya riya soundar soundar riya riya ram riya soundar soundar ram soundar ram ram soundar ram soundar soundar ram riya soundar riya ram riya ram ram riya soundar soundar ram riya ram soundar riya ram soundar riya ram riya soundar soundar riya soundar ram ram ram ram ram soundar riya ram ram riya ram ram ram soundar ram ram soundar ram ram ram riya ram soundar ram soundar riya riya riya ram soundar soundar soundar ram riya soundar soundar soundar ram soundar riya soundar riya ram ram ram soundar ram ram riya soundar riya soundar ram ram ram soundar ram soundar ram ram riya riya riya ram soundar soundar ram ram soundar ram ram riya soundar riya ram ram ram riya ram ram soundar soundar riya soundar ram ram riya ram riya ram riya riya riya riya riya riya riya soundar riya riya riya riya riya soundar ram riya ram riya soundar soundar riya soundar riya ram soundar riya soundar soundar soundar soundar soundar ram soundar soundar ram soundar riya ram soundar riya soundar soundar ram ram soundar ram soundar ram riya riya soundar soundar ram soundar ram ram riya ram riya riya ram ram riya soundar soundar riya soundar soundar soundar ram riya ram riya riya riya ram ram riya riya ram riya soundar ram riya soundar soundar soundar soundar ram riya riya ram ram soundar soundar riya soundar soundar riya soundar soundar ram riya soundar soundar riya ram ram ram ram ram soundar soundar soundar ram riya ram riya riya soundar soundar ram soundar soundar riya soundar soundar soundar riya soundar ram ram riya riya riya ram ram soundar soundar soundar riya ram soundar ram ram riya riya soundar ram soundar ram ram riya riya soundar soundar riya soundar ram soundar ram ram soundar riya riya riya ram ram soundar ram soundar soundar ram riya ram soundar ram ram soundar ram riya soundar ram soundar ram soundar soundar ram riya ram ram riya riya ram soundar ram soundar riya riya soundar soundar ram riya riya soundar riya soundar ram riya riya ram ram soundar riya ram soundar ram ram ram soundar riya ram ram ram soundar riya ram soundar soundar riya riya ram ram ram ram riya ram riya soundar soundar ram riya soundar riya ram soundar riya riya riya ram ram soundar riya riya ram soundar soundar soundar soundar riya ram soundar soundar soundar soundar ram soundar soundar soundar soundar ram ram soundar riya soundar soundar riya ram ram ram riya soundar ram riya soundar soundar soundar ram soundar soundar soundar riya ram soundar soundar riya ram ram riya riya soundar riya riya ram soundar soundar soundar ram riya soundar riya soundar ram ram riya riya soundar ram ram ram riya ram riya soundar ram soundar soundar ram riya riya soundar ram riya soundar soundar riya riya riya soundar ram ram riya soundar soundar riya soundar soundar ram soundar riya riya soundar soundar ram soundar riya riya soundar ram riya ram ram ram riya ram riya soundar soundar ram ram soundar riya riya soundar riya soundar ram soundar ram ram ram ram riya soundar ram riya ram riya riya riya ram ram ram soundar riya riya soundar ram ram soundar ram ram riya riya ram ram soundar ram ram soundar soundar ram soundar riya riya ram riya soundar riya soundar ram soundar ram riya soundar riya ram soundar soundar riya ram ram soundar ram soundar riya riya ram soundar riya ram riya riya soundar riya ram riya ram soundar riya soundar soundar ram soundar ram riya soundar ram riya ram riya ram riya ram soundar soundar soundar ram soundar riya ram riya soundar ram soundar riya ram soundar ram soundar soundar riya ram soundar ram soundar riya riya soundar riya soundar ram riya ram soundar ram ram riya soundar riya riya soundar soundar riya riya riya soundar ram soundar ram riya riya ram ram soundar ram riya riya soundar soundar soundar riya ram ram ram soundar ram ram soundar soundar ram soundar soundar riya soundar soundar riya soundar soundar ram ram riya riya soundar riya riya riya riya riya ram riya riya riya soundar riya riya riya riya riya riya riya riya ram riya riya riya ram ram soundar ram riya soundar ram ram riya ram riya riya ram soundar riya riya ram soundar ram riya ram soundar riya ram ram riya riya riya ram soundar riya riya riya soundar soundar ram riya ram riya soundar soundar ram ram soundar riya ram ram ram soundar soundar ram riya riya riya riya soundar ram soundar soundar soundar riya soundar soundar ram riya soundar soundar soundar riya ram riya soundar ram riya soundar ram soundar riya soundar soundar ram ram riya soundar ram ram soundar soundar soundar ram soundar riya soundar ram riya ram ram soundar ram riya riya riya ram soundar soundar ram soundar riya soundar ram riya riya riya riya ram riya riya ram ram riya ram riya riya riya ram soundar riya riya ram ram ram ram ram riya soundar ram soundar riya soundar ram soundar ram soundar ram soundar riya ram soundar soundar ram soundar soundar riya soundar ram riya soundar ram soundar riya ram ram ram riya riya ram ram riya riya ram riya riya riya ram ram soundar soundar riya ram riya riya soundar ram riya soundar ram ram soundar soundar soundar soundar "
     ]
    },
    {
     "name": "stdout",
     "output_type": "stream",
     "text": [
      "ram riya ram ram soundar ram ram soundar ram soundar riya soundar ram ram soundar soundar ram soundar riya soundar soundar soundar riya ram riya soundar riya riya ram ram ram riya soundar riya ram riya ram riya riya ram ram soundar ram riya soundar soundar riya riya soundar ram ram ram ram riya ram ram ram riya ram soundar soundar ram ram soundar riya soundar ram riya riya ram soundar ram ram soundar soundar riya ram riya soundar ram ram soundar soundar ram ram riya ram soundar ram ram ram ram ram soundar ram riya ram riya soundar soundar riya soundar soundar riya soundar riya riya soundar ram riya soundar riya soundar riya riya soundar ram ram soundar ram soundar ram soundar ram ram ram soundar riya soundar soundar riya riya soundar soundar soundar riya ram riya soundar ram ram soundar ram soundar riya riya soundar soundar riya soundar soundar soundar soundar soundar soundar soundar riya soundar ram soundar riya soundar soundar riya riya ram ram riya riya riya ram soundar riya soundar soundar riya ram riya soundar ram ram ram riya soundar soundar soundar ram soundar soundar riya ram soundar ram soundar ram ram ram soundar ram soundar soundar riya riya soundar riya soundar ram ram soundar ram soundar riya ram riya ram ram soundar ram ram soundar riya riya soundar ram riya ram soundar ram riya riya riya riya soundar riya ram soundar ram riya soundar riya soundar riya riya riya riya soundar soundar riya soundar riya ram riya soundar riya soundar soundar soundar riya riya riya riya riya ram riya soundar ram riya riya soundar riya soundar soundar ram soundar soundar ram riya riya ram soundar ram riya riya soundar ram riya riya riya riya ram soundar riya ram ram soundar soundar soundar riya ram ram ram ram riya soundar riya ram soundar ram ram ram riya soundar riya riya soundar ram riya ram riya ram ram ram riya riya soundar soundar soundar ram ram riya soundar soundar riya riya soundar soundar riya ram soundar ram soundar soundar riya soundar ram ram riya ram riya ram ram soundar riya ram ram soundar soundar ram riya soundar riya soundar riya ram riya ram ram ram soundar ram riya riya riya soundar riya soundar riya riya ram ram ram ram soundar soundar soundar soundar soundar riya soundar ram riya soundar riya soundar ram riya soundar soundar soundar soundar ram soundar ram soundar riya ram ram ram ram riya riya riya soundar ram ram riya soundar soundar ram soundar ram soundar ram ram riya ram ram riya riya soundar ram ram soundar riya ram soundar ram riya soundar riya soundar soundar soundar ram ram soundar soundar riya ram ram ram ram ram soundar soundar riya soundar riya riya riya ram soundar soundar soundar riya ram soundar riya ram ram riya ram riya riya soundar ram ram soundar soundar riya riya ram soundar soundar soundar riya riya riya soundar riya riya riya riya soundar soundar soundar soundar ram soundar ram ram soundar ram soundar riya soundar soundar ram ram riya riya soundar riya riya ram soundar riya riya soundar riya soundar soundar ram ram riya riya ram ram soundar riya ram soundar soundar ram soundar soundar riya riya ram ram soundar riya ram soundar soundar ram ram ram riya soundar riya riya ram soundar soundar ram ram soundar riya riya riya soundar ram riya riya riya ram soundar riya soundar ram soundar ram soundar ram ram ram ram riya ram ram riya ram soundar soundar ram riya soundar ram ram soundar ram riya ram soundar ram soundar riya soundar soundar riya ram riya ram ram riya soundar soundar ram ram soundar soundar ram ram soundar soundar ram riya riya soundar riya riya ram riya riya riya soundar soundar soundar soundar riya soundar soundar riya ram ram ram ram riya soundar soundar riya soundar riya ram soundar soundar riya riya soundar ram soundar soundar ram riya riya soundar soundar riya soundar soundar riya riya riya soundar riya ram riya ram riya ram ram ram soundar ram soundar soundar ram ram soundar ram riya riya ram soundar riya riya ram soundar ram ram ram ram riya riya ram riya ram soundar soundar riya soundar soundar riya soundar riya soundar ram soundar riya ram ram ram ram soundar riya soundar ram riya riya soundar soundar riya soundar soundar riya ram riya soundar soundar soundar ram riya ram soundar ram ram riya ram soundar ram ram riya riya ram ram riya riya soundar riya ram soundar riya soundar soundar riya riya ram riya riya soundar riya soundar riya soundar soundar ram riya riya riya soundar soundar soundar riya ram soundar ram soundar soundar ram soundar ram soundar riya soundar soundar soundar soundar soundar soundar ram ram soundar soundar riya ram soundar ram ram soundar soundar soundar soundar ram soundar ram riya ram ram soundar soundar riya ram riya ram soundar soundar ram riya riya ram riya ram ram soundar soundar soundar ram ram riya riya riya soundar ram ram ram riya soundar soundar ram soundar riya ram riya riya ram soundar soundar soundar soundar ram riya riya ram soundar ram ram riya soundar soundar soundar riya soundar riya riya soundar riya riya riya ram ram riya soundar soundar ram riya ram riya soundar soundar soundar soundar riya soundar soundar soundar riya soundar ram riya ram soundar riya soundar ram soundar ram soundar soundar riya ram riya riya ram soundar ram riya riya ram ram soundar ram soundar riya soundar ram ram ram soundar soundar ram riya ram ram soundar soundar ram riya soundar soundar soundar riya ram ram soundar riya riya riya riya riya riya ram riya ram ram riya riya ram ram ram soundar soundar ram ram riya riya riya ram ram ram riya ram riya soundar soundar soundar soundar soundar soundar soundar riya riya riya ram soundar ram soundar ram soundar ram riya soundar soundar ram soundar soundar ram ram soundar soundar ram soundar riya soundar soundar soundar ram ram ram ram ram ram ram ram soundar soundar ram riya riya riya soundar soundar soundar riya riya riya soundar soundar riya riya soundar riya ram riya ram ram soundar soundar ram riya soundar ram ram ram riya riya ram soundar soundar ram ram riya soundar soundar soundar riya ram ram riya ram soundar riya soundar soundar ram riya soundar ram riya riya soundar ram ram riya riya soundar riya soundar ram ram riya soundar ram soundar ram ram soundar ram riya ram soundar soundar riya soundar soundar ram riya riya soundar soundar ram ram ram ram ram ram riya soundar soundar riya soundar ram ram riya soundar ram soundar riya riya soundar riya riya riya soundar soundar riya soundar soundar soundar ram soundar ram soundar riya ram riya ram soundar soundar riya ram ram ram soundar ram riya ram ram ram riya ram ram riya soundar soundar soundar soundar riya soundar riya ram ram soundar soundar riya soundar soundar ram riya ram riya ram riya ram riya ram soundar riya ram soundar ram soundar soundar riya riya riya riya ram soundar soundar ram ram soundar ram ram riya soundar soundar riya riya riya ram soundar riya ram riya soundar soundar soundar ram riya soundar soundar riya ram soundar ram riya soundar riya ram ram riya riya riya soundar riya ram soundar ram soundar soundar ram riya riya soundar ram ram ram ram ram riya soundar riya soundar ram ram soundar ram riya ram ram ram ram soundar soundar ram ram riya ram ram soundar riya ram ram ram riya soundar soundar soundar soundar ram riya riya riya ram ram soundar ram ram riya soundar soundar riya riya ram riya riya riya ram riya riya soundar soundar riya soundar riya riya soundar soundar riya ram riya riya soundar ram riya riya soundar riya soundar soundar ram soundar ram soundar ram riya ram ram ram ram soundar riya riya soundar ram riya ram soundar soundar ram soundar soundar soundar riya ram riya riya riya soundar soundar soundar riya riya soundar riya riya soundar ram soundar soundar ram riya riya ram ram soundar soundar riya ram riya ram soundar ram riya soundar ram ram riya soundar riya ram ram soundar ram ram ram ram soundar ram soundar soundar riya ram riya ram soundar riya soundar ram riya ram riya soundar ram soundar ram soundar riya soundar riya ram riya soundar ram soundar ram riya ram soundar soundar soundar riya ram ram ram soundar ram ram soundar riya ram ram riya riya soundar soundar ram riya soundar soundar soundar soundar ram riya riya riya ram riya ram soundar ram riya ram soundar riya riya soundar riya riya soundar soundar riya ram ram riya ram ram soundar ram riya soundar soundar soundar ram ram ram ram ram soundar ram ram riya riya ram soundar riya soundar ram ram ram riya ram ram riya ram soundar soundar riya riya riya soundar riya riya riya riya soundar soundar soundar riya riya ram riya soundar ram ram soundar riya soundar soundar ram soundar riya soundar soundar soundar soundar ram riya ram ram ram soundar soundar ram riya soundar riya riya soundar ram riya ram riya ram riya ram soundar ram ram riya soundar ram soundar soundar riya ram soundar riya riya ram ram soundar soundar riya soundar soundar riya soundar soundar ram soundar soundar soundar ram riya riya ram soundar ram riya ram ram riya soundar riya riya riya riya soundar riya riya ram soundar riya ram riya ram soundar ram ram ram ram riya ram ram riya soundar ram ram riya ram riya riya soundar ram soundar soundar ram ram riya ram soundar ram soundar riya ram riya riya ram riya soundar soundar ram riya ram ram ram soundar ram riya ram soundar riya riya riya ram soundar ram ram ram riya ram ram riya riya soundar riya riya soundar ram riya ram soundar ram riya ram ram riya riya riya riya soundar riya soundar soundar riya soundar soundar soundar ram ram ram riya soundar riya riya riya soundar soundar riya ram soundar soundar riya ram ram ram riya soundar soundar ram soundar riya ram ram riya ram ram soundar riya ram ram soundar ram riya soundar ram riya ram soundar ram ram ram riya riya ram soundar soundar ram ram ram ram riya ram soundar soundar riya riya ram soundar riya riya ram riya ram ram riya riya ram ram riya soundar riya ram soundar riya soundar soundar ram ram ram riya soundar soundar riya soundar ram ram ram ram riya riya soundar ram soundar ram soundar riya riya soundar riya soundar soundar ram soundar soundar soundar ram riya riya riya soundar ram soundar soundar soundar ram ram riya ram ram ram riya riya riya ram riya riya soundar riya soundar riya riya soundar riya ram ram ram ram ram ram ram ram soundar soundar riya ram riya ram soundar ram ram riya soundar soundar ram soundar riya ram ram soundar riya riya ram ram soundar ram riya riya ram riya soundar soundar soundar ram ram soundar ram riya riya riya soundar riya riya soundar soundar riya riya ram riya soundar soundar ram ram riya ram soundar ram soundar soundar ram soundar soundar soundar ram soundar ram riya riya riya ram riya ram ram soundar soundar riya riya soundar soundar riya riya ram ram soundar riya soundar soundar ram ram riya riya soundar ram riya ram soundar soundar ram ram soundar soundar riya riya soundar riya ram ram soundar riya soundar ram ram ram soundar ram ram soundar soundar ram ram soundar ram soundar ram riya soundar soundar ram soundar soundar riya ram soundar riya riya ram riya ram ram ram riya soundar ram soundar riya riya riya riya ram riya soundar ram riya ram riya soundar ram ram ram soundar ram riya riya ram riya riya soundar soundar soundar soundar ram soundar ram riya ram ram ram ram riya ram ram ram soundar riya riya riya ram ram soundar soundar ram ram ram riya riya soundar ram soundar riya soundar riya soundar riya soundar ram riya soundar soundar riya riya ram ram riya soundar soundar ram riya soundar soundar riya riya riya ram riya ram soundar riya soundar soundar ram soundar soundar riya soundar soundar soundar soundar riya soundar riya soundar riya riya soundar riya riya soundar riya soundar soundar soundar soundar ram riya ram ram soundar soundar riya ram riya soundar ram riya riya riya ram soundar soundar soundar soundar riya ram riya riya soundar soundar soundar soundar soundar riya soundar ram riya soundar soundar riya ram soundar ram riya soundar ram soundar ram soundar riya riya riya riya riya ram riya ram soundar ram soundar ram ram ram riya soundar ram riya ram soundar soundar riya soundar soundar riya ram soundar soundar ram ram soundar ram soundar ram soundar soundar ram ram riya soundar soundar soundar soundar riya ram soundar soundar soundar riya soundar riya riya soundar riya soundar soundar riya ram riya "
     ]
    }
   ],
   "source": [
    "from random import choice\n",
    "s='abcdefghijklmnopqrstuvwxyz'\n",
    "for i in range(1,10000):\n",
    "    print(choice(names),end=\" \")"
   ]
  },
  {
   "cell_type": "code",
   "execution_count": 5,
   "metadata": {},
   "outputs": [
    {
     "name": "stdout",
     "output_type": "stream",
     "text": [
      "ram it is your turn\n",
      "riya it is your turn\n",
      "soundar it is your turn\n",
      "joe it is your turn\n"
     ]
    }
   ],
   "source": [
    "from random import shuffle\n",
    "players=['joe','ram','riya','soundar']\n",
    "shuffle(players)\n",
    "for p in players:\n",
    "    print(p,\"it is your turn\")"
   ]
  },
  {
   "cell_type": "code",
   "execution_count": 6,
   "metadata": {},
   "outputs": [
    {
     "name": "stdout",
     "output_type": "stream",
     "text": [
      "[['riya', 'soundar'], ['ram', 'joe']]\n"
     ]
    }
   ],
   "source": [
    "shuffle(players)\n",
    "teams=[]\n",
    "for i in range(0,len(players),2):\n",
    "    teams.append([players[i],players[i+1]])\n",
    "print(teams)"
   ]
  },
  {
   "cell_type": "code",
   "execution_count": 165,
   "metadata": {},
   "outputs": [
    {
     "name": "stdout",
     "output_type": "stream",
     "text": [
      "hi, this is sowndariya\n",
      "['hi,', 'this', 'is', 'sowndariya']\n"
     ]
    }
   ],
   "source": [
    "user=input()\n",
    "print(user.split())"
   ]
  },
  {
   "cell_type": "code",
   "execution_count": 173,
   "metadata": {},
   "outputs": [
    {
     "name": "stdout",
     "output_type": "stream",
     "text": [
      "idly\n",
      "dlyi\n"
     ]
    }
   ],
   "source": [
    "from random import shuffle\n",
    "user=input()\n",
    "list1=list(user)\n",
    "shuffle(list1)\n",
    "anagram=''.join(list1)\n",
    "print(anagram)\n"
   ]
  },
  {
   "cell_type": "code",
   "execution_count": 174,
   "metadata": {},
   "outputs": [
    {
     "data": {
      "text/plain": [
       "[0, 0, 0, 0, 0, 0, 0, 0, 0]"
      ]
     },
     "execution_count": 174,
     "metadata": {},
     "output_type": "execute_result"
    }
   ],
   "source": [
    "a=[0 for i in range(1,10)]\n",
    "a"
   ]
  },
  {
   "cell_type": "code",
   "execution_count": 175,
   "metadata": {},
   "outputs": [],
   "source": [
    "string = 'Hello'\n",
    "L = [1,14,5,9,12]\n",
    "M = ['one', 'two', 'three', 'four', 'five', 'six']"
   ]
  },
  {
   "cell_type": "code",
   "execution_count": 176,
   "metadata": {},
   "outputs": [
    {
     "data": {
      "text/plain": [
       "[1, 4, 9, 16, 25, 36, 49]"
      ]
     },
     "execution_count": 176,
     "metadata": {},
     "output_type": "execute_result"
    }
   ],
   "source": [
    "sq=[i**2 for i in range(1,8)]\n",
    "sq"
   ]
  },
  {
   "cell_type": "code",
   "execution_count": 177,
   "metadata": {},
   "outputs": [
    {
     "data": {
      "text/plain": [
       "[10, 140, 50, 90, 120]"
      ]
     },
     "execution_count": 177,
     "metadata": {},
     "output_type": "execute_result"
    }
   ],
   "source": [
    "s=[i*10 for i in L]\n",
    "s"
   ]
  },
  {
   "cell_type": "code",
   "execution_count": 178,
   "metadata": {},
   "outputs": [
    {
     "data": {
      "text/plain": [
       "['HH', 'ee', 'll', 'll', 'oo']"
      ]
     },
     "execution_count": 178,
     "metadata": {},
     "output_type": "execute_result"
    }
   ],
   "source": [
    "q=[i*2 for i in string]\n",
    "q"
   ]
  },
  {
   "cell_type": "code",
   "execution_count": 180,
   "metadata": {},
   "outputs": [
    {
     "data": {
      "text/plain": [
       "['o', 't', 't', 'f', 'f', 's']"
      ]
     },
     "execution_count": 180,
     "metadata": {},
     "output_type": "execute_result"
    }
   ],
   "source": [
    "b=[i[0] for i in M]\n",
    "b"
   ]
  },
  {
   "cell_type": "code",
   "execution_count": 181,
   "metadata": {},
   "outputs": [
    {
     "data": {
      "text/plain": [
       "[1, 5, 9]"
      ]
     },
     "execution_count": 181,
     "metadata": {},
     "output_type": "execute_result"
    }
   ],
   "source": [
    "ans=[i for i in L if i%2!=0]\n",
    "ans"
   ]
  },
  {
   "cell_type": "code",
   "execution_count": 182,
   "metadata": {},
   "outputs": [
    {
     "data": {
      "text/plain": [
       "['o', 't', 's']"
      ]
     },
     "execution_count": 182,
     "metadata": {},
     "output_type": "execute_result"
    }
   ],
   "source": [
    "an=[i[0] for i in M if len(i)==3]\n",
    "an"
   ]
  },
  {
   "cell_type": "code",
   "execution_count": 189,
   "metadata": {},
   "outputs": [
    {
     "name": "stdout",
     "output_type": "stream",
     "text": [
      "enter stringsown;'riya\n",
      "sown  riya\n",
      "sown\n",
      "sown 1\n"
     ]
    }
   ],
   "source": [
    "from string import punctuation\n",
    "s=input(\"enter string\")\n",
    "for c in punctuation:\n",
    "    s=s.replace(c,' ')\n",
    "s=s.lower()\n",
    "print(s)\n",
    "l=s.split()\n",
    "word=input()\n",
    "print(word,l.count(word))"
   ]
  },
  {
   "cell_type": "code",
   "execution_count": 190,
   "metadata": {},
   "outputs": [
    {
     "name": "stdout",
     "output_type": "stream",
     "text": [
      "['1', '800', '271', '8281']\n"
     ]
    }
   ],
   "source": [
    "s='1-800-271-8281'\n",
    "print(s.split('-'))"
   ]
  },
  {
   "cell_type": "code",
   "execution_count": 195,
   "metadata": {},
   "outputs": [
    {
     "data": {
      "text/plain": [
       "'ABC'"
      ]
     },
     "execution_count": 195,
     "metadata": {},
     "output_type": "execute_result"
    }
   ],
   "source": [
    "L=['A','B','C']\n",
    "''.join(L)"
   ]
  },
  {
   "cell_type": "code",
   "execution_count": 196,
   "metadata": {},
   "outputs": [
    {
     "data": {
      "text/plain": [
       "[[0, 0], [0, 1], [1, 0], [1, 1]]"
      ]
     },
     "execution_count": 196,
     "metadata": {},
     "output_type": "execute_result"
    }
   ],
   "source": [
    "L=[[i,j] for i in range(0,2) for j in range(0,2)]\n",
    "L"
   ]
  },
  {
   "cell_type": "code",
   "execution_count": 197,
   "metadata": {},
   "outputs": [
    {
     "data": {
      "text/plain": [
       "[[1, 0], [2, 0], [2, 1], [3, 0], [3, 1], [3, 2]]"
      ]
     },
     "execution_count": 197,
     "metadata": {},
     "output_type": "execute_result"
    }
   ],
   "source": [
    "a=[[i,j] for i in range(4) for j in range(i)]\n",
    "a"
   ]
  },
  {
   "cell_type": "code",
   "execution_count": 202,
   "metadata": {},
   "outputs": [
    {
     "name": "stdout",
     "output_type": "stream",
     "text": [
      "[1, 1, 1, 1, 1, 1, 1, 1, 1, 1, 1, 1, 1, 1, 1, 1, 1, 1, 1, 1, 1, 1, 1, 1, 1, 1, 1, 1, 1, 1, 1, 1, 1, 1, 1, 1, 1, 1, 1, 1, 1, 1, 1, 1, 1, 1, 1, 1, 1, 1, 1, 1, 1, 1, 1, 1, 1, 1, 1, 1, 1, 1, 1, 1, 1, 1, 1, 1, 1, 1, 1, 1, 1, 1, 1, 1, 1, 1, 1, 1, 1, 1, 1, 1, 1, 1, 1, 1, 1, 1, 1, 1, 1, 1, 1, 1, 1, 1, 1, 1] "
     ]
    }
   ],
   "source": [
    "L=[i for i in range(1,101)]\n",
    "freq=[L.count(i) for i in range(1,101)]\n",
    "print(freq,end=\" \")"
   ]
  },
  {
   "cell_type": "code",
   "execution_count": 204,
   "metadata": {},
   "outputs": [
    {
     "data": {
      "text/plain": [
       "[[0, 1], [0, 2], [1, 2], [0, 3], [1, 3], [2, 3]]"
      ]
     },
     "execution_count": 204,
     "metadata": {},
     "output_type": "execute_result"
    }
   ],
   "source": [
    "a\n",
    "h=[[y,x] for x,y in a]\n",
    "h"
   ]
  },
  {
   "cell_type": "code",
   "execution_count": 219,
   "metadata": {},
   "outputs": [
    {
     "name": "stdout",
     "output_type": "stream",
     "text": [
      "4 3 6 \n",
      "6 7 8 \n",
      "9 8 7 \n"
     ]
    }
   ],
   "source": [
    "L=[[4,3,6],[6,7,8],[9,8,7]]\n",
    "for r in range(0,3):\n",
    "    for c in range(0,3):\n",
    "        print(L[r][c],end=\" \")\n",
    "    print()"
   ]
  },
  {
   "cell_type": "code",
   "execution_count": 221,
   "metadata": {},
   "outputs": [
    {
     "name": "stdout",
     "output_type": "stream",
     "text": [
      "[[4, 3, 6], [6, 7, 8], [9, 8, 7]]\n"
     ]
    }
   ],
   "source": [
    "from pprint import pprint\n",
    "pprint(L)"
   ]
  },
  {
   "cell_type": "code",
   "execution_count": 224,
   "metadata": {},
   "outputs": [
    {
     "name": "stdout",
     "output_type": "stream",
     "text": [
      "5\n",
      "5\n"
     ]
    }
   ],
   "source": [
    "L=[[4,3,6],[6,7,8],[9,8,7]]\n",
    "count=0\n",
    "for r in range(0,3):\n",
    "    for c in range(0,3):\n",
    "        if L[r][c]%2==0:\n",
    "            count+=1\n",
    "print(count)\n",
    "count=sum([1 for r in range(3) for c in range(3) if L[r][c]%2==0])\n",
    "print(count)"
   ]
  },
  {
   "cell_type": "markdown",
   "metadata": {},
   "source": [
    "Write a program that asks the user for a large integer and inserts commas into it according\n",
    "to the standard American convention for commas in large numbers. For instance, if the user\n",
    "enters 1000000, the output should be 1,000,000.\n"
   ]
  },
  {
   "cell_type": "code",
   "execution_count": 14,
   "metadata": {},
   "outputs": [
    {
     "name": "stdout",
     "output_type": "stream",
     "text": [
      "1258977\n",
      "1,258,977\n"
     ]
    }
   ],
   "source": [
    "user=eval(input())\n",
    "a=str(user)\n",
    "strr=\"\"\n",
    "for i in a:\n",
    "    if a.index(i)==0 or a.index(i)%3==0:\n",
    "        strr=strr+i+','\n",
    "    elif a.index(i)!=0 or a.index(i)%3!=0:\n",
    "        strr=strr+i\n",
    "print(strr)\n",
    "\n",
    "        \n",
    "\n",
    "    \n"
   ]
  },
  {
   "cell_type": "code",
   "execution_count": null,
   "metadata": {},
   "outputs": [],
   "source": [
    "1. Write a program that asks the user to enter a list of integers. Do the following:\n",
    "(a) Print the total number of items in the list.\n",
    "(b) Print the last item in the list.\n",
    "(c) Print the list in reverse order.\n",
    "(d) Print Yes if the list contains a 5 and No otherwise.\n",
    "(e) Print the number of fives in the list.\n",
    "(f) Remove the first and last items from the list, sort the remaining items, and print the\n",
    "result.\n",
    "(g) Print how many integers in the list are less than 5."
   ]
  },
  {
   "cell_type": "code",
   "execution_count": 23,
   "metadata": {},
   "outputs": [
    {
     "name": "stdout",
     "output_type": "stream",
     "text": [
      "enter a list:[1,2,3,5,7,8]\n",
      "6\n",
      "[8, 7, 5, 3, 2, 1]\n",
      "8\n",
      "yes\n",
      "5\n",
      "[2, 3, 5, 7]\n",
      "2\n"
     ]
    },
    {
     "data": {
      "text/plain": [
       "3"
      ]
     },
     "execution_count": 23,
     "metadata": {},
     "output_type": "execute_result"
    }
   ],
   "source": [
    "user=eval(input(\"enter a list:\"))\n",
    "a=len(user)\n",
    "print(a)\n",
    "print(user[::-1])\n",
    "print(user[-1])\n",
    "if 5 in user:\n",
    "    print('yes')\n",
    "else:\n",
    "    print('No')\n",
    "for i in user:\n",
    "    if i==5:\n",
    "        print(i)\n",
    "user.pop(0)\n",
    "user.pop(-1)\n",
    "user.sort()\n",
    "print(user)\n",
    "count=0\n",
    "for j in user:\n",
    "    if j<5:\n",
    "        count+=1\n",
    "print(count)\n",
    "user.pop(1)"
   ]
  },
  {
   "cell_type": "markdown",
   "metadata": {},
   "source": [
    "Write a program that generates a list of 20 random numbers between 1 and 100.\n",
    "(a) Print the list.\n",
    "(b) Print the average of the elements in the list.\n",
    "(c) Print the largest and smallest values in the list.\n",
    "(d) Print the second largest and second smallest entries in the list\n",
    "(e) Print how many even numbers are in the list.\n"
   ]
  },
  {
   "cell_type": "code",
   "execution_count": 39,
   "metadata": {},
   "outputs": [
    {
     "name": "stdout",
     "output_type": "stream",
     "text": [
      "[93, 39, 41, 97, 63, 33, 55, 84, 42, 35, 70, 95, 73, 20, 74, 57, 50, 91, 54, 74, 51]\n",
      "8\n",
      "61.476190476190474\n",
      "20 97\n",
      "33 95\n"
     ]
    }
   ],
   "source": [
    "from random import randint\n",
    "user=[randint(1,100) for i in range(21) ]\n",
    "print(user)\n",
    "count=0\n",
    "for i in user:\n",
    "    if i%2==0:\n",
    "        count+=1\n",
    "print(count)\n",
    "avg=sum(user)/len(user)\n",
    "print(avg)\n",
    "user.sort()\n",
    "print(user[0],end=\" \")\n",
    "print(user[-1])\n",
    "print(user[1],end=\" \")\n",
    "print(user[-2])\n"
   ]
  },
  {
   "cell_type": "markdown",
   "metadata": {},
   "source": [
    "3. Start with the list [8,9,10].\n",
    "Do the following:\n",
    "(a) Set the second entry (index 1) to 17\n",
    "(b) Add 4, 5, and 6 to the end of the list\n",
    "(c) Remove the first entry from the list\n",
    "(d) Sort the list\n",
    "(e) Double the list\n",
    "(f) Insert 25 at index 3\n",
    "The final list should equal [4,5,6,25,10,17,4,5,6,10,17]"
   ]
  },
  {
   "cell_type": "code",
   "execution_count": 51,
   "metadata": {},
   "outputs": [
    {
     "name": "stdout",
     "output_type": "stream",
     "text": [
      "[4, 5, 6, 25, 10, 17, 4, 5, 6, 10, 17]\n"
     ]
    }
   ],
   "source": [
    "user=[8,9,10]\n",
    "user[1]=17\n",
    "user.append(4)\n",
    "user.append(5)\n",
    "user.append(6)\n",
    "user.pop(0)\n",
    "user.sort()\n",
    "user1=user*2\n",
    "user1.insert(3,25)\n",
    "print(user1)"
   ]
  },
  {
   "cell_type": "markdown",
   "metadata": {},
   "source": [
    "Ask the user to enter a list containing numbers between 1 and 12. Then replace all of the\n",
    "entries in the list that are greater than 10 with 10."
   ]
  },
  {
   "cell_type": "code",
   "execution_count": 62,
   "metadata": {},
   "outputs": [
    {
     "name": "stdout",
     "output_type": "stream",
     "text": [
      "enter a list:[12,3]\n",
      "[10, 3]\n"
     ]
    }
   ],
   "source": [
    "user=eval(input(\"enter a list:\"))\n",
    "for i in user:\n",
    "    if i>10:\n",
    "        ind=user.index(i)\n",
    "        user[ind]=10\n",
    "print(user)\n",
    "   "
   ]
  },
  {
   "cell_type": "code",
   "execution_count": null,
   "metadata": {},
   "outputs": [],
   "source": [
    "Ask the user to enter a list of strings. Create a new list that consists of those strings with their\n",
    "first characters removed."
   ]
  },
  {
   "cell_type": "code",
   "execution_count": 72,
   "metadata": {},
   "outputs": [
    {
     "data": {
      "text/plain": [
       "['iya', 'am', 'oundar']"
      ]
     },
     "execution_count": 72,
     "metadata": {},
     "output_type": "execute_result"
    }
   ],
   "source": [
    "user=['riya','ram','soundar']\n",
    "new=[]\n",
    "for i in user:\n",
    "    a=i[1:]\n",
    "    new.append(a)\n",
    "new\n"
   ]
  },
  {
   "cell_type": "code",
   "execution_count": null,
   "metadata": {},
   "outputs": [],
   "source": [
    "Create the following lists using a for loop.\n",
    "(a) A list consisting of the integers 0 through 49\n",
    "(b) A list containing the squares of the integers 1 through 50.\n",
    "(c) The list ['a','bb','ccc','dddd', . . . ] that ends with 26 copies of the letter z"
   ]
  },
  {
   "cell_type": "code",
   "execution_count": 73,
   "metadata": {},
   "outputs": [
    {
     "name": "stdout",
     "output_type": "stream",
     "text": [
      "[0, 1, 2, 3, 4, 5, 6, 7, 8, 9, 10, 11, 12, 13, 14, 15, 16, 17, 18, 19, 20, 21, 22, 23, 24, 25, 26, 27, 28, 29, 30, 31, 32, 33, 34, 35, 36, 37, 38, 39, 40, 41, 42, 43, 44, 45, 46, 47, 48, 49]\n",
      "[2, 4, 6, 8, 10, 12, 14, 16, 18, 20, 22, 24, 26, 28, 30, 32, 34, 36, 38, 40, 42, 44, 46, 48, 50, 52, 54, 56, 58, 60, 62, 64, 66, 68, 70, 72, 74, 76, 78, 80, 82, 84, 86, 88, 90, 92, 94, 96, 98, 100]\n"
     ]
    }
   ],
   "source": [
    "a=[i for i in range(0,50)]\n",
    "b=[i*2 for i in range(1,51)]\n",
    "print(a)\n",
    "print(b)"
   ]
  },
  {
   "cell_type": "code",
   "execution_count": 81,
   "metadata": {},
   "outputs": [
    {
     "name": "stdout",
     "output_type": "stream",
     "text": [
      "a bb ccc dddd eeeee ffffff ggggggg hhhhhhhh iiiiiiiii jjjjjjjjjj kkkkkkkkkkk llllllllllll mmmmmmmmmmmmm nnnnnnnnnnnnnn ooooooooooooooo pppppppppppppppp qqqqqqqqqqqqqqqqq rrrrrrrrrrrrrrrrrr sssssssssssssssssss tttttttttttttttttttt uuuuuuuuuuuuuuuuuuuuu vvvvvvvvvvvvvvvvvvvvvv wwwwwwwwwwwwwwwwwwwwwww xxxxxxxxxxxxxxxxxxxxxxxx yyyyyyyyyyyyyyyyyyyyyyyyy zzzzzzzzzzzzzzzzzzzzzzzzzz "
     ]
    }
   ],
   "source": [
    "\n",
    "a=list('abcdefghijklmnopqrstuvwxyz')\n",
    "count=1\n",
    "for i in a:\n",
    "    print(i*count,end=\" \")\n",
    "    count+=1\n",
    "   "
   ]
  },
  {
   "cell_type": "markdown",
   "metadata": {},
   "source": [
    "Write a program that takes any two lists L and M of the same size and adds their elements\n",
    "together to form a new list N whose elements are sums of the corresponding elements in L\n",
    "and M. For instance, if L=[3,1,4] and M=[1,5,9], then N should equal [4,6,13]."
   ]
  },
  {
   "cell_type": "code",
   "execution_count": 82,
   "metadata": {},
   "outputs": [
    {
     "name": "stdout",
     "output_type": "stream",
     "text": [
      "[4, 6, 13]\n"
     ]
    }
   ],
   "source": [
    "l=[3,1,4]\n",
    "m=[1,5,9]\n",
    "new=[]\n",
    "for i in range(len(l)):\n",
    "    sum=l[i]+m[i]\n",
    "    new.append(sum)\n",
    "print(new)"
   ]
  },
  {
   "cell_type": "code",
   "execution_count": null,
   "metadata": {},
   "outputs": [],
   "source": [
    "Write a program that asks the user for an integer and creates a list that consists of the factors\n",
    "of that integer."
   ]
  },
  {
   "cell_type": "code",
   "execution_count": 84,
   "metadata": {},
   "outputs": [
    {
     "name": "stdout",
     "output_type": "stream",
     "text": [
      "enter an integer:9\n",
      "[1, 3, 9]\n"
     ]
    }
   ],
   "source": [
    "user=eval(input(\"enter an integer:\"))\n",
    "new=[]\n",
    "for i in range(1,user+1):\n",
    "    if user%i==0:\n",
    "        new.append(i)\n",
    "print(new)"
   ]
  },
  {
   "cell_type": "markdown",
   "metadata": {},
   "source": [
    "When playing games where you have to roll two dice, it is nice to know the odds of each\n",
    "roll. For instance, the odds of rolling a 12 are about 3%, and the odds of rolling a 7 are about\n",
    "17%. You can compute these mathematically, but if you don’t know the math, you can write\n",
    "a program to do it. To do this, your program should simulate rolling two dice about 10,000\n",
    "times and compute and print out the percentage of rolls that come out to be 2, 3, 4, . . . , 12."
   ]
  },
  {
   "cell_type": "code",
   "execution_count": null,
   "metadata": {},
   "outputs": [],
   "source": [
    "Write a program that generates 100 random integers that are either 0 or 1. Then find the\n",
    "longest run of zeros, the largest number of zeros in a row. For instance, the longest run of\n",
    "zeros in [1,0,1,1,0,0,0,0,1,0,0] is 4."
   ]
  },
  {
   "cell_type": "code",
   "execution_count": 9,
   "metadata": {},
   "outputs": [
    {
     "name": "stdout",
     "output_type": "stream",
     "text": [
      "39\n"
     ]
    }
   ],
   "source": [
    "from random import randint\n",
    "L=[randint(0,1) for i in range(0,101)]\n",
    "\n",
    "for j in L:\n",
    "    if j == 0:\n",
    "        count+=1\n",
    "    if j==1:\n",
    "        count1+=1\n",
    "print(count1)\n",
    "        "
   ]
  },
  {
   "cell_type": "markdown",
   "metadata": {},
   "source": [
    "Write a program that removes any repeated items from a list so that each item appears at most\n",
    "once. For instance, the list [1,1,2,3,4,3,0,0] would become [1,2,3,4,0]."
   ]
  },
  {
   "cell_type": "code",
   "execution_count": 17,
   "metadata": {},
   "outputs": [
    {
     "data": {
      "text/plain": [
       "[1, 2, 3, 4, 0]"
      ]
     },
     "execution_count": 17,
     "metadata": {},
     "output_type": "execute_result"
    }
   ],
   "source": [
    "lis=[1,1,2,3,4,3,0,0]\n",
    "aa=[]\n",
    "for i in lis:\n",
    "    if i not in aa:\n",
    "        aa.append(i)\n",
    "aa"
   ]
  },
  {
   "cell_type": "code",
   "execution_count": 24,
   "metadata": {},
   "outputs": [
    {
     "name": "stdout",
     "output_type": "stream",
     "text": [
      "enter a temperature(-1000 to quit):-1000\n",
      "fahrenheit: -1768.0\n"
     ]
    }
   ],
   "source": [
    "temp=0\n",
    "while temp!=-1000:\n",
    "    temp=eval(input(\"enter a temperature(-1000 to quit):\"))\n",
    "    print(\"fahrenheit:\", 9/5*temp+32)"
   ]
  },
  {
   "cell_type": "code",
   "execution_count": 2,
   "metadata": {},
   "outputs": [
    {
     "name": "stdout",
     "output_type": "stream",
     "text": [
      "0\n",
      "2\n",
      "4\n",
      "6\n",
      "8\n",
      "10\n",
      "12\n",
      "14\n",
      "16\n",
      "18\n",
      "20\n",
      "22\n",
      "24\n",
      "26\n",
      "28\n",
      "30\n",
      "32\n",
      "34\n",
      "36\n",
      "38\n",
      "40\n",
      "42\n",
      "44\n",
      "46\n",
      "48\n",
      "hi\n"
     ]
    }
   ],
   "source": [
    "i=0\n",
    "while i<50:\n",
    "    print(i)\n",
    "    i+=2\n",
    "print(\"hi\")\n"
   ]
  },
  {
   "cell_type": "code",
   "execution_count": 20,
   "metadata": {},
   "outputs": [
    {
     "name": "stdout",
     "output_type": "stream",
     "text": [
      "enter input:-100\n",
      "fahrenheit: -148.0\n",
      "enter input:-1001\n",
      "fahrenheit: -1769.8\n",
      "enter input:65\n",
      "fahrenheit: 149.0\n",
      "enter input:69\n",
      "fahrenheit: 156.2\n",
      "enter input:1000\n",
      "fahrenheit: 1832.0\n",
      "enter input:-1000\n",
      "bye!\n"
     ]
    }
   ],
   "source": [
    "temp=0\n",
    "while temp!=-1000:\n",
    "    temp=eval(input(\"enter input:\"))\n",
    "    if temp!=-1000:\n",
    "        print(\"fahrenheit:\",9/5*temp+32)\n",
    "    else:\n",
    "        print(\"bye!\")"
   ]
  },
  {
   "cell_type": "code",
   "execution_count": 4,
   "metadata": {},
   "outputs": [
    {
     "name": "stdout",
     "output_type": "stream",
     "text": [
      "1 2 3 4 5 6 7 8 9 10 \n",
      "2 4 6 8 10 12 14 16 18 20 \n",
      "3 6 9 12 15 18 21 24 27 30 \n",
      "4 8 12 16 20 24 28 32 36 40 \n",
      "5 10 15 20 25 30 35 40 45 50 \n",
      "6 12 18 24 30 36 42 48 54 60 \n",
      "7 14 21 28 35 42 49 56 63 70 \n",
      "8 16 24 32 40 48 56 64 72 80 \n",
      "9 18 27 36 45 54 63 72 81 90 \n",
      "10 20 30 40 50 60 70 80 90 100 \n"
     ]
    }
   ],
   "source": [
    "for i in range(1,11):\n",
    "    for j in range(1,11):\n",
    "        print(i*j,end=\" \")\n",
    "    print()"
   ]
  },
  {
   "cell_type": "code",
   "execution_count": 13,
   "metadata": {},
   "outputs": [],
   "source": [
    "points = {'A':1, 'B':3, 'C':3, 'D':2, 'E':1, 'F':4, 'G':2,\n",
    "'H':4, 'I':1, 'J':8, 'K':5, 'L':1, 'M':3, 'N':1,\n",
    "'O':1, 'P':3, 'Q':10, 'R':1, 'S':1, 'T':1, 'U':1,\n",
    "'V':4, 'W':4, 'X':8, 'Y':4, 'Z':10}"
   ]
  },
  {
   "cell_type": "code",
   "execution_count": 23,
   "metadata": {},
   "outputs": [
    {
     "name": "stdout",
     "output_type": "stream",
     "text": [
      "SOUNDARAJAN\n",
      "19\n"
     ]
    }
   ],
   "source": [
    "score=input()\n",
    "sum=0\n",
    "for i in score:\n",
    "        sum=sum+points[i]\n",
    "print(sum)"
   ]
  },
  {
   "cell_type": "code",
   "execution_count": 23,
   "metadata": {},
   "outputs": [
    {
     "name": "stdout",
     "output_type": "stream",
     "text": [
      "0\n",
      "1\n",
      "2\n",
      "3\n",
      "4\n",
      "5\n",
      "6\n",
      "7\n",
      "8\n",
      "9\n"
     ]
    }
   ],
   "source": [
    "i=0\n",
    "while i<10:\n",
    "    print(i)\n",
    "    i+=1"
   ]
  },
  {
   "cell_type": "code",
   "execution_count": 57,
   "metadata": {},
   "outputs": [
    {
     "data": {
      "text/plain": [
       "{'this': 1,\n",
       " 'is': 1,\n",
       " 'my': 2,\n",
       " 'life': 2,\n",
       " ',': 1,\n",
       " 'i': 1,\n",
       " 'have': 1,\n",
       " 'all': 1,\n",
       " 'ryts': 1,\n",
       " 'to': 1,\n",
       " 'take': 1,\n",
       " 'decision': 1,\n",
       " 'in': 1}"
      ]
     },
     "execution_count": 57,
     "metadata": {},
     "output_type": "execute_result"
    }
   ],
   "source": [
    "d=\"this is my life , i have all ryts to take decision in my life\"\n",
    "w=d.split()\n",
    "a={}\n",
    "for i in w:\n",
    "    if i in a:\n",
    "        a[i]=a[i]+1\n",
    "    else:\n",
    "        a[i]=1\n",
    "a"
   ]
  },
  {
   "cell_type": "code",
   "execution_count": 59,
   "metadata": {},
   "outputs": [
    {
     "name": "stdout",
     "output_type": "stream",
     "text": [
      "[1, 2, 3, 4, 5, 676, 8]\n"
     ]
    }
   ],
   "source": [
    "l=[1,1,4,3,2,3,4,5,676,8]\n",
    "s=set()\n",
    "for i in l:\n",
    "    s.add(i)\n",
    "print(list(s))"
   ]
  },
  {
   "cell_type": "code",
   "execution_count": 7,
   "metadata": {},
   "outputs": [
    {
     "name": "stdout",
     "output_type": "stream",
     "text": [
      "*\n",
      "**\n",
      "***\n"
     ]
    }
   ],
   "source": [
    "n=3\n",
    "for i in range(1,n+1):\n",
    "    for j in range(i,i+1):\n",
    "        print(''*(i+2) + '*'*i)"
   ]
  }
 ],
 "metadata": {
  "kernelspec": {
   "display_name": "Python 3",
   "language": "python",
   "name": "python3"
  },
  "language_info": {
   "codemirror_mode": {
    "name": "ipython",
    "version": 3
   },
   "file_extension": ".py",
   "mimetype": "text/x-python",
   "name": "python",
   "nbconvert_exporter": "python",
   "pygments_lexer": "ipython3",
   "version": "3.7.9"
  }
 },
 "nbformat": 4,
 "nbformat_minor": 4
}
