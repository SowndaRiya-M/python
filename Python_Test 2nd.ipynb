{
 "cells": [
  {
   "cell_type": "code",
   "execution_count": 1,
   "metadata": {},
   "outputs": [
    {
     "name": "stdout",
     "output_type": "stream",
     "text": [
      "Enter all the length with space =  \n",
      "1\n",
      "Path of Maximum in length is  =   1\n"
     ]
    }
   ],
   "source": [
    "print(\"Enter all the length with space =  \")\n",
    "\n",
    "paths = [int(i) for i in input().split()]\n",
    "\n",
    "sorting_paths = paths.sort()\n",
    "\n",
    "b = max(paths)\n",
    "\n",
    "print(\"Path of Maximum in length is  =  \",b)"
   ]
  },
  {
   "cell_type": "code",
   "execution_count": 1,
   "metadata": {},
   "outputs": [
    {
     "name": "stdout",
     "output_type": "stream",
     "text": [
      "enter the no of test cases: 1\n",
      "enter the no of blocks: 5\n",
      "enter the blocks: 0 1 2 1 3\n",
      "3\n"
     ]
    }
   ],
   "source": [
    "T=int(input('enter the no of test cases: '))\n",
    "\n",
    "if (T>=1) and (T<=10000):\n",
    "    for i in range(T):\n",
    "        N=int(input('enter the no of blocks: '))\n",
    "        \n",
    "        if (N>=1) and (N<=1e5):\n",
    "            b=input('enter the blocks: ')\n",
    "            l=[]\n",
    "            l1=[]\n",
    "            m=[]\n",
    "            \n",
    "            for i in b:\n",
    "                if i!=' ':\n",
    "                    I=l.append(int(i))\n",
    "                    \n",
    "            for i in l:\n",
    "                l1.append(i)\n",
    "                l1.sort()\n",
    "                \n",
    "            s1=''.join(map(str,l))\n",
    "            \n",
    "            s2=''.join(map(str,l1))\n",
    "            \n",
    "            if s1!=s2:\n",
    "                for b in range(len(l)):\n",
    "                    a=(b-1)\n",
    "                    if l[a]<l[b]:\n",
    "                        m.append(1)\n",
    "                    t=sum(m)\n",
    "                print(t)\n",
    "            elif s1==s2:\n",
    "                print(len(l))"
   ]
  }
 ],
 "metadata": {
  "kernelspec": {
   "display_name": "Python 3",
   "language": "python",
   "name": "python3"
  },
  "language_info": {
   "codemirror_mode": {
    "name": "ipython",
    "version": 3
   },
   "file_extension": ".py",
   "mimetype": "text/x-python",
   "name": "python",
   "nbconvert_exporter": "python",
   "pygments_lexer": "ipython3",
   "version": "3.7.6"
  }
 },
 "nbformat": 4,
 "nbformat_minor": 2
}
